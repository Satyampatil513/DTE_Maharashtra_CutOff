{
  "nbformat": 4,
  "nbformat_minor": 0,
  "metadata": {
    "colab": {
      "provenance": [],
      "mount_file_id": "19LxukWLtDPiOWQFgKx7Eh5FBivebJ_ab",
      "authorship_tag": "ABX9TyMl8U6q+kRq8OoNdcFAqVLS",
      "include_colab_link": true
    },
    "kernelspec": {
      "name": "python3",
      "display_name": "Python 3"
    },
    "language_info": {
      "name": "python"
    }
  },
  "cells": [
    {
      "cell_type": "markdown",
      "metadata": {
        "id": "view-in-github",
        "colab_type": "text"
      },
      "source": [
        "<a href=\"https://colab.research.google.com/github/Satyampatil513/DTE_Maharashtra_CutOff/blob/main/Main.ipynb\" target=\"_parent\"><img src=\"https://colab.research.google.com/assets/colab-badge.svg\" alt=\"Open In Colab\"/></a>"
      ]
    },
    {
      "cell_type": "code",
      "execution_count": 3,
      "metadata": {
        "colab": {
          "base_uri": "https://localhost:8080/"
        },
        "id": "UTrJw-akkGce",
        "outputId": "7c1bfd80-934e-4b70-e14f-b8b3c38a4e79"
      },
      "outputs": [
        {
          "output_type": "stream",
          "name": "stdout",
          "text": [
            "Collecting tabula-py\n",
            "  Downloading tabula_py-2.7.0-py3-none-any.whl (12.0 MB)\n",
            "\u001b[2K     \u001b[90m━━━━━━━━━━━━━━━━━━━━━━━━━━━━━━━━━━━━━━━━\u001b[0m \u001b[32m12.0/12.0 MB\u001b[0m \u001b[31m36.7 MB/s\u001b[0m eta \u001b[36m0:00:00\u001b[0m\n",
            "\u001b[?25hRequirement already satisfied: pandas>=0.25.3 in /usr/local/lib/python3.10/dist-packages (from tabula-py) (1.5.3)\n",
            "Requirement already satisfied: numpy in /usr/local/lib/python3.10/dist-packages (from tabula-py) (1.22.4)\n",
            "Requirement already satisfied: distro in /usr/lib/python3/dist-packages (from tabula-py) (1.7.0)\n",
            "Requirement already satisfied: python-dateutil>=2.8.1 in /usr/local/lib/python3.10/dist-packages (from pandas>=0.25.3->tabula-py) (2.8.2)\n",
            "Requirement already satisfied: pytz>=2020.1 in /usr/local/lib/python3.10/dist-packages (from pandas>=0.25.3->tabula-py) (2022.7.1)\n",
            "Requirement already satisfied: six>=1.5 in /usr/local/lib/python3.10/dist-packages (from python-dateutil>=2.8.1->pandas>=0.25.3->tabula-py) (1.16.0)\n",
            "Installing collected packages: tabula-py\n",
            "Successfully installed tabula-py-2.7.0\n"
          ]
        }
      ],
      "source": [
        "!pip install tabula-py\n"
      ]
    },
    {
      "cell_type": "code",
      "source": [
        "import tabula"
      ],
      "metadata": {
        "id": "cT8mXd5-lGA5"
      },
      "execution_count": 63,
      "outputs": []
    },
    {
      "cell_type": "code",
      "source": [
        "import pandas as pd"
      ],
      "metadata": {
        "id": "NFxyxdzqmlu-"
      },
      "execution_count": 5,
      "outputs": []
    },
    {
      "cell_type": "code",
      "source": [
        "pdf_file = \"/content/2022POSTSSC_CAP1_Cutoff.pdf\"\n",
        "df = tabula.read_pdf(pdf_file,pages=i)"
      ],
      "metadata": {
        "colab": {
          "base_uri": "https://localhost:8080/"
        },
        "id": "oRQEb2P0mUx7",
        "outputId": "71883a68-65df-43c5-ef7f-b9bdbe4023b3"
      },
      "execution_count": 45,
      "outputs": [
        {
          "output_type": "stream",
          "name": "stderr",
          "text": [
            "WARNING:tabula.util:'pages' argument isn't specified.Will extract only from page 1 by default.\n"
          ]
        }
      ]
    },
    {
      "cell_type": "code",
      "source": [],
      "metadata": {
        "colab": {
          "base_uri": "https://localhost:8080/"
        },
        "id": "Y8F700h8PWkJ",
        "outputId": "7761627f-10c7-4135-b047-c9d4d72137ab"
      },
      "execution_count": 12,
      "outputs": [
        {
          "output_type": "execute_result",
          "data": {
            "text/plain": [
              "[  Stage  Unnamed: 0  Unnamed: 1  Unnamed: 2  Unnamed: 3  Unnamed: 4  \\\n",
              " 0   NaN     NGOPENH     NLOPENH       NGSCH       NLSCH      NGNT1H   \n",
              " 1   NaN       47014       45901       61116       32906       89769   \n",
              " 2     I         NaN         NaN         NaN         NaN         NaN   \n",
              " 3   NaN  ( 80.00 %)  ( 80.40 %)  ( 76.20 %)  ( 83.60 %)  ( 67.00 %)   \n",
              " \n",
              "    Unnamed: 5  Unnamed: 6  \n",
              " 0      NGOBCH      NLOBCH  \n",
              " 1       61075       47344  \n",
              " 2         NaN         NaN  \n",
              " 3  ( 76.20 %)  ( 80.00 %)  ,\n",
              "   Stage  Unnamed: 0  Unnamed: 1\n",
              " 0   NaN       NLVJH      NLNT2H\n",
              " 1   NaN       55421      110234\n",
              " 2    II         NaN         NaN\n",
              " 3   NaN  ( 77.80 %)  ( 56.80 %),\n",
              "   Stage  Unnamed: 0  Unnamed: 1\n",
              " 0   NaN     TLOPENH      TLOBCH\n",
              " 1   NaN       34140       47274\n",
              " 2    II         NaN         NaN\n",
              " 3   NaN  ( 83.20 %)  ( 80.00 %),\n",
              "   Stage  Unnamed: 0  Unnamed: 1\n",
              " 0   NaN       TGSCH       TGSTH\n",
              " 1   NaN       11081       31788\n",
              " 2     I         NaN         NaN\n",
              " 3   NaN  ( 89.60 %)  ( 83.80 %),\n",
              "   Stage  Unnamed: 0  Unnamed: 1  Unnamed: 2  Unnamed: 3  Unnamed: 4  \\\n",
              " 0   NaN     NGOPENO     NLOPENO       NGSCO       NLSCO       NGSTO   \n",
              " 1   NaN       23008       31958       38895      118678      111434   \n",
              " 2     I         NaN         NaN         NaN         NaN         NaN   \n",
              " 3   NaN  ( 86.00 %)  ( 83.80 %)  ( 82.00 %)  ( 49.38 %)  ( 55.83 %)   \n",
              " \n",
              "    Unnamed: 5  Unnamed: 6  Unnamed: 7  Unnamed: 8  \n",
              " 0      NGNT1O      NGNT3O      NGOBCO      NLOBCO  \n",
              " 1       34366       43609       28212       35275  \n",
              " 2         NaN         NaN         NaN         NaN  \n",
              " 3  ( 83.20 %)  ( 80.80 %)  ( 84.60 %)  ( 83.00 %)  ]"
            ]
          },
          "metadata": {},
          "execution_count": 12
        }
      ]
    },
    {
      "cell_type": "code",
      "source": [
        "df[0].columns = df[0].iloc[0]\n",
        "\n",
        "# Drop the 3rd row\n",
        "df[0] = df[0].drop(2)\n",
        "\n",
        "# Reset the index\n",
        "df[0] = df[0].reset_index(drop=True)\n",
        "\n",
        "df[0]\n"
      ],
      "metadata": {
        "colab": {
          "base_uri": "https://localhost:8080/",
          "height": 143
        },
        "id": "-cLsrtOHmhH5",
        "outputId": "4a80cbfd-c2df-4032-c16a-557b4498fb4c"
      },
      "execution_count": 46,
      "outputs": [
        {
          "output_type": "execute_result",
          "data": {
            "text/plain": [
              "0  NaN     NGOPENH     NLOPENH       NGSCH       NLSCH      NGNT1H  \\\n",
              "0  NaN     NGOPENH     NLOPENH       NGSCH       NLSCH      NGNT1H   \n",
              "1  NaN       47014       45901       61116       32906       89769   \n",
              "2  NaN  ( 80.00 %)  ( 80.40 %)  ( 76.20 %)  ( 83.60 %)  ( 67.00 %)   \n",
              "\n",
              "0      NGOBCH      NLOBCH  \n",
              "0      NGOBCH      NLOBCH  \n",
              "1       61075       47344  \n",
              "2  ( 76.20 %)  ( 80.00 %)  "
            ],
            "text/html": [
              "\n",
              "\n",
              "  <div id=\"df-86cb384e-aa7b-4b9d-a488-98407370bbfa\">\n",
              "    <div class=\"colab-df-container\">\n",
              "      <div>\n",
              "<style scoped>\n",
              "    .dataframe tbody tr th:only-of-type {\n",
              "        vertical-align: middle;\n",
              "    }\n",
              "\n",
              "    .dataframe tbody tr th {\n",
              "        vertical-align: top;\n",
              "    }\n",
              "\n",
              "    .dataframe thead th {\n",
              "        text-align: right;\n",
              "    }\n",
              "</style>\n",
              "<table border=\"1\" class=\"dataframe\">\n",
              "  <thead>\n",
              "    <tr style=\"text-align: right;\">\n",
              "      <th></th>\n",
              "      <th>NaN</th>\n",
              "      <th>NGOPENH</th>\n",
              "      <th>NLOPENH</th>\n",
              "      <th>NGSCH</th>\n",
              "      <th>NLSCH</th>\n",
              "      <th>NGNT1H</th>\n",
              "      <th>NGOBCH</th>\n",
              "      <th>NLOBCH</th>\n",
              "    </tr>\n",
              "  </thead>\n",
              "  <tbody>\n",
              "    <tr>\n",
              "      <th>0</th>\n",
              "      <td>NaN</td>\n",
              "      <td>NGOPENH</td>\n",
              "      <td>NLOPENH</td>\n",
              "      <td>NGSCH</td>\n",
              "      <td>NLSCH</td>\n",
              "      <td>NGNT1H</td>\n",
              "      <td>NGOBCH</td>\n",
              "      <td>NLOBCH</td>\n",
              "    </tr>\n",
              "    <tr>\n",
              "      <th>1</th>\n",
              "      <td>NaN</td>\n",
              "      <td>47014</td>\n",
              "      <td>45901</td>\n",
              "      <td>61116</td>\n",
              "      <td>32906</td>\n",
              "      <td>89769</td>\n",
              "      <td>61075</td>\n",
              "      <td>47344</td>\n",
              "    </tr>\n",
              "    <tr>\n",
              "      <th>2</th>\n",
              "      <td>NaN</td>\n",
              "      <td>( 80.00 %)</td>\n",
              "      <td>( 80.40 %)</td>\n",
              "      <td>( 76.20 %)</td>\n",
              "      <td>( 83.60 %)</td>\n",
              "      <td>( 67.00 %)</td>\n",
              "      <td>( 76.20 %)</td>\n",
              "      <td>( 80.00 %)</td>\n",
              "    </tr>\n",
              "  </tbody>\n",
              "</table>\n",
              "</div>\n",
              "      <button class=\"colab-df-convert\" onclick=\"convertToInteractive('df-86cb384e-aa7b-4b9d-a488-98407370bbfa')\"\n",
              "              title=\"Convert this dataframe to an interactive table.\"\n",
              "              style=\"display:none;\">\n",
              "\n",
              "  <svg xmlns=\"http://www.w3.org/2000/svg\" height=\"24px\"viewBox=\"0 0 24 24\"\n",
              "       width=\"24px\">\n",
              "    <path d=\"M0 0h24v24H0V0z\" fill=\"none\"/>\n",
              "    <path d=\"M18.56 5.44l.94 2.06.94-2.06 2.06-.94-2.06-.94-.94-2.06-.94 2.06-2.06.94zm-11 1L8.5 8.5l.94-2.06 2.06-.94-2.06-.94L8.5 2.5l-.94 2.06-2.06.94zm10 10l.94 2.06.94-2.06 2.06-.94-2.06-.94-.94-2.06-.94 2.06-2.06.94z\"/><path d=\"M17.41 7.96l-1.37-1.37c-.4-.4-.92-.59-1.43-.59-.52 0-1.04.2-1.43.59L10.3 9.45l-7.72 7.72c-.78.78-.78 2.05 0 2.83L4 21.41c.39.39.9.59 1.41.59.51 0 1.02-.2 1.41-.59l7.78-7.78 2.81-2.81c.8-.78.8-2.07 0-2.86zM5.41 20L4 18.59l7.72-7.72 1.47 1.35L5.41 20z\"/>\n",
              "  </svg>\n",
              "      </button>\n",
              "\n",
              "\n",
              "\n",
              "    <div id=\"df-3c8530d8-2520-4edd-b0a1-ebde777c2f69\">\n",
              "      <button class=\"colab-df-quickchart\" onclick=\"quickchart('df-3c8530d8-2520-4edd-b0a1-ebde777c2f69')\"\n",
              "              title=\"Suggest charts.\"\n",
              "              style=\"display:none;\">\n",
              "\n",
              "<svg xmlns=\"http://www.w3.org/2000/svg\" height=\"24px\"viewBox=\"0 0 24 24\"\n",
              "     width=\"24px\">\n",
              "    <g>\n",
              "        <path d=\"M19 3H5c-1.1 0-2 .9-2 2v14c0 1.1.9 2 2 2h14c1.1 0 2-.9 2-2V5c0-1.1-.9-2-2-2zM9 17H7v-7h2v7zm4 0h-2V7h2v10zm4 0h-2v-4h2v4z\"/>\n",
              "    </g>\n",
              "</svg>\n",
              "      </button>\n",
              "    </div>\n",
              "\n",
              "<style>\n",
              "  .colab-df-quickchart {\n",
              "    background-color: #E8F0FE;\n",
              "    border: none;\n",
              "    border-radius: 50%;\n",
              "    cursor: pointer;\n",
              "    display: none;\n",
              "    fill: #1967D2;\n",
              "    height: 32px;\n",
              "    padding: 0 0 0 0;\n",
              "    width: 32px;\n",
              "  }\n",
              "\n",
              "  .colab-df-quickchart:hover {\n",
              "    background-color: #E2EBFA;\n",
              "    box-shadow: 0px 1px 2px rgba(60, 64, 67, 0.3), 0px 1px 3px 1px rgba(60, 64, 67, 0.15);\n",
              "    fill: #174EA6;\n",
              "  }\n",
              "\n",
              "  [theme=dark] .colab-df-quickchart {\n",
              "    background-color: #3B4455;\n",
              "    fill: #D2E3FC;\n",
              "  }\n",
              "\n",
              "  [theme=dark] .colab-df-quickchart:hover {\n",
              "    background-color: #434B5C;\n",
              "    box-shadow: 0px 1px 3px 1px rgba(0, 0, 0, 0.15);\n",
              "    filter: drop-shadow(0px 1px 2px rgba(0, 0, 0, 0.3));\n",
              "    fill: #FFFFFF;\n",
              "  }\n",
              "</style>\n",
              "\n",
              "    <script>\n",
              "      async function quickchart(key) {\n",
              "        const containerElement = document.querySelector('#' + key);\n",
              "        const charts = await google.colab.kernel.invokeFunction(\n",
              "            'suggestCharts', [key], {});\n",
              "      }\n",
              "    </script>\n",
              "\n",
              "      <script>\n",
              "\n",
              "function displayQuickchartButton(domScope) {\n",
              "  let quickchartButtonEl =\n",
              "    domScope.querySelector('#df-3c8530d8-2520-4edd-b0a1-ebde777c2f69 button.colab-df-quickchart');\n",
              "  quickchartButtonEl.style.display =\n",
              "    google.colab.kernel.accessAllowed ? 'block' : 'none';\n",
              "}\n",
              "\n",
              "        displayQuickchartButton(document);\n",
              "      </script>\n",
              "      <style>\n",
              "    .colab-df-container {\n",
              "      display:flex;\n",
              "      flex-wrap:wrap;\n",
              "      gap: 12px;\n",
              "    }\n",
              "\n",
              "    .colab-df-convert {\n",
              "      background-color: #E8F0FE;\n",
              "      border: none;\n",
              "      border-radius: 50%;\n",
              "      cursor: pointer;\n",
              "      display: none;\n",
              "      fill: #1967D2;\n",
              "      height: 32px;\n",
              "      padding: 0 0 0 0;\n",
              "      width: 32px;\n",
              "    }\n",
              "\n",
              "    .colab-df-convert:hover {\n",
              "      background-color: #E2EBFA;\n",
              "      box-shadow: 0px 1px 2px rgba(60, 64, 67, 0.3), 0px 1px 3px 1px rgba(60, 64, 67, 0.15);\n",
              "      fill: #174EA6;\n",
              "    }\n",
              "\n",
              "    [theme=dark] .colab-df-convert {\n",
              "      background-color: #3B4455;\n",
              "      fill: #D2E3FC;\n",
              "    }\n",
              "\n",
              "    [theme=dark] .colab-df-convert:hover {\n",
              "      background-color: #434B5C;\n",
              "      box-shadow: 0px 1px 3px 1px rgba(0, 0, 0, 0.15);\n",
              "      filter: drop-shadow(0px 1px 2px rgba(0, 0, 0, 0.3));\n",
              "      fill: #FFFFFF;\n",
              "    }\n",
              "  </style>\n",
              "\n",
              "      <script>\n",
              "        const buttonEl =\n",
              "          document.querySelector('#df-86cb384e-aa7b-4b9d-a488-98407370bbfa button.colab-df-convert');\n",
              "        buttonEl.style.display =\n",
              "          google.colab.kernel.accessAllowed ? 'block' : 'none';\n",
              "\n",
              "        async function convertToInteractive(key) {\n",
              "          const element = document.querySelector('#df-86cb384e-aa7b-4b9d-a488-98407370bbfa');\n",
              "          const dataTable =\n",
              "            await google.colab.kernel.invokeFunction('convertToInteractive',\n",
              "                                                     [key], {});\n",
              "          if (!dataTable) return;\n",
              "\n",
              "          const docLinkHtml = 'Like what you see? Visit the ' +\n",
              "            '<a target=\"_blank\" href=https://colab.research.google.com/notebooks/data_table.ipynb>data table notebook</a>'\n",
              "            + ' to learn more about interactive tables.';\n",
              "          element.innerHTML = '';\n",
              "          dataTable['output_type'] = 'display_data';\n",
              "          await google.colab.output.renderOutput(dataTable, element);\n",
              "          const docLink = document.createElement('div');\n",
              "          docLink.innerHTML = docLinkHtml;\n",
              "          element.appendChild(docLink);\n",
              "        }\n",
              "      </script>\n",
              "    </div>\n",
              "  </div>\n"
            ]
          },
          "metadata": {},
          "execution_count": 46
        }
      ]
    },
    {
      "cell_type": "code",
      "source": [
        "!pip install PyPDF2\n"
      ],
      "metadata": {
        "id": "0veuO4xzniWd",
        "colab": {
          "base_uri": "https://localhost:8080/"
        },
        "outputId": "0d45e12c-28ca-4465-d544-20a3b737cdea"
      },
      "execution_count": 15,
      "outputs": [
        {
          "output_type": "stream",
          "name": "stdout",
          "text": [
            "Requirement already satisfied: PyPDF2 in /usr/local/lib/python3.10/dist-packages (3.0.1)\n"
          ]
        }
      ]
    },
    {
      "cell_type": "code",
      "source": [
        "import PyPDF2\n"
      ],
      "metadata": {
        "id": "6hCvshgaQfQh"
      },
      "execution_count": 16,
      "outputs": []
    },
    {
      "cell_type": "code",
      "source": [
        "pdf_reader = PyPDF2.PdfReader(pdf_file)\n"
      ],
      "metadata": {
        "id": "WLW9LP2ZQlHx"
      },
      "execution_count": 18,
      "outputs": []
    },
    {
      "cell_type": "code",
      "source": [
        "len(pdf_reader.pages)\n",
        "for i in range(pdf_reader.pages):\n",
        ""
      ],
      "metadata": {
        "colab": {
          "base_uri": "https://localhost:8080/",
          "height": 130
        },
        "id": "u5S9oad4iWZz",
        "outputId": "610ad209-1df3-49dd-c5b3-258324fe0956"
      },
      "execution_count": 49,
      "outputs": [
        {
          "output_type": "error",
          "ename": "SyntaxError",
          "evalue": "ignored",
          "traceback": [
            "\u001b[0;36m  File \u001b[0;32m\"<ipython-input-49-bc8fbd92c218>\"\u001b[0;36m, line \u001b[0;32m2\u001b[0m\n\u001b[0;31m    for i in range(pdf_reader.pages):\u001b[0m\n\u001b[0m                                     ^\u001b[0m\n\u001b[0;31mSyntaxError\u001b[0m\u001b[0;31m:\u001b[0m incomplete input\n"
          ]
        }
      ]
    },
    {
      "cell_type": "code",
      "source": [
        "page = pdf_reader.pages[1]"
      ],
      "metadata": {
        "id": "OcieotYsQz9O"
      },
      "execution_count": 20,
      "outputs": []
    },
    {
      "cell_type": "code",
      "source": [
        "text=page.extract_text()"
      ],
      "metadata": {
        "id": "0o9NL02aQ9W0"
      },
      "execution_count": 24,
      "outputs": []
    },
    {
      "cell_type": "code",
      "source": [
        "    college_pattern = r\"\\d+ - (.+?)(?=\\n\\d+ - \\w)\"\n",
        "    branch_pattern = r\"\\d+ - (.+?)\\n(.+?)(?=\\n\\d+ - \\w|\\nGovernment Status:)\""
      ],
      "metadata": {
        "id": "EPnEMEwTRE7K"
      },
      "execution_count": 35,
      "outputs": []
    },
    {
      "cell_type": "code",
      "source": [
        "import re"
      ],
      "metadata": {
        "id": "1rnB3QG0T9II"
      },
      "execution_count": 27,
      "outputs": []
    },
    {
      "cell_type": "code",
      "source": [
        "    college_match = re.search(college_pattern, text)\n",
        "    branch_match = re.search(branch_pattern, text)"
      ],
      "metadata": {
        "id": "6ZgZVOFtT13I"
      },
      "execution_count": 36,
      "outputs": []
    },
    {
      "cell_type": "code",
      "source": [
        "college_match"
      ],
      "metadata": {
        "colab": {
          "base_uri": "https://localhost:8080/"
        },
        "id": "GAbC4tQDT44P",
        "outputId": "82c9d44e-cfd0-4bc5-bce5-dcf400085420"
      },
      "execution_count": 37,
      "outputs": [
        {
          "output_type": "execute_result",
          "data": {
            "text/plain": [
              "<re.Match object; span=(252, 293), match='1006 - Government Polytechnic, Murtijapur'>"
            ]
          },
          "metadata": {},
          "execution_count": 37
        }
      ]
    },
    {
      "cell_type": "code",
      "source": [
        "branch_match"
      ],
      "metadata": {
        "colab": {
          "base_uri": "https://localhost:8080/"
        },
        "id": "4KAVbeTSUAGI",
        "outputId": "4ae43450-aba9-4ec5-ddd5-fbce30fac703"
      },
      "execution_count": 38,
      "outputs": [
        {
          "output_type": "execute_result",
          "data": {
            "text/plain": [
              "<re.Match object; span=(252, 323), match='1006 - Government Polytechnic, Murtijapur\\n100619>"
            ]
          },
          "metadata": {},
          "execution_count": 38
        }
      ]
    },
    {
      "cell_type": "code",
      "source": [
        "pattern = r\"(\\d+ - [^\\n]+)\\n(\\d+ - [^\\n]+)\"\n",
        "matches = re.findall(pattern, text)"
      ],
      "metadata": {
        "id": "K9Qpj5mzUC43"
      },
      "execution_count": 41,
      "outputs": []
    },
    {
      "cell_type": "code",
      "source": [
        "matches\n"
      ],
      "metadata": {
        "colab": {
          "base_uri": "https://localhost:8080/"
        },
        "id": "GtWZZpaOZTI_",
        "outputId": "870e1fda-91c5-4a31-fa78-4b4430dde03b"
      },
      "execution_count": 42,
      "outputs": [
        {
          "output_type": "execute_result",
          "data": {
            "text/plain": [
              "[('1006 - Government Polytechnic, Murtijapur',\n",
              "  '100619110 - Civil Engineering')]"
            ]
          },
          "metadata": {},
          "execution_count": 42
        }
      ]
    },
    {
      "cell_type": "code",
      "source": [
        "pattern = r\"(\\d+ - [^\\n]+)\\n(\\d+ - [^\\n]+)\"\n",
        "all_data = []\n",
        "df = pd.DataFrame()\n",
        "df['College']=None\n",
        "df['Branch']=None"
      ],
      "metadata": {
        "id": "CnD7f41njrbu"
      },
      "execution_count": 56,
      "outputs": []
    },
    {
      "cell_type": "code",
      "source": [
        "import PyPDF2\n",
        "pdf_reader = PyPDF2.PdfReader(pdf_file)\n",
        "for i in range(len(pdf_reader.pages)):\n",
        "  page = pdf_reader.pages[i]\n",
        "  text=page.extract_text()\n",
        "  matches = re.findall(pattern, text)\n",
        "  if(matches):\n",
        "   college_name, branch_name = matches[0]\n",
        "  else:\n",
        "    college_name, branch_name = \"\",\"\"\n",
        "  # college_name = college_name.split(\"-\")[1].strip()\n",
        "  # branch_name = branch_name.split(\"-\")[1].strip()\n",
        "  df.at[i, 'College'] = college_name\n",
        "  df.at[i,'Branch'] = branch_name\n",
        "  df2 = tabula.read_pdf(pdf_file,pages=i)\n",
        "  for j in range(len(df2)):\n",
        "    df2[i].columns = df2[i].iloc[0]\n",
        "\n",
        "# Drop the 3rd ro\n",
        "    df2[i] = df2[i].drop(2)\n",
        "\n",
        "# Reset the index\n",
        "    df2[i] = df2[i].reset_index(drop=True)\n",
        "    for columns in df2[i].columns:\n",
        "      if columns!='NaN':\n",
        "\n",
        "        df.at[i, columns] = df.iloc[1, df.columns.get_loc(columns)]\n",
        "\n",
        "\n",
        "\n",
        "\n",
        "\n",
        "\n",
        "        # Save the DataFrame to the CSV file\n",
        "csv_file_path = \"sheet.csv\"\n",
        "df.to_csv(csv_file_path, index=False)\n",
        "print(\"Data has been saved to CSV file.\")"
      ],
      "metadata": {
        "colab": {
          "base_uri": "https://localhost:8080/",
          "height": 710
        },
        "id": "V-jeq3VBZYj5",
        "outputId": "8fd9420a-83a2-40dc-b5a8-277e53ce57f7"
      },
      "execution_count": 57,
      "outputs": [
        {
          "output_type": "stream",
          "name": "stderr",
          "text": [
            "WARNING:tabula.util:'pages' argument isn't specified.Will extract only from page 1 by default.\n"
          ]
        },
        {
          "output_type": "error",
          "ename": "KeyError",
          "evalue": "ignored",
          "traceback": [
            "\u001b[0;31m---------------------------------------------------------------------------\u001b[0m",
            "\u001b[0;31mKeyError\u001b[0m                                  Traceback (most recent call last)",
            "\u001b[0;32m/usr/local/lib/python3.10/dist-packages/pandas/core/indexes/base.py\u001b[0m in \u001b[0;36mget_loc\u001b[0;34m(self, key, method, tolerance)\u001b[0m\n\u001b[1;32m   3801\u001b[0m             \u001b[0;32mtry\u001b[0m\u001b[0;34m:\u001b[0m\u001b[0;34m\u001b[0m\u001b[0;34m\u001b[0m\u001b[0m\n\u001b[0;32m-> 3802\u001b[0;31m                 \u001b[0;32mreturn\u001b[0m \u001b[0mself\u001b[0m\u001b[0;34m.\u001b[0m\u001b[0m_engine\u001b[0m\u001b[0;34m.\u001b[0m\u001b[0mget_loc\u001b[0m\u001b[0;34m(\u001b[0m\u001b[0mcasted_key\u001b[0m\u001b[0;34m)\u001b[0m\u001b[0;34m\u001b[0m\u001b[0;34m\u001b[0m\u001b[0m\n\u001b[0m\u001b[1;32m   3803\u001b[0m             \u001b[0;32mexcept\u001b[0m \u001b[0mKeyError\u001b[0m \u001b[0;32mas\u001b[0m \u001b[0merr\u001b[0m\u001b[0;34m:\u001b[0m\u001b[0;34m\u001b[0m\u001b[0;34m\u001b[0m\u001b[0m\n",
            "\u001b[0;32m/usr/local/lib/python3.10/dist-packages/pandas/_libs/index.pyx\u001b[0m in \u001b[0;36mpandas._libs.index.IndexEngine.get_loc\u001b[0;34m()\u001b[0m\n",
            "\u001b[0;32m/usr/local/lib/python3.10/dist-packages/pandas/_libs/index.pyx\u001b[0m in \u001b[0;36mpandas._libs.index.IndexEngine.get_loc\u001b[0;34m()\u001b[0m\n",
            "\u001b[0;32mpandas/_libs/hashtable_class_helper.pxi\u001b[0m in \u001b[0;36mpandas._libs.hashtable.PyObjectHashTable.get_item\u001b[0;34m()\u001b[0m\n",
            "\u001b[0;32mpandas/_libs/hashtable_class_helper.pxi\u001b[0m in \u001b[0;36mpandas._libs.hashtable.PyObjectHashTable.get_item\u001b[0;34m()\u001b[0m\n",
            "\u001b[0;31mKeyError\u001b[0m: nan",
            "\nThe above exception was the direct cause of the following exception:\n",
            "\u001b[0;31mKeyError\u001b[0m                                  Traceback (most recent call last)",
            "\u001b[0;32m<ipython-input-57-daba8b6adf89>\u001b[0m in \u001b[0;36m<cell line: 3>\u001b[0;34m()\u001b[0m\n\u001b[1;32m     25\u001b[0m       \u001b[0;32mif\u001b[0m \u001b[0mcolumns\u001b[0m\u001b[0;34m!=\u001b[0m\u001b[0;34m'NaN'\u001b[0m\u001b[0;34m:\u001b[0m\u001b[0;34m\u001b[0m\u001b[0;34m\u001b[0m\u001b[0m\n\u001b[1;32m     26\u001b[0m \u001b[0;34m\u001b[0m\u001b[0m\n\u001b[0;32m---> 27\u001b[0;31m         \u001b[0mdf\u001b[0m\u001b[0;34m.\u001b[0m\u001b[0mat\u001b[0m\u001b[0;34m[\u001b[0m\u001b[0mi\u001b[0m\u001b[0;34m,\u001b[0m \u001b[0mcolumns\u001b[0m\u001b[0;34m]\u001b[0m \u001b[0;34m=\u001b[0m \u001b[0mdf\u001b[0m\u001b[0;34m.\u001b[0m\u001b[0miloc\u001b[0m\u001b[0;34m[\u001b[0m\u001b[0;36m1\u001b[0m\u001b[0;34m,\u001b[0m \u001b[0mdf\u001b[0m\u001b[0;34m.\u001b[0m\u001b[0mcolumns\u001b[0m\u001b[0;34m.\u001b[0m\u001b[0mget_loc\u001b[0m\u001b[0;34m(\u001b[0m\u001b[0mcolumns\u001b[0m\u001b[0;34m)\u001b[0m\u001b[0;34m]\u001b[0m\u001b[0;34m\u001b[0m\u001b[0;34m\u001b[0m\u001b[0m\n\u001b[0m\u001b[1;32m     28\u001b[0m \u001b[0;34m\u001b[0m\u001b[0m\n\u001b[1;32m     29\u001b[0m \u001b[0;34m\u001b[0m\u001b[0m\n",
            "\u001b[0;32m/usr/local/lib/python3.10/dist-packages/pandas/core/indexes/base.py\u001b[0m in \u001b[0;36mget_loc\u001b[0;34m(self, key, method, tolerance)\u001b[0m\n\u001b[1;32m   3802\u001b[0m                 \u001b[0;32mreturn\u001b[0m \u001b[0mself\u001b[0m\u001b[0;34m.\u001b[0m\u001b[0m_engine\u001b[0m\u001b[0;34m.\u001b[0m\u001b[0mget_loc\u001b[0m\u001b[0;34m(\u001b[0m\u001b[0mcasted_key\u001b[0m\u001b[0;34m)\u001b[0m\u001b[0;34m\u001b[0m\u001b[0;34m\u001b[0m\u001b[0m\n\u001b[1;32m   3803\u001b[0m             \u001b[0;32mexcept\u001b[0m \u001b[0mKeyError\u001b[0m \u001b[0;32mas\u001b[0m \u001b[0merr\u001b[0m\u001b[0;34m:\u001b[0m\u001b[0;34m\u001b[0m\u001b[0;34m\u001b[0m\u001b[0m\n\u001b[0;32m-> 3804\u001b[0;31m                 \u001b[0;32mraise\u001b[0m \u001b[0mKeyError\u001b[0m\u001b[0;34m(\u001b[0m\u001b[0mkey\u001b[0m\u001b[0;34m)\u001b[0m \u001b[0;32mfrom\u001b[0m \u001b[0merr\u001b[0m\u001b[0;34m\u001b[0m\u001b[0;34m\u001b[0m\u001b[0m\n\u001b[0m\u001b[1;32m   3805\u001b[0m             \u001b[0;32mexcept\u001b[0m \u001b[0mTypeError\u001b[0m\u001b[0;34m:\u001b[0m\u001b[0;34m\u001b[0m\u001b[0;34m\u001b[0m\u001b[0m\n\u001b[1;32m   3806\u001b[0m                 \u001b[0;31m# If we have a listlike key, _check_indexing_error will raise\u001b[0m\u001b[0;34m\u001b[0m\u001b[0;34m\u001b[0m\u001b[0m\n",
            "\u001b[0;31mKeyError\u001b[0m: nan"
          ]
        }
      ]
    },
    {
      "cell_type": "code",
      "source": [
        "import PyPDF2\n",
        "import pandas as pd\n",
        "import re\n",
        "import tabula\n",
        "\n",
        "pdf_reader = PyPDF2.PdfReader(pdf_file)\n",
        "df = pd.DataFrame(columns=[\"College\", \"Branch\"])\n",
        "\n",
        "for i in range(len(pdf_reader.pages)):\n",
        "    page = pdf_reader.pages[i]\n",
        "    text = page.extract_text()\n",
        "    matches = re.findall(pattern, text)\n",
        "\n",
        "    if matches:\n",
        "        college_name, branch_name = matches[0]\n",
        "    else:\n",
        "        college_name, branch_name = \"\", \"\"\n",
        "\n",
        "    df.at[i, 'College'] = college_name\n",
        "    df.at[i, 'Branch'] = branch_name\n",
        "\n",
        "    # Read the data using tabula for the current page (one dataframe per page)\n",
        "    df2_list = tabula.read_pdf(pdf_file, pages=i + 1, multiple_tables=True)\n",
        "    if(i%50==0):\n",
        "      print(i)\n",
        "\n",
        "    for j, df2 in enumerate(df2_list):\n",
        "        df2.columns = df2.iloc[0]\n",
        "        # If df2 has at least 3 rows, drop the 3rd row\n",
        "        if df2.shape[0] >= 3:\n",
        "            df2 = df2.drop(2)\n",
        "\n",
        "        # Reset the index\n",
        "        df2 = df2.reset_index(drop=True)\n",
        "\n",
        "        # Fill the corresponding columns in the main DataFrame (df)\n",
        "        if df2.shape[0] >= 2:  # Check if df2 has at least 2 rows\n",
        "            for col in df2.columns:\n",
        "                if pd.notna(col):  # Check if the column name is not NaN\n",
        "                    df.at[i, col] = df2.iloc[1, df2.columns.get_loc(col)]\n",
        "\n",
        "# Save the DataFrame to the CSV file\n",
        "csv_file_path = \"sheet.csv\"\n",
        "df.to_csv(csv_file_path, index=False)\n",
        "print(\"Data has been saved to CSV file.\")\n"
      ],
      "metadata": {
        "colab": {
          "base_uri": "https://localhost:8080/"
        },
        "id": "6kiN3hxgjkBM",
        "outputId": "f0a09b2c-d5c0-4ead-8e8d-2dc3b9c1ba7a"
      },
      "execution_count": 62,
      "outputs": [
        {
          "metadata": {
            "tags": null
          },
          "name": "stdout",
          "output_type": "stream",
          "text": [
            "0\n",
            "50\n",
            "100\n"
          ]
        },
        {
          "metadata": {
            "tags": null
          },
          "name": "stderr",
          "output_type": "stream",
          "text": [
            "<ipython-input-62-fce11dd3a64a>:40: PerformanceWarning: DataFrame is highly fragmented.  This is usually the result of calling `frame.insert` many times, which has poor performance.  Consider joining all columns at once using pd.concat(axis=1) instead. To get a de-fragmented frame, use `newframe = frame.copy()`\n",
            "  df.at[i, col] = df2.iloc[1, df2.columns.get_loc(col)]\n",
            "<ipython-input-62-fce11dd3a64a>:40: PerformanceWarning: DataFrame is highly fragmented.  This is usually the result of calling `frame.insert` many times, which has poor performance.  Consider joining all columns at once using pd.concat(axis=1) instead. To get a de-fragmented frame, use `newframe = frame.copy()`\n",
            "  df.at[i, col] = df2.iloc[1, df2.columns.get_loc(col)]\n",
            "<ipython-input-62-fce11dd3a64a>:40: PerformanceWarning: DataFrame is highly fragmented.  This is usually the result of calling `frame.insert` many times, which has poor performance.  Consider joining all columns at once using pd.concat(axis=1) instead. To get a de-fragmented frame, use `newframe = frame.copy()`\n",
            "  df.at[i, col] = df2.iloc[1, df2.columns.get_loc(col)]\n",
            "<ipython-input-62-fce11dd3a64a>:40: PerformanceWarning: DataFrame is highly fragmented.  This is usually the result of calling `frame.insert` many times, which has poor performance.  Consider joining all columns at once using pd.concat(axis=1) instead. To get a de-fragmented frame, use `newframe = frame.copy()`\n",
            "  df.at[i, col] = df2.iloc[1, df2.columns.get_loc(col)]\n",
            "<ipython-input-62-fce11dd3a64a>:40: PerformanceWarning: DataFrame is highly fragmented.  This is usually the result of calling `frame.insert` many times, which has poor performance.  Consider joining all columns at once using pd.concat(axis=1) instead. To get a de-fragmented frame, use `newframe = frame.copy()`\n",
            "  df.at[i, col] = df2.iloc[1, df2.columns.get_loc(col)]\n",
            "<ipython-input-62-fce11dd3a64a>:40: PerformanceWarning: DataFrame is highly fragmented.  This is usually the result of calling `frame.insert` many times, which has poor performance.  Consider joining all columns at once using pd.concat(axis=1) instead. To get a de-fragmented frame, use `newframe = frame.copy()`\n",
            "  df.at[i, col] = df2.iloc[1, df2.columns.get_loc(col)]\n",
            "<ipython-input-62-fce11dd3a64a>:40: PerformanceWarning: DataFrame is highly fragmented.  This is usually the result of calling `frame.insert` many times, which has poor performance.  Consider joining all columns at once using pd.concat(axis=1) instead. To get a de-fragmented frame, use `newframe = frame.copy()`\n",
            "  df.at[i, col] = df2.iloc[1, df2.columns.get_loc(col)]\n",
            "<ipython-input-62-fce11dd3a64a>:40: PerformanceWarning: DataFrame is highly fragmented.  This is usually the result of calling `frame.insert` many times, which has poor performance.  Consider joining all columns at once using pd.concat(axis=1) instead. To get a de-fragmented frame, use `newframe = frame.copy()`\n",
            "  df.at[i, col] = df2.iloc[1, df2.columns.get_loc(col)]\n",
            "<ipython-input-62-fce11dd3a64a>:40: PerformanceWarning: DataFrame is highly fragmented.  This is usually the result of calling `frame.insert` many times, which has poor performance.  Consider joining all columns at once using pd.concat(axis=1) instead. To get a de-fragmented frame, use `newframe = frame.copy()`\n",
            "  df.at[i, col] = df2.iloc[1, df2.columns.get_loc(col)]\n",
            "<ipython-input-62-fce11dd3a64a>:40: PerformanceWarning: DataFrame is highly fragmented.  This is usually the result of calling `frame.insert` many times, which has poor performance.  Consider joining all columns at once using pd.concat(axis=1) instead. To get a de-fragmented frame, use `newframe = frame.copy()`\n",
            "  df.at[i, col] = df2.iloc[1, df2.columns.get_loc(col)]\n"
          ]
        },
        {
          "metadata": {
            "tags": null
          },
          "name": "stdout",
          "output_type": "stream",
          "text": [
            "150\n"
          ]
        },
        {
          "metadata": {
            "tags": null
          },
          "name": "stderr",
          "output_type": "stream",
          "text": [
            "<ipython-input-62-fce11dd3a64a>:40: PerformanceWarning: DataFrame is highly fragmented.  This is usually the result of calling `frame.insert` many times, which has poor performance.  Consider joining all columns at once using pd.concat(axis=1) instead. To get a de-fragmented frame, use `newframe = frame.copy()`\n",
            "  df.at[i, col] = df2.iloc[1, df2.columns.get_loc(col)]\n",
            "<ipython-input-62-fce11dd3a64a>:40: PerformanceWarning: DataFrame is highly fragmented.  This is usually the result of calling `frame.insert` many times, which has poor performance.  Consider joining all columns at once using pd.concat(axis=1) instead. To get a de-fragmented frame, use `newframe = frame.copy()`\n",
            "  df.at[i, col] = df2.iloc[1, df2.columns.get_loc(col)]\n",
            "<ipython-input-62-fce11dd3a64a>:40: PerformanceWarning: DataFrame is highly fragmented.  This is usually the result of calling `frame.insert` many times, which has poor performance.  Consider joining all columns at once using pd.concat(axis=1) instead. To get a de-fragmented frame, use `newframe = frame.copy()`\n",
            "  df.at[i, col] = df2.iloc[1, df2.columns.get_loc(col)]\n",
            "<ipython-input-62-fce11dd3a64a>:40: PerformanceWarning: DataFrame is highly fragmented.  This is usually the result of calling `frame.insert` many times, which has poor performance.  Consider joining all columns at once using pd.concat(axis=1) instead. To get a de-fragmented frame, use `newframe = frame.copy()`\n",
            "  df.at[i, col] = df2.iloc[1, df2.columns.get_loc(col)]\n",
            "<ipython-input-62-fce11dd3a64a>:40: PerformanceWarning: DataFrame is highly fragmented.  This is usually the result of calling `frame.insert` many times, which has poor performance.  Consider joining all columns at once using pd.concat(axis=1) instead. To get a de-fragmented frame, use `newframe = frame.copy()`\n",
            "  df.at[i, col] = df2.iloc[1, df2.columns.get_loc(col)]\n",
            "<ipython-input-62-fce11dd3a64a>:40: PerformanceWarning: DataFrame is highly fragmented.  This is usually the result of calling `frame.insert` many times, which has poor performance.  Consider joining all columns at once using pd.concat(axis=1) instead. To get a de-fragmented frame, use `newframe = frame.copy()`\n",
            "  df.at[i, col] = df2.iloc[1, df2.columns.get_loc(col)]\n",
            "<ipython-input-62-fce11dd3a64a>:40: PerformanceWarning: DataFrame is highly fragmented.  This is usually the result of calling `frame.insert` many times, which has poor performance.  Consider joining all columns at once using pd.concat(axis=1) instead. To get a de-fragmented frame, use `newframe = frame.copy()`\n",
            "  df.at[i, col] = df2.iloc[1, df2.columns.get_loc(col)]\n",
            "<ipython-input-62-fce11dd3a64a>:40: PerformanceWarning: DataFrame is highly fragmented.  This is usually the result of calling `frame.insert` many times, which has poor performance.  Consider joining all columns at once using pd.concat(axis=1) instead. To get a de-fragmented frame, use `newframe = frame.copy()`\n",
            "  df.at[i, col] = df2.iloc[1, df2.columns.get_loc(col)]\n",
            "<ipython-input-62-fce11dd3a64a>:40: PerformanceWarning: DataFrame is highly fragmented.  This is usually the result of calling `frame.insert` many times, which has poor performance.  Consider joining all columns at once using pd.concat(axis=1) instead. To get a de-fragmented frame, use `newframe = frame.copy()`\n",
            "  df.at[i, col] = df2.iloc[1, df2.columns.get_loc(col)]\n",
            "<ipython-input-62-fce11dd3a64a>:40: PerformanceWarning: DataFrame is highly fragmented.  This is usually the result of calling `frame.insert` many times, which has poor performance.  Consider joining all columns at once using pd.concat(axis=1) instead. To get a de-fragmented frame, use `newframe = frame.copy()`\n",
            "  df.at[i, col] = df2.iloc[1, df2.columns.get_loc(col)]\n",
            "<ipython-input-62-fce11dd3a64a>:40: PerformanceWarning: DataFrame is highly fragmented.  This is usually the result of calling `frame.insert` many times, which has poor performance.  Consider joining all columns at once using pd.concat(axis=1) instead. To get a de-fragmented frame, use `newframe = frame.copy()`\n",
            "  df.at[i, col] = df2.iloc[1, df2.columns.get_loc(col)]\n",
            "<ipython-input-62-fce11dd3a64a>:40: PerformanceWarning: DataFrame is highly fragmented.  This is usually the result of calling `frame.insert` many times, which has poor performance.  Consider joining all columns at once using pd.concat(axis=1) instead. To get a de-fragmented frame, use `newframe = frame.copy()`\n",
            "  df.at[i, col] = df2.iloc[1, df2.columns.get_loc(col)]\n",
            "<ipython-input-62-fce11dd3a64a>:40: PerformanceWarning: DataFrame is highly fragmented.  This is usually the result of calling `frame.insert` many times, which has poor performance.  Consider joining all columns at once using pd.concat(axis=1) instead. To get a de-fragmented frame, use `newframe = frame.copy()`\n",
            "  df.at[i, col] = df2.iloc[1, df2.columns.get_loc(col)]\n",
            "<ipython-input-62-fce11dd3a64a>:40: PerformanceWarning: DataFrame is highly fragmented.  This is usually the result of calling `frame.insert` many times, which has poor performance.  Consider joining all columns at once using pd.concat(axis=1) instead. To get a de-fragmented frame, use `newframe = frame.copy()`\n",
            "  df.at[i, col] = df2.iloc[1, df2.columns.get_loc(col)]\n",
            "<ipython-input-62-fce11dd3a64a>:40: PerformanceWarning: DataFrame is highly fragmented.  This is usually the result of calling `frame.insert` many times, which has poor performance.  Consider joining all columns at once using pd.concat(axis=1) instead. To get a de-fragmented frame, use `newframe = frame.copy()`\n",
            "  df.at[i, col] = df2.iloc[1, df2.columns.get_loc(col)]\n",
            "<ipython-input-62-fce11dd3a64a>:40: PerformanceWarning: DataFrame is highly fragmented.  This is usually the result of calling `frame.insert` many times, which has poor performance.  Consider joining all columns at once using pd.concat(axis=1) instead. To get a de-fragmented frame, use `newframe = frame.copy()`\n",
            "  df.at[i, col] = df2.iloc[1, df2.columns.get_loc(col)]\n",
            "<ipython-input-62-fce11dd3a64a>:40: PerformanceWarning: DataFrame is highly fragmented.  This is usually the result of calling `frame.insert` many times, which has poor performance.  Consider joining all columns at once using pd.concat(axis=1) instead. To get a de-fragmented frame, use `newframe = frame.copy()`\n",
            "  df.at[i, col] = df2.iloc[1, df2.columns.get_loc(col)]\n",
            "<ipython-input-62-fce11dd3a64a>:40: PerformanceWarning: DataFrame is highly fragmented.  This is usually the result of calling `frame.insert` many times, which has poor performance.  Consider joining all columns at once using pd.concat(axis=1) instead. To get a de-fragmented frame, use `newframe = frame.copy()`\n",
            "  df.at[i, col] = df2.iloc[1, df2.columns.get_loc(col)]\n",
            "<ipython-input-62-fce11dd3a64a>:40: PerformanceWarning: DataFrame is highly fragmented.  This is usually the result of calling `frame.insert` many times, which has poor performance.  Consider joining all columns at once using pd.concat(axis=1) instead. To get a de-fragmented frame, use `newframe = frame.copy()`\n",
            "  df.at[i, col] = df2.iloc[1, df2.columns.get_loc(col)]\n",
            "<ipython-input-62-fce11dd3a64a>:40: PerformanceWarning: DataFrame is highly fragmented.  This is usually the result of calling `frame.insert` many times, which has poor performance.  Consider joining all columns at once using pd.concat(axis=1) instead. To get a de-fragmented frame, use `newframe = frame.copy()`\n",
            "  df.at[i, col] = df2.iloc[1, df2.columns.get_loc(col)]\n",
            "<ipython-input-62-fce11dd3a64a>:40: PerformanceWarning: DataFrame is highly fragmented.  This is usually the result of calling `frame.insert` many times, which has poor performance.  Consider joining all columns at once using pd.concat(axis=1) instead. To get a de-fragmented frame, use `newframe = frame.copy()`\n",
            "  df.at[i, col] = df2.iloc[1, df2.columns.get_loc(col)]\n",
            "<ipython-input-62-fce11dd3a64a>:40: PerformanceWarning: DataFrame is highly fragmented.  This is usually the result of calling `frame.insert` many times, which has poor performance.  Consider joining all columns at once using pd.concat(axis=1) instead. To get a de-fragmented frame, use `newframe = frame.copy()`\n",
            "  df.at[i, col] = df2.iloc[1, df2.columns.get_loc(col)]\n",
            "<ipython-input-62-fce11dd3a64a>:40: PerformanceWarning: DataFrame is highly fragmented.  This is usually the result of calling `frame.insert` many times, which has poor performance.  Consider joining all columns at once using pd.concat(axis=1) instead. To get a de-fragmented frame, use `newframe = frame.copy()`\n",
            "  df.at[i, col] = df2.iloc[1, df2.columns.get_loc(col)]\n",
            "<ipython-input-62-fce11dd3a64a>:40: PerformanceWarning: DataFrame is highly fragmented.  This is usually the result of calling `frame.insert` many times, which has poor performance.  Consider joining all columns at once using pd.concat(axis=1) instead. To get a de-fragmented frame, use `newframe = frame.copy()`\n",
            "  df.at[i, col] = df2.iloc[1, df2.columns.get_loc(col)]\n",
            "<ipython-input-62-fce11dd3a64a>:40: PerformanceWarning: DataFrame is highly fragmented.  This is usually the result of calling `frame.insert` many times, which has poor performance.  Consider joining all columns at once using pd.concat(axis=1) instead. To get a de-fragmented frame, use `newframe = frame.copy()`\n",
            "  df.at[i, col] = df2.iloc[1, df2.columns.get_loc(col)]\n",
            "<ipython-input-62-fce11dd3a64a>:40: PerformanceWarning: DataFrame is highly fragmented.  This is usually the result of calling `frame.insert` many times, which has poor performance.  Consider joining all columns at once using pd.concat(axis=1) instead. To get a de-fragmented frame, use `newframe = frame.copy()`\n",
            "  df.at[i, col] = df2.iloc[1, df2.columns.get_loc(col)]\n",
            "<ipython-input-62-fce11dd3a64a>:40: PerformanceWarning: DataFrame is highly fragmented.  This is usually the result of calling `frame.insert` many times, which has poor performance.  Consider joining all columns at once using pd.concat(axis=1) instead. To get a de-fragmented frame, use `newframe = frame.copy()`\n",
            "  df.at[i, col] = df2.iloc[1, df2.columns.get_loc(col)]\n",
            "<ipython-input-62-fce11dd3a64a>:40: PerformanceWarning: DataFrame is highly fragmented.  This is usually the result of calling `frame.insert` many times, which has poor performance.  Consider joining all columns at once using pd.concat(axis=1) instead. To get a de-fragmented frame, use `newframe = frame.copy()`\n",
            "  df.at[i, col] = df2.iloc[1, df2.columns.get_loc(col)]\n",
            "<ipython-input-62-fce11dd3a64a>:40: PerformanceWarning: DataFrame is highly fragmented.  This is usually the result of calling `frame.insert` many times, which has poor performance.  Consider joining all columns at once using pd.concat(axis=1) instead. To get a de-fragmented frame, use `newframe = frame.copy()`\n",
            "  df.at[i, col] = df2.iloc[1, df2.columns.get_loc(col)]\n"
          ]
        },
        {
          "metadata": {
            "tags": null
          },
          "name": "stdout",
          "output_type": "stream",
          "text": [
            "200\n"
          ]
        },
        {
          "metadata": {
            "tags": null
          },
          "name": "stderr",
          "output_type": "stream",
          "text": [
            "<ipython-input-62-fce11dd3a64a>:40: PerformanceWarning: DataFrame is highly fragmented.  This is usually the result of calling `frame.insert` many times, which has poor performance.  Consider joining all columns at once using pd.concat(axis=1) instead. To get a de-fragmented frame, use `newframe = frame.copy()`\n",
            "  df.at[i, col] = df2.iloc[1, df2.columns.get_loc(col)]\n",
            "<ipython-input-62-fce11dd3a64a>:40: PerformanceWarning: DataFrame is highly fragmented.  This is usually the result of calling `frame.insert` many times, which has poor performance.  Consider joining all columns at once using pd.concat(axis=1) instead. To get a de-fragmented frame, use `newframe = frame.copy()`\n",
            "  df.at[i, col] = df2.iloc[1, df2.columns.get_loc(col)]\n",
            "<ipython-input-62-fce11dd3a64a>:40: PerformanceWarning: DataFrame is highly fragmented.  This is usually the result of calling `frame.insert` many times, which has poor performance.  Consider joining all columns at once using pd.concat(axis=1) instead. To get a de-fragmented frame, use `newframe = frame.copy()`\n",
            "  df.at[i, col] = df2.iloc[1, df2.columns.get_loc(col)]\n",
            "<ipython-input-62-fce11dd3a64a>:40: PerformanceWarning: DataFrame is highly fragmented.  This is usually the result of calling `frame.insert` many times, which has poor performance.  Consider joining all columns at once using pd.concat(axis=1) instead. To get a de-fragmented frame, use `newframe = frame.copy()`\n",
            "  df.at[i, col] = df2.iloc[1, df2.columns.get_loc(col)]\n",
            "<ipython-input-62-fce11dd3a64a>:40: PerformanceWarning: DataFrame is highly fragmented.  This is usually the result of calling `frame.insert` many times, which has poor performance.  Consider joining all columns at once using pd.concat(axis=1) instead. To get a de-fragmented frame, use `newframe = frame.copy()`\n",
            "  df.at[i, col] = df2.iloc[1, df2.columns.get_loc(col)]\n",
            "<ipython-input-62-fce11dd3a64a>:40: PerformanceWarning: DataFrame is highly fragmented.  This is usually the result of calling `frame.insert` many times, which has poor performance.  Consider joining all columns at once using pd.concat(axis=1) instead. To get a de-fragmented frame, use `newframe = frame.copy()`\n",
            "  df.at[i, col] = df2.iloc[1, df2.columns.get_loc(col)]\n",
            "<ipython-input-62-fce11dd3a64a>:40: PerformanceWarning: DataFrame is highly fragmented.  This is usually the result of calling `frame.insert` many times, which has poor performance.  Consider joining all columns at once using pd.concat(axis=1) instead. To get a de-fragmented frame, use `newframe = frame.copy()`\n",
            "  df.at[i, col] = df2.iloc[1, df2.columns.get_loc(col)]\n",
            "<ipython-input-62-fce11dd3a64a>:40: PerformanceWarning: DataFrame is highly fragmented.  This is usually the result of calling `frame.insert` many times, which has poor performance.  Consider joining all columns at once using pd.concat(axis=1) instead. To get a de-fragmented frame, use `newframe = frame.copy()`\n",
            "  df.at[i, col] = df2.iloc[1, df2.columns.get_loc(col)]\n",
            "<ipython-input-62-fce11dd3a64a>:40: PerformanceWarning: DataFrame is highly fragmented.  This is usually the result of calling `frame.insert` many times, which has poor performance.  Consider joining all columns at once using pd.concat(axis=1) instead. To get a de-fragmented frame, use `newframe = frame.copy()`\n",
            "  df.at[i, col] = df2.iloc[1, df2.columns.get_loc(col)]\n",
            "<ipython-input-62-fce11dd3a64a>:40: PerformanceWarning: DataFrame is highly fragmented.  This is usually the result of calling `frame.insert` many times, which has poor performance.  Consider joining all columns at once using pd.concat(axis=1) instead. To get a de-fragmented frame, use `newframe = frame.copy()`\n",
            "  df.at[i, col] = df2.iloc[1, df2.columns.get_loc(col)]\n"
          ]
        },
        {
          "metadata": {
            "tags": null
          },
          "name": "stdout",
          "output_type": "stream",
          "text": [
            "250\n"
          ]
        },
        {
          "metadata": {
            "tags": null
          },
          "name": "stderr",
          "output_type": "stream",
          "text": [
            "<ipython-input-62-fce11dd3a64a>:40: PerformanceWarning: DataFrame is highly fragmented.  This is usually the result of calling `frame.insert` many times, which has poor performance.  Consider joining all columns at once using pd.concat(axis=1) instead. To get a de-fragmented frame, use `newframe = frame.copy()`\n",
            "  df.at[i, col] = df2.iloc[1, df2.columns.get_loc(col)]\n",
            "<ipython-input-62-fce11dd3a64a>:40: PerformanceWarning: DataFrame is highly fragmented.  This is usually the result of calling `frame.insert` many times, which has poor performance.  Consider joining all columns at once using pd.concat(axis=1) instead. To get a de-fragmented frame, use `newframe = frame.copy()`\n",
            "  df.at[i, col] = df2.iloc[1, df2.columns.get_loc(col)]\n",
            "<ipython-input-62-fce11dd3a64a>:40: PerformanceWarning: DataFrame is highly fragmented.  This is usually the result of calling `frame.insert` many times, which has poor performance.  Consider joining all columns at once using pd.concat(axis=1) instead. To get a de-fragmented frame, use `newframe = frame.copy()`\n",
            "  df.at[i, col] = df2.iloc[1, df2.columns.get_loc(col)]\n",
            "<ipython-input-62-fce11dd3a64a>:40: PerformanceWarning: DataFrame is highly fragmented.  This is usually the result of calling `frame.insert` many times, which has poor performance.  Consider joining all columns at once using pd.concat(axis=1) instead. To get a de-fragmented frame, use `newframe = frame.copy()`\n",
            "  df.at[i, col] = df2.iloc[1, df2.columns.get_loc(col)]\n",
            "<ipython-input-62-fce11dd3a64a>:40: PerformanceWarning: DataFrame is highly fragmented.  This is usually the result of calling `frame.insert` many times, which has poor performance.  Consider joining all columns at once using pd.concat(axis=1) instead. To get a de-fragmented frame, use `newframe = frame.copy()`\n",
            "  df.at[i, col] = df2.iloc[1, df2.columns.get_loc(col)]\n",
            "<ipython-input-62-fce11dd3a64a>:40: PerformanceWarning: DataFrame is highly fragmented.  This is usually the result of calling `frame.insert` many times, which has poor performance.  Consider joining all columns at once using pd.concat(axis=1) instead. To get a de-fragmented frame, use `newframe = frame.copy()`\n",
            "  df.at[i, col] = df2.iloc[1, df2.columns.get_loc(col)]\n",
            "<ipython-input-62-fce11dd3a64a>:40: PerformanceWarning: DataFrame is highly fragmented.  This is usually the result of calling `frame.insert` many times, which has poor performance.  Consider joining all columns at once using pd.concat(axis=1) instead. To get a de-fragmented frame, use `newframe = frame.copy()`\n",
            "  df.at[i, col] = df2.iloc[1, df2.columns.get_loc(col)]\n",
            "<ipython-input-62-fce11dd3a64a>:40: PerformanceWarning: DataFrame is highly fragmented.  This is usually the result of calling `frame.insert` many times, which has poor performance.  Consider joining all columns at once using pd.concat(axis=1) instead. To get a de-fragmented frame, use `newframe = frame.copy()`\n",
            "  df.at[i, col] = df2.iloc[1, df2.columns.get_loc(col)]\n",
            "<ipython-input-62-fce11dd3a64a>:40: PerformanceWarning: DataFrame is highly fragmented.  This is usually the result of calling `frame.insert` many times, which has poor performance.  Consider joining all columns at once using pd.concat(axis=1) instead. To get a de-fragmented frame, use `newframe = frame.copy()`\n",
            "  df.at[i, col] = df2.iloc[1, df2.columns.get_loc(col)]\n",
            "<ipython-input-62-fce11dd3a64a>:40: PerformanceWarning: DataFrame is highly fragmented.  This is usually the result of calling `frame.insert` many times, which has poor performance.  Consider joining all columns at once using pd.concat(axis=1) instead. To get a de-fragmented frame, use `newframe = frame.copy()`\n",
            "  df.at[i, col] = df2.iloc[1, df2.columns.get_loc(col)]\n",
            "<ipython-input-62-fce11dd3a64a>:40: PerformanceWarning: DataFrame is highly fragmented.  This is usually the result of calling `frame.insert` many times, which has poor performance.  Consider joining all columns at once using pd.concat(axis=1) instead. To get a de-fragmented frame, use `newframe = frame.copy()`\n",
            "  df.at[i, col] = df2.iloc[1, df2.columns.get_loc(col)]\n",
            "<ipython-input-62-fce11dd3a64a>:40: PerformanceWarning: DataFrame is highly fragmented.  This is usually the result of calling `frame.insert` many times, which has poor performance.  Consider joining all columns at once using pd.concat(axis=1) instead. To get a de-fragmented frame, use `newframe = frame.copy()`\n",
            "  df.at[i, col] = df2.iloc[1, df2.columns.get_loc(col)]\n",
            "<ipython-input-62-fce11dd3a64a>:40: PerformanceWarning: DataFrame is highly fragmented.  This is usually the result of calling `frame.insert` many times, which has poor performance.  Consider joining all columns at once using pd.concat(axis=1) instead. To get a de-fragmented frame, use `newframe = frame.copy()`\n",
            "  df.at[i, col] = df2.iloc[1, df2.columns.get_loc(col)]\n",
            "<ipython-input-62-fce11dd3a64a>:40: PerformanceWarning: DataFrame is highly fragmented.  This is usually the result of calling `frame.insert` many times, which has poor performance.  Consider joining all columns at once using pd.concat(axis=1) instead. To get a de-fragmented frame, use `newframe = frame.copy()`\n",
            "  df.at[i, col] = df2.iloc[1, df2.columns.get_loc(col)]\n",
            "<ipython-input-62-fce11dd3a64a>:40: PerformanceWarning: DataFrame is highly fragmented.  This is usually the result of calling `frame.insert` many times, which has poor performance.  Consider joining all columns at once using pd.concat(axis=1) instead. To get a de-fragmented frame, use `newframe = frame.copy()`\n",
            "  df.at[i, col] = df2.iloc[1, df2.columns.get_loc(col)]\n",
            "<ipython-input-62-fce11dd3a64a>:40: PerformanceWarning: DataFrame is highly fragmented.  This is usually the result of calling `frame.insert` many times, which has poor performance.  Consider joining all columns at once using pd.concat(axis=1) instead. To get a de-fragmented frame, use `newframe = frame.copy()`\n",
            "  df.at[i, col] = df2.iloc[1, df2.columns.get_loc(col)]\n",
            "<ipython-input-62-fce11dd3a64a>:40: PerformanceWarning: DataFrame is highly fragmented.  This is usually the result of calling `frame.insert` many times, which has poor performance.  Consider joining all columns at once using pd.concat(axis=1) instead. To get a de-fragmented frame, use `newframe = frame.copy()`\n",
            "  df.at[i, col] = df2.iloc[1, df2.columns.get_loc(col)]\n"
          ]
        },
        {
          "metadata": {
            "tags": null
          },
          "name": "stdout",
          "output_type": "stream",
          "text": [
            "300\n"
          ]
        },
        {
          "metadata": {
            "tags": null
          },
          "name": "stderr",
          "output_type": "stream",
          "text": [
            "<ipython-input-62-fce11dd3a64a>:40: PerformanceWarning: DataFrame is highly fragmented.  This is usually the result of calling `frame.insert` many times, which has poor performance.  Consider joining all columns at once using pd.concat(axis=1) instead. To get a de-fragmented frame, use `newframe = frame.copy()`\n",
            "  df.at[i, col] = df2.iloc[1, df2.columns.get_loc(col)]\n",
            "<ipython-input-62-fce11dd3a64a>:40: PerformanceWarning: DataFrame is highly fragmented.  This is usually the result of calling `frame.insert` many times, which has poor performance.  Consider joining all columns at once using pd.concat(axis=1) instead. To get a de-fragmented frame, use `newframe = frame.copy()`\n",
            "  df.at[i, col] = df2.iloc[1, df2.columns.get_loc(col)]\n",
            "<ipython-input-62-fce11dd3a64a>:40: PerformanceWarning: DataFrame is highly fragmented.  This is usually the result of calling `frame.insert` many times, which has poor performance.  Consider joining all columns at once using pd.concat(axis=1) instead. To get a de-fragmented frame, use `newframe = frame.copy()`\n",
            "  df.at[i, col] = df2.iloc[1, df2.columns.get_loc(col)]\n",
            "<ipython-input-62-fce11dd3a64a>:40: PerformanceWarning: DataFrame is highly fragmented.  This is usually the result of calling `frame.insert` many times, which has poor performance.  Consider joining all columns at once using pd.concat(axis=1) instead. To get a de-fragmented frame, use `newframe = frame.copy()`\n",
            "  df.at[i, col] = df2.iloc[1, df2.columns.get_loc(col)]\n",
            "<ipython-input-62-fce11dd3a64a>:40: PerformanceWarning: DataFrame is highly fragmented.  This is usually the result of calling `frame.insert` many times, which has poor performance.  Consider joining all columns at once using pd.concat(axis=1) instead. To get a de-fragmented frame, use `newframe = frame.copy()`\n",
            "  df.at[i, col] = df2.iloc[1, df2.columns.get_loc(col)]\n",
            "<ipython-input-62-fce11dd3a64a>:40: PerformanceWarning: DataFrame is highly fragmented.  This is usually the result of calling `frame.insert` many times, which has poor performance.  Consider joining all columns at once using pd.concat(axis=1) instead. To get a de-fragmented frame, use `newframe = frame.copy()`\n",
            "  df.at[i, col] = df2.iloc[1, df2.columns.get_loc(col)]\n",
            "<ipython-input-62-fce11dd3a64a>:40: PerformanceWarning: DataFrame is highly fragmented.  This is usually the result of calling `frame.insert` many times, which has poor performance.  Consider joining all columns at once using pd.concat(axis=1) instead. To get a de-fragmented frame, use `newframe = frame.copy()`\n",
            "  df.at[i, col] = df2.iloc[1, df2.columns.get_loc(col)]\n",
            "<ipython-input-62-fce11dd3a64a>:40: PerformanceWarning: DataFrame is highly fragmented.  This is usually the result of calling `frame.insert` many times, which has poor performance.  Consider joining all columns at once using pd.concat(axis=1) instead. To get a de-fragmented frame, use `newframe = frame.copy()`\n",
            "  df.at[i, col] = df2.iloc[1, df2.columns.get_loc(col)]\n"
          ]
        },
        {
          "metadata": {
            "tags": null
          },
          "name": "stdout",
          "output_type": "stream",
          "text": [
            "350\n"
          ]
        },
        {
          "metadata": {
            "tags": null
          },
          "name": "stderr",
          "output_type": "stream",
          "text": [
            "<ipython-input-62-fce11dd3a64a>:40: PerformanceWarning: DataFrame is highly fragmented.  This is usually the result of calling `frame.insert` many times, which has poor performance.  Consider joining all columns at once using pd.concat(axis=1) instead. To get a de-fragmented frame, use `newframe = frame.copy()`\n",
            "  df.at[i, col] = df2.iloc[1, df2.columns.get_loc(col)]\n",
            "<ipython-input-62-fce11dd3a64a>:40: PerformanceWarning: DataFrame is highly fragmented.  This is usually the result of calling `frame.insert` many times, which has poor performance.  Consider joining all columns at once using pd.concat(axis=1) instead. To get a de-fragmented frame, use `newframe = frame.copy()`\n",
            "  df.at[i, col] = df2.iloc[1, df2.columns.get_loc(col)]\n",
            "<ipython-input-62-fce11dd3a64a>:40: PerformanceWarning: DataFrame is highly fragmented.  This is usually the result of calling `frame.insert` many times, which has poor performance.  Consider joining all columns at once using pd.concat(axis=1) instead. To get a de-fragmented frame, use `newframe = frame.copy()`\n",
            "  df.at[i, col] = df2.iloc[1, df2.columns.get_loc(col)]\n",
            "<ipython-input-62-fce11dd3a64a>:40: PerformanceWarning: DataFrame is highly fragmented.  This is usually the result of calling `frame.insert` many times, which has poor performance.  Consider joining all columns at once using pd.concat(axis=1) instead. To get a de-fragmented frame, use `newframe = frame.copy()`\n",
            "  df.at[i, col] = df2.iloc[1, df2.columns.get_loc(col)]\n",
            "<ipython-input-62-fce11dd3a64a>:40: PerformanceWarning: DataFrame is highly fragmented.  This is usually the result of calling `frame.insert` many times, which has poor performance.  Consider joining all columns at once using pd.concat(axis=1) instead. To get a de-fragmented frame, use `newframe = frame.copy()`\n",
            "  df.at[i, col] = df2.iloc[1, df2.columns.get_loc(col)]\n",
            "<ipython-input-62-fce11dd3a64a>:40: PerformanceWarning: DataFrame is highly fragmented.  This is usually the result of calling `frame.insert` many times, which has poor performance.  Consider joining all columns at once using pd.concat(axis=1) instead. To get a de-fragmented frame, use `newframe = frame.copy()`\n",
            "  df.at[i, col] = df2.iloc[1, df2.columns.get_loc(col)]\n",
            "<ipython-input-62-fce11dd3a64a>:40: PerformanceWarning: DataFrame is highly fragmented.  This is usually the result of calling `frame.insert` many times, which has poor performance.  Consider joining all columns at once using pd.concat(axis=1) instead. To get a de-fragmented frame, use `newframe = frame.copy()`\n",
            "  df.at[i, col] = df2.iloc[1, df2.columns.get_loc(col)]\n",
            "<ipython-input-62-fce11dd3a64a>:40: PerformanceWarning: DataFrame is highly fragmented.  This is usually the result of calling `frame.insert` many times, which has poor performance.  Consider joining all columns at once using pd.concat(axis=1) instead. To get a de-fragmented frame, use `newframe = frame.copy()`\n",
            "  df.at[i, col] = df2.iloc[1, df2.columns.get_loc(col)]\n",
            "<ipython-input-62-fce11dd3a64a>:40: PerformanceWarning: DataFrame is highly fragmented.  This is usually the result of calling `frame.insert` many times, which has poor performance.  Consider joining all columns at once using pd.concat(axis=1) instead. To get a de-fragmented frame, use `newframe = frame.copy()`\n",
            "  df.at[i, col] = df2.iloc[1, df2.columns.get_loc(col)]\n",
            "<ipython-input-62-fce11dd3a64a>:40: PerformanceWarning: DataFrame is highly fragmented.  This is usually the result of calling `frame.insert` many times, which has poor performance.  Consider joining all columns at once using pd.concat(axis=1) instead. To get a de-fragmented frame, use `newframe = frame.copy()`\n",
            "  df.at[i, col] = df2.iloc[1, df2.columns.get_loc(col)]\n",
            "<ipython-input-62-fce11dd3a64a>:40: PerformanceWarning: DataFrame is highly fragmented.  This is usually the result of calling `frame.insert` many times, which has poor performance.  Consider joining all columns at once using pd.concat(axis=1) instead. To get a de-fragmented frame, use `newframe = frame.copy()`\n",
            "  df.at[i, col] = df2.iloc[1, df2.columns.get_loc(col)]\n",
            "<ipython-input-62-fce11dd3a64a>:40: PerformanceWarning: DataFrame is highly fragmented.  This is usually the result of calling `frame.insert` many times, which has poor performance.  Consider joining all columns at once using pd.concat(axis=1) instead. To get a de-fragmented frame, use `newframe = frame.copy()`\n",
            "  df.at[i, col] = df2.iloc[1, df2.columns.get_loc(col)]\n",
            "<ipython-input-62-fce11dd3a64a>:40: PerformanceWarning: DataFrame is highly fragmented.  This is usually the result of calling `frame.insert` many times, which has poor performance.  Consider joining all columns at once using pd.concat(axis=1) instead. To get a de-fragmented frame, use `newframe = frame.copy()`\n",
            "  df.at[i, col] = df2.iloc[1, df2.columns.get_loc(col)]\n",
            "<ipython-input-62-fce11dd3a64a>:40: PerformanceWarning: DataFrame is highly fragmented.  This is usually the result of calling `frame.insert` many times, which has poor performance.  Consider joining all columns at once using pd.concat(axis=1) instead. To get a de-fragmented frame, use `newframe = frame.copy()`\n",
            "  df.at[i, col] = df2.iloc[1, df2.columns.get_loc(col)]\n",
            "<ipython-input-62-fce11dd3a64a>:40: PerformanceWarning: DataFrame is highly fragmented.  This is usually the result of calling `frame.insert` many times, which has poor performance.  Consider joining all columns at once using pd.concat(axis=1) instead. To get a de-fragmented frame, use `newframe = frame.copy()`\n",
            "  df.at[i, col] = df2.iloc[1, df2.columns.get_loc(col)]\n",
            "<ipython-input-62-fce11dd3a64a>:40: PerformanceWarning: DataFrame is highly fragmented.  This is usually the result of calling `frame.insert` many times, which has poor performance.  Consider joining all columns at once using pd.concat(axis=1) instead. To get a de-fragmented frame, use `newframe = frame.copy()`\n",
            "  df.at[i, col] = df2.iloc[1, df2.columns.get_loc(col)]\n",
            "<ipython-input-62-fce11dd3a64a>:40: PerformanceWarning: DataFrame is highly fragmented.  This is usually the result of calling `frame.insert` many times, which has poor performance.  Consider joining all columns at once using pd.concat(axis=1) instead. To get a de-fragmented frame, use `newframe = frame.copy()`\n",
            "  df.at[i, col] = df2.iloc[1, df2.columns.get_loc(col)]\n",
            "<ipython-input-62-fce11dd3a64a>:40: PerformanceWarning: DataFrame is highly fragmented.  This is usually the result of calling `frame.insert` many times, which has poor performance.  Consider joining all columns at once using pd.concat(axis=1) instead. To get a de-fragmented frame, use `newframe = frame.copy()`\n",
            "  df.at[i, col] = df2.iloc[1, df2.columns.get_loc(col)]\n"
          ]
        },
        {
          "metadata": {
            "tags": null
          },
          "name": "stdout",
          "output_type": "stream",
          "text": [
            "400\n"
          ]
        },
        {
          "metadata": {
            "tags": null
          },
          "name": "stderr",
          "output_type": "stream",
          "text": [
            "<ipython-input-62-fce11dd3a64a>:40: PerformanceWarning: DataFrame is highly fragmented.  This is usually the result of calling `frame.insert` many times, which has poor performance.  Consider joining all columns at once using pd.concat(axis=1) instead. To get a de-fragmented frame, use `newframe = frame.copy()`\n",
            "  df.at[i, col] = df2.iloc[1, df2.columns.get_loc(col)]\n",
            "<ipython-input-62-fce11dd3a64a>:40: PerformanceWarning: DataFrame is highly fragmented.  This is usually the result of calling `frame.insert` many times, which has poor performance.  Consider joining all columns at once using pd.concat(axis=1) instead. To get a de-fragmented frame, use `newframe = frame.copy()`\n",
            "  df.at[i, col] = df2.iloc[1, df2.columns.get_loc(col)]\n",
            "<ipython-input-62-fce11dd3a64a>:40: PerformanceWarning: DataFrame is highly fragmented.  This is usually the result of calling `frame.insert` many times, which has poor performance.  Consider joining all columns at once using pd.concat(axis=1) instead. To get a de-fragmented frame, use `newframe = frame.copy()`\n",
            "  df.at[i, col] = df2.iloc[1, df2.columns.get_loc(col)]\n",
            "<ipython-input-62-fce11dd3a64a>:40: PerformanceWarning: DataFrame is highly fragmented.  This is usually the result of calling `frame.insert` many times, which has poor performance.  Consider joining all columns at once using pd.concat(axis=1) instead. To get a de-fragmented frame, use `newframe = frame.copy()`\n",
            "  df.at[i, col] = df2.iloc[1, df2.columns.get_loc(col)]\n",
            "<ipython-input-62-fce11dd3a64a>:40: PerformanceWarning: DataFrame is highly fragmented.  This is usually the result of calling `frame.insert` many times, which has poor performance.  Consider joining all columns at once using pd.concat(axis=1) instead. To get a de-fragmented frame, use `newframe = frame.copy()`\n",
            "  df.at[i, col] = df2.iloc[1, df2.columns.get_loc(col)]\n",
            "<ipython-input-62-fce11dd3a64a>:40: PerformanceWarning: DataFrame is highly fragmented.  This is usually the result of calling `frame.insert` many times, which has poor performance.  Consider joining all columns at once using pd.concat(axis=1) instead. To get a de-fragmented frame, use `newframe = frame.copy()`\n",
            "  df.at[i, col] = df2.iloc[1, df2.columns.get_loc(col)]\n",
            "<ipython-input-62-fce11dd3a64a>:40: PerformanceWarning: DataFrame is highly fragmented.  This is usually the result of calling `frame.insert` many times, which has poor performance.  Consider joining all columns at once using pd.concat(axis=1) instead. To get a de-fragmented frame, use `newframe = frame.copy()`\n",
            "  df.at[i, col] = df2.iloc[1, df2.columns.get_loc(col)]\n",
            "<ipython-input-62-fce11dd3a64a>:40: PerformanceWarning: DataFrame is highly fragmented.  This is usually the result of calling `frame.insert` many times, which has poor performance.  Consider joining all columns at once using pd.concat(axis=1) instead. To get a de-fragmented frame, use `newframe = frame.copy()`\n",
            "  df.at[i, col] = df2.iloc[1, df2.columns.get_loc(col)]\n",
            "<ipython-input-62-fce11dd3a64a>:40: PerformanceWarning: DataFrame is highly fragmented.  This is usually the result of calling `frame.insert` many times, which has poor performance.  Consider joining all columns at once using pd.concat(axis=1) instead. To get a de-fragmented frame, use `newframe = frame.copy()`\n",
            "  df.at[i, col] = df2.iloc[1, df2.columns.get_loc(col)]\n",
            "<ipython-input-62-fce11dd3a64a>:40: PerformanceWarning: DataFrame is highly fragmented.  This is usually the result of calling `frame.insert` many times, which has poor performance.  Consider joining all columns at once using pd.concat(axis=1) instead. To get a de-fragmented frame, use `newframe = frame.copy()`\n",
            "  df.at[i, col] = df2.iloc[1, df2.columns.get_loc(col)]\n",
            "<ipython-input-62-fce11dd3a64a>:40: PerformanceWarning: DataFrame is highly fragmented.  This is usually the result of calling `frame.insert` many times, which has poor performance.  Consider joining all columns at once using pd.concat(axis=1) instead. To get a de-fragmented frame, use `newframe = frame.copy()`\n",
            "  df.at[i, col] = df2.iloc[1, df2.columns.get_loc(col)]\n",
            "<ipython-input-62-fce11dd3a64a>:40: PerformanceWarning: DataFrame is highly fragmented.  This is usually the result of calling `frame.insert` many times, which has poor performance.  Consider joining all columns at once using pd.concat(axis=1) instead. To get a de-fragmented frame, use `newframe = frame.copy()`\n",
            "  df.at[i, col] = df2.iloc[1, df2.columns.get_loc(col)]\n",
            "<ipython-input-62-fce11dd3a64a>:40: PerformanceWarning: DataFrame is highly fragmented.  This is usually the result of calling `frame.insert` many times, which has poor performance.  Consider joining all columns at once using pd.concat(axis=1) instead. To get a de-fragmented frame, use `newframe = frame.copy()`\n",
            "  df.at[i, col] = df2.iloc[1, df2.columns.get_loc(col)]\n",
            "<ipython-input-62-fce11dd3a64a>:40: PerformanceWarning: DataFrame is highly fragmented.  This is usually the result of calling `frame.insert` many times, which has poor performance.  Consider joining all columns at once using pd.concat(axis=1) instead. To get a de-fragmented frame, use `newframe = frame.copy()`\n",
            "  df.at[i, col] = df2.iloc[1, df2.columns.get_loc(col)]\n",
            "<ipython-input-62-fce11dd3a64a>:40: PerformanceWarning: DataFrame is highly fragmented.  This is usually the result of calling `frame.insert` many times, which has poor performance.  Consider joining all columns at once using pd.concat(axis=1) instead. To get a de-fragmented frame, use `newframe = frame.copy()`\n",
            "  df.at[i, col] = df2.iloc[1, df2.columns.get_loc(col)]\n",
            "<ipython-input-62-fce11dd3a64a>:40: PerformanceWarning: DataFrame is highly fragmented.  This is usually the result of calling `frame.insert` many times, which has poor performance.  Consider joining all columns at once using pd.concat(axis=1) instead. To get a de-fragmented frame, use `newframe = frame.copy()`\n",
            "  df.at[i, col] = df2.iloc[1, df2.columns.get_loc(col)]\n"
          ]
        },
        {
          "metadata": {
            "tags": null
          },
          "name": "stdout",
          "output_type": "stream",
          "text": [
            "450\n"
          ]
        },
        {
          "metadata": {
            "tags": null
          },
          "name": "stderr",
          "output_type": "stream",
          "text": [
            "<ipython-input-62-fce11dd3a64a>:40: PerformanceWarning: DataFrame is highly fragmented.  This is usually the result of calling `frame.insert` many times, which has poor performance.  Consider joining all columns at once using pd.concat(axis=1) instead. To get a de-fragmented frame, use `newframe = frame.copy()`\n",
            "  df.at[i, col] = df2.iloc[1, df2.columns.get_loc(col)]\n",
            "<ipython-input-62-fce11dd3a64a>:40: PerformanceWarning: DataFrame is highly fragmented.  This is usually the result of calling `frame.insert` many times, which has poor performance.  Consider joining all columns at once using pd.concat(axis=1) instead. To get a de-fragmented frame, use `newframe = frame.copy()`\n",
            "  df.at[i, col] = df2.iloc[1, df2.columns.get_loc(col)]\n",
            "<ipython-input-62-fce11dd3a64a>:40: PerformanceWarning: DataFrame is highly fragmented.  This is usually the result of calling `frame.insert` many times, which has poor performance.  Consider joining all columns at once using pd.concat(axis=1) instead. To get a de-fragmented frame, use `newframe = frame.copy()`\n",
            "  df.at[i, col] = df2.iloc[1, df2.columns.get_loc(col)]\n",
            "<ipython-input-62-fce11dd3a64a>:40: PerformanceWarning: DataFrame is highly fragmented.  This is usually the result of calling `frame.insert` many times, which has poor performance.  Consider joining all columns at once using pd.concat(axis=1) instead. To get a de-fragmented frame, use `newframe = frame.copy()`\n",
            "  df.at[i, col] = df2.iloc[1, df2.columns.get_loc(col)]\n",
            "<ipython-input-62-fce11dd3a64a>:40: PerformanceWarning: DataFrame is highly fragmented.  This is usually the result of calling `frame.insert` many times, which has poor performance.  Consider joining all columns at once using pd.concat(axis=1) instead. To get a de-fragmented frame, use `newframe = frame.copy()`\n",
            "  df.at[i, col] = df2.iloc[1, df2.columns.get_loc(col)]\n",
            "<ipython-input-62-fce11dd3a64a>:40: PerformanceWarning: DataFrame is highly fragmented.  This is usually the result of calling `frame.insert` many times, which has poor performance.  Consider joining all columns at once using pd.concat(axis=1) instead. To get a de-fragmented frame, use `newframe = frame.copy()`\n",
            "  df.at[i, col] = df2.iloc[1, df2.columns.get_loc(col)]\n"
          ]
        },
        {
          "metadata": {
            "tags": null
          },
          "name": "stdout",
          "output_type": "stream",
          "text": [
            "500\n"
          ]
        },
        {
          "output_type": "stream",
          "name": "stderr",
          "text": [
            "<ipython-input-62-fce11dd3a64a>:40: PerformanceWarning: DataFrame is highly fragmented.  This is usually the result of calling `frame.insert` many times, which has poor performance.  Consider joining all columns at once using pd.concat(axis=1) instead. To get a de-fragmented frame, use `newframe = frame.copy()`\n",
            "  df.at[i, col] = df2.iloc[1, df2.columns.get_loc(col)]\n",
            "<ipython-input-62-fce11dd3a64a>:40: PerformanceWarning: DataFrame is highly fragmented.  This is usually the result of calling `frame.insert` many times, which has poor performance.  Consider joining all columns at once using pd.concat(axis=1) instead. To get a de-fragmented frame, use `newframe = frame.copy()`\n",
            "  df.at[i, col] = df2.iloc[1, df2.columns.get_loc(col)]\n",
            "<ipython-input-62-fce11dd3a64a>:40: PerformanceWarning: DataFrame is highly fragmented.  This is usually the result of calling `frame.insert` many times, which has poor performance.  Consider joining all columns at once using pd.concat(axis=1) instead. To get a de-fragmented frame, use `newframe = frame.copy()`\n",
            "  df.at[i, col] = df2.iloc[1, df2.columns.get_loc(col)]\n",
            "<ipython-input-62-fce11dd3a64a>:40: PerformanceWarning: DataFrame is highly fragmented.  This is usually the result of calling `frame.insert` many times, which has poor performance.  Consider joining all columns at once using pd.concat(axis=1) instead. To get a de-fragmented frame, use `newframe = frame.copy()`\n",
            "  df.at[i, col] = df2.iloc[1, df2.columns.get_loc(col)]\n",
            "<ipython-input-62-fce11dd3a64a>:40: PerformanceWarning: DataFrame is highly fragmented.  This is usually the result of calling `frame.insert` many times, which has poor performance.  Consider joining all columns at once using pd.concat(axis=1) instead. To get a de-fragmented frame, use `newframe = frame.copy()`\n",
            "  df.at[i, col] = df2.iloc[1, df2.columns.get_loc(col)]\n",
            "<ipython-input-62-fce11dd3a64a>:40: PerformanceWarning: DataFrame is highly fragmented.  This is usually the result of calling `frame.insert` many times, which has poor performance.  Consider joining all columns at once using pd.concat(axis=1) instead. To get a de-fragmented frame, use `newframe = frame.copy()`\n",
            "  df.at[i, col] = df2.iloc[1, df2.columns.get_loc(col)]\n",
            "<ipython-input-62-fce11dd3a64a>:40: PerformanceWarning: DataFrame is highly fragmented.  This is usually the result of calling `frame.insert` many times, which has poor performance.  Consider joining all columns at once using pd.concat(axis=1) instead. To get a de-fragmented frame, use `newframe = frame.copy()`\n",
            "  df.at[i, col] = df2.iloc[1, df2.columns.get_loc(col)]\n",
            "<ipython-input-62-fce11dd3a64a>:40: PerformanceWarning: DataFrame is highly fragmented.  This is usually the result of calling `frame.insert` many times, which has poor performance.  Consider joining all columns at once using pd.concat(axis=1) instead. To get a de-fragmented frame, use `newframe = frame.copy()`\n",
            "  df.at[i, col] = df2.iloc[1, df2.columns.get_loc(col)]\n",
            "<ipython-input-62-fce11dd3a64a>:40: PerformanceWarning: DataFrame is highly fragmented.  This is usually the result of calling `frame.insert` many times, which has poor performance.  Consider joining all columns at once using pd.concat(axis=1) instead. To get a de-fragmented frame, use `newframe = frame.copy()`\n",
            "  df.at[i, col] = df2.iloc[1, df2.columns.get_loc(col)]\n",
            "<ipython-input-62-fce11dd3a64a>:40: PerformanceWarning: DataFrame is highly fragmented.  This is usually the result of calling `frame.insert` many times, which has poor performance.  Consider joining all columns at once using pd.concat(axis=1) instead. To get a de-fragmented frame, use `newframe = frame.copy()`\n",
            "  df.at[i, col] = df2.iloc[1, df2.columns.get_loc(col)]\n",
            "<ipython-input-62-fce11dd3a64a>:40: PerformanceWarning: DataFrame is highly fragmented.  This is usually the result of calling `frame.insert` many times, which has poor performance.  Consider joining all columns at once using pd.concat(axis=1) instead. To get a de-fragmented frame, use `newframe = frame.copy()`\n",
            "  df.at[i, col] = df2.iloc[1, df2.columns.get_loc(col)]\n",
            "<ipython-input-62-fce11dd3a64a>:40: PerformanceWarning: DataFrame is highly fragmented.  This is usually the result of calling `frame.insert` many times, which has poor performance.  Consider joining all columns at once using pd.concat(axis=1) instead. To get a de-fragmented frame, use `newframe = frame.copy()`\n",
            "  df.at[i, col] = df2.iloc[1, df2.columns.get_loc(col)]\n",
            "<ipython-input-62-fce11dd3a64a>:40: PerformanceWarning: DataFrame is highly fragmented.  This is usually the result of calling `frame.insert` many times, which has poor performance.  Consider joining all columns at once using pd.concat(axis=1) instead. To get a de-fragmented frame, use `newframe = frame.copy()`\n",
            "  df.at[i, col] = df2.iloc[1, df2.columns.get_loc(col)]\n",
            "<ipython-input-62-fce11dd3a64a>:40: PerformanceWarning: DataFrame is highly fragmented.  This is usually the result of calling `frame.insert` many times, which has poor performance.  Consider joining all columns at once using pd.concat(axis=1) instead. To get a de-fragmented frame, use `newframe = frame.copy()`\n",
            "  df.at[i, col] = df2.iloc[1, df2.columns.get_loc(col)]\n",
            "<ipython-input-62-fce11dd3a64a>:40: PerformanceWarning: DataFrame is highly fragmented.  This is usually the result of calling `frame.insert` many times, which has poor performance.  Consider joining all columns at once using pd.concat(axis=1) instead. To get a de-fragmented frame, use `newframe = frame.copy()`\n",
            "  df.at[i, col] = df2.iloc[1, df2.columns.get_loc(col)]\n",
            "<ipython-input-62-fce11dd3a64a>:40: PerformanceWarning: DataFrame is highly fragmented.  This is usually the result of calling `frame.insert` many times, which has poor performance.  Consider joining all columns at once using pd.concat(axis=1) instead. To get a de-fragmented frame, use `newframe = frame.copy()`\n",
            "  df.at[i, col] = df2.iloc[1, df2.columns.get_loc(col)]\n",
            "<ipython-input-62-fce11dd3a64a>:40: PerformanceWarning: DataFrame is highly fragmented.  This is usually the result of calling `frame.insert` many times, which has poor performance.  Consider joining all columns at once using pd.concat(axis=1) instead. To get a de-fragmented frame, use `newframe = frame.copy()`\n",
            "  df.at[i, col] = df2.iloc[1, df2.columns.get_loc(col)]\n",
            "<ipython-input-62-fce11dd3a64a>:40: PerformanceWarning: DataFrame is highly fragmented.  This is usually the result of calling `frame.insert` many times, which has poor performance.  Consider joining all columns at once using pd.concat(axis=1) instead. To get a de-fragmented frame, use `newframe = frame.copy()`\n",
            "  df.at[i, col] = df2.iloc[1, df2.columns.get_loc(col)]\n",
            "<ipython-input-62-fce11dd3a64a>:40: PerformanceWarning: DataFrame is highly fragmented.  This is usually the result of calling `frame.insert` many times, which has poor performance.  Consider joining all columns at once using pd.concat(axis=1) instead. To get a de-fragmented frame, use `newframe = frame.copy()`\n",
            "  df.at[i, col] = df2.iloc[1, df2.columns.get_loc(col)]\n",
            "<ipython-input-62-fce11dd3a64a>:40: PerformanceWarning: DataFrame is highly fragmented.  This is usually the result of calling `frame.insert` many times, which has poor performance.  Consider joining all columns at once using pd.concat(axis=1) instead. To get a de-fragmented frame, use `newframe = frame.copy()`\n",
            "  df.at[i, col] = df2.iloc[1, df2.columns.get_loc(col)]\n",
            "<ipython-input-62-fce11dd3a64a>:40: PerformanceWarning: DataFrame is highly fragmented.  This is usually the result of calling `frame.insert` many times, which has poor performance.  Consider joining all columns at once using pd.concat(axis=1) instead. To get a de-fragmented frame, use `newframe = frame.copy()`\n",
            "  df.at[i, col] = df2.iloc[1, df2.columns.get_loc(col)]\n",
            "<ipython-input-62-fce11dd3a64a>:40: PerformanceWarning: DataFrame is highly fragmented.  This is usually the result of calling `frame.insert` many times, which has poor performance.  Consider joining all columns at once using pd.concat(axis=1) instead. To get a de-fragmented frame, use `newframe = frame.copy()`\n",
            "  df.at[i, col] = df2.iloc[1, df2.columns.get_loc(col)]\n"
          ]
        },
        {
          "output_type": "stream",
          "name": "stdout",
          "text": [
            "550\n"
          ]
        },
        {
          "output_type": "stream",
          "name": "stderr",
          "text": [
            "<ipython-input-62-fce11dd3a64a>:40: PerformanceWarning: DataFrame is highly fragmented.  This is usually the result of calling `frame.insert` many times, which has poor performance.  Consider joining all columns at once using pd.concat(axis=1) instead. To get a de-fragmented frame, use `newframe = frame.copy()`\n",
            "  df.at[i, col] = df2.iloc[1, df2.columns.get_loc(col)]\n",
            "<ipython-input-62-fce11dd3a64a>:40: PerformanceWarning: DataFrame is highly fragmented.  This is usually the result of calling `frame.insert` many times, which has poor performance.  Consider joining all columns at once using pd.concat(axis=1) instead. To get a de-fragmented frame, use `newframe = frame.copy()`\n",
            "  df.at[i, col] = df2.iloc[1, df2.columns.get_loc(col)]\n",
            "<ipython-input-62-fce11dd3a64a>:40: PerformanceWarning: DataFrame is highly fragmented.  This is usually the result of calling `frame.insert` many times, which has poor performance.  Consider joining all columns at once using pd.concat(axis=1) instead. To get a de-fragmented frame, use `newframe = frame.copy()`\n",
            "  df.at[i, col] = df2.iloc[1, df2.columns.get_loc(col)]\n",
            "<ipython-input-62-fce11dd3a64a>:40: PerformanceWarning: DataFrame is highly fragmented.  This is usually the result of calling `frame.insert` many times, which has poor performance.  Consider joining all columns at once using pd.concat(axis=1) instead. To get a de-fragmented frame, use `newframe = frame.copy()`\n",
            "  df.at[i, col] = df2.iloc[1, df2.columns.get_loc(col)]\n",
            "<ipython-input-62-fce11dd3a64a>:40: PerformanceWarning: DataFrame is highly fragmented.  This is usually the result of calling `frame.insert` many times, which has poor performance.  Consider joining all columns at once using pd.concat(axis=1) instead. To get a de-fragmented frame, use `newframe = frame.copy()`\n",
            "  df.at[i, col] = df2.iloc[1, df2.columns.get_loc(col)]\n",
            "<ipython-input-62-fce11dd3a64a>:40: PerformanceWarning: DataFrame is highly fragmented.  This is usually the result of calling `frame.insert` many times, which has poor performance.  Consider joining all columns at once using pd.concat(axis=1) instead. To get a de-fragmented frame, use `newframe = frame.copy()`\n",
            "  df.at[i, col] = df2.iloc[1, df2.columns.get_loc(col)]\n",
            "<ipython-input-62-fce11dd3a64a>:40: PerformanceWarning: DataFrame is highly fragmented.  This is usually the result of calling `frame.insert` many times, which has poor performance.  Consider joining all columns at once using pd.concat(axis=1) instead. To get a de-fragmented frame, use `newframe = frame.copy()`\n",
            "  df.at[i, col] = df2.iloc[1, df2.columns.get_loc(col)]\n",
            "<ipython-input-62-fce11dd3a64a>:40: PerformanceWarning: DataFrame is highly fragmented.  This is usually the result of calling `frame.insert` many times, which has poor performance.  Consider joining all columns at once using pd.concat(axis=1) instead. To get a de-fragmented frame, use `newframe = frame.copy()`\n",
            "  df.at[i, col] = df2.iloc[1, df2.columns.get_loc(col)]\n",
            "<ipython-input-62-fce11dd3a64a>:40: PerformanceWarning: DataFrame is highly fragmented.  This is usually the result of calling `frame.insert` many times, which has poor performance.  Consider joining all columns at once using pd.concat(axis=1) instead. To get a de-fragmented frame, use `newframe = frame.copy()`\n",
            "  df.at[i, col] = df2.iloc[1, df2.columns.get_loc(col)]\n"
          ]
        },
        {
          "output_type": "stream",
          "name": "stdout",
          "text": [
            "600\n"
          ]
        },
        {
          "output_type": "stream",
          "name": "stderr",
          "text": [
            "<ipython-input-62-fce11dd3a64a>:40: PerformanceWarning: DataFrame is highly fragmented.  This is usually the result of calling `frame.insert` many times, which has poor performance.  Consider joining all columns at once using pd.concat(axis=1) instead. To get a de-fragmented frame, use `newframe = frame.copy()`\n",
            "  df.at[i, col] = df2.iloc[1, df2.columns.get_loc(col)]\n",
            "<ipython-input-62-fce11dd3a64a>:40: PerformanceWarning: DataFrame is highly fragmented.  This is usually the result of calling `frame.insert` many times, which has poor performance.  Consider joining all columns at once using pd.concat(axis=1) instead. To get a de-fragmented frame, use `newframe = frame.copy()`\n",
            "  df.at[i, col] = df2.iloc[1, df2.columns.get_loc(col)]\n",
            "<ipython-input-62-fce11dd3a64a>:40: PerformanceWarning: DataFrame is highly fragmented.  This is usually the result of calling `frame.insert` many times, which has poor performance.  Consider joining all columns at once using pd.concat(axis=1) instead. To get a de-fragmented frame, use `newframe = frame.copy()`\n",
            "  df.at[i, col] = df2.iloc[1, df2.columns.get_loc(col)]\n",
            "<ipython-input-62-fce11dd3a64a>:40: PerformanceWarning: DataFrame is highly fragmented.  This is usually the result of calling `frame.insert` many times, which has poor performance.  Consider joining all columns at once using pd.concat(axis=1) instead. To get a de-fragmented frame, use `newframe = frame.copy()`\n",
            "  df.at[i, col] = df2.iloc[1, df2.columns.get_loc(col)]\n",
            "<ipython-input-62-fce11dd3a64a>:40: PerformanceWarning: DataFrame is highly fragmented.  This is usually the result of calling `frame.insert` many times, which has poor performance.  Consider joining all columns at once using pd.concat(axis=1) instead. To get a de-fragmented frame, use `newframe = frame.copy()`\n",
            "  df.at[i, col] = df2.iloc[1, df2.columns.get_loc(col)]\n",
            "<ipython-input-62-fce11dd3a64a>:40: PerformanceWarning: DataFrame is highly fragmented.  This is usually the result of calling `frame.insert` many times, which has poor performance.  Consider joining all columns at once using pd.concat(axis=1) instead. To get a de-fragmented frame, use `newframe = frame.copy()`\n",
            "  df.at[i, col] = df2.iloc[1, df2.columns.get_loc(col)]\n",
            "<ipython-input-62-fce11dd3a64a>:40: PerformanceWarning: DataFrame is highly fragmented.  This is usually the result of calling `frame.insert` many times, which has poor performance.  Consider joining all columns at once using pd.concat(axis=1) instead. To get a de-fragmented frame, use `newframe = frame.copy()`\n",
            "  df.at[i, col] = df2.iloc[1, df2.columns.get_loc(col)]\n",
            "<ipython-input-62-fce11dd3a64a>:40: PerformanceWarning: DataFrame is highly fragmented.  This is usually the result of calling `frame.insert` many times, which has poor performance.  Consider joining all columns at once using pd.concat(axis=1) instead. To get a de-fragmented frame, use `newframe = frame.copy()`\n",
            "  df.at[i, col] = df2.iloc[1, df2.columns.get_loc(col)]\n",
            "<ipython-input-62-fce11dd3a64a>:40: PerformanceWarning: DataFrame is highly fragmented.  This is usually the result of calling `frame.insert` many times, which has poor performance.  Consider joining all columns at once using pd.concat(axis=1) instead. To get a de-fragmented frame, use `newframe = frame.copy()`\n",
            "  df.at[i, col] = df2.iloc[1, df2.columns.get_loc(col)]\n",
            "<ipython-input-62-fce11dd3a64a>:40: PerformanceWarning: DataFrame is highly fragmented.  This is usually the result of calling `frame.insert` many times, which has poor performance.  Consider joining all columns at once using pd.concat(axis=1) instead. To get a de-fragmented frame, use `newframe = frame.copy()`\n",
            "  df.at[i, col] = df2.iloc[1, df2.columns.get_loc(col)]\n",
            "<ipython-input-62-fce11dd3a64a>:40: PerformanceWarning: DataFrame is highly fragmented.  This is usually the result of calling `frame.insert` many times, which has poor performance.  Consider joining all columns at once using pd.concat(axis=1) instead. To get a de-fragmented frame, use `newframe = frame.copy()`\n",
            "  df.at[i, col] = df2.iloc[1, df2.columns.get_loc(col)]\n",
            "<ipython-input-62-fce11dd3a64a>:40: PerformanceWarning: DataFrame is highly fragmented.  This is usually the result of calling `frame.insert` many times, which has poor performance.  Consider joining all columns at once using pd.concat(axis=1) instead. To get a de-fragmented frame, use `newframe = frame.copy()`\n",
            "  df.at[i, col] = df2.iloc[1, df2.columns.get_loc(col)]\n",
            "<ipython-input-62-fce11dd3a64a>:40: PerformanceWarning: DataFrame is highly fragmented.  This is usually the result of calling `frame.insert` many times, which has poor performance.  Consider joining all columns at once using pd.concat(axis=1) instead. To get a de-fragmented frame, use `newframe = frame.copy()`\n",
            "  df.at[i, col] = df2.iloc[1, df2.columns.get_loc(col)]\n",
            "<ipython-input-62-fce11dd3a64a>:40: PerformanceWarning: DataFrame is highly fragmented.  This is usually the result of calling `frame.insert` many times, which has poor performance.  Consider joining all columns at once using pd.concat(axis=1) instead. To get a de-fragmented frame, use `newframe = frame.copy()`\n",
            "  df.at[i, col] = df2.iloc[1, df2.columns.get_loc(col)]\n"
          ]
        },
        {
          "output_type": "stream",
          "name": "stdout",
          "text": [
            "650\n"
          ]
        },
        {
          "output_type": "stream",
          "name": "stderr",
          "text": [
            "<ipython-input-62-fce11dd3a64a>:40: PerformanceWarning: DataFrame is highly fragmented.  This is usually the result of calling `frame.insert` many times, which has poor performance.  Consider joining all columns at once using pd.concat(axis=1) instead. To get a de-fragmented frame, use `newframe = frame.copy()`\n",
            "  df.at[i, col] = df2.iloc[1, df2.columns.get_loc(col)]\n",
            "<ipython-input-62-fce11dd3a64a>:40: PerformanceWarning: DataFrame is highly fragmented.  This is usually the result of calling `frame.insert` many times, which has poor performance.  Consider joining all columns at once using pd.concat(axis=1) instead. To get a de-fragmented frame, use `newframe = frame.copy()`\n",
            "  df.at[i, col] = df2.iloc[1, df2.columns.get_loc(col)]\n",
            "<ipython-input-62-fce11dd3a64a>:40: PerformanceWarning: DataFrame is highly fragmented.  This is usually the result of calling `frame.insert` many times, which has poor performance.  Consider joining all columns at once using pd.concat(axis=1) instead. To get a de-fragmented frame, use `newframe = frame.copy()`\n",
            "  df.at[i, col] = df2.iloc[1, df2.columns.get_loc(col)]\n",
            "<ipython-input-62-fce11dd3a64a>:40: PerformanceWarning: DataFrame is highly fragmented.  This is usually the result of calling `frame.insert` many times, which has poor performance.  Consider joining all columns at once using pd.concat(axis=1) instead. To get a de-fragmented frame, use `newframe = frame.copy()`\n",
            "  df.at[i, col] = df2.iloc[1, df2.columns.get_loc(col)]\n",
            "<ipython-input-62-fce11dd3a64a>:40: PerformanceWarning: DataFrame is highly fragmented.  This is usually the result of calling `frame.insert` many times, which has poor performance.  Consider joining all columns at once using pd.concat(axis=1) instead. To get a de-fragmented frame, use `newframe = frame.copy()`\n",
            "  df.at[i, col] = df2.iloc[1, df2.columns.get_loc(col)]\n",
            "<ipython-input-62-fce11dd3a64a>:40: PerformanceWarning: DataFrame is highly fragmented.  This is usually the result of calling `frame.insert` many times, which has poor performance.  Consider joining all columns at once using pd.concat(axis=1) instead. To get a de-fragmented frame, use `newframe = frame.copy()`\n",
            "  df.at[i, col] = df2.iloc[1, df2.columns.get_loc(col)]\n",
            "<ipython-input-62-fce11dd3a64a>:40: PerformanceWarning: DataFrame is highly fragmented.  This is usually the result of calling `frame.insert` many times, which has poor performance.  Consider joining all columns at once using pd.concat(axis=1) instead. To get a de-fragmented frame, use `newframe = frame.copy()`\n",
            "  df.at[i, col] = df2.iloc[1, df2.columns.get_loc(col)]\n",
            "<ipython-input-62-fce11dd3a64a>:40: PerformanceWarning: DataFrame is highly fragmented.  This is usually the result of calling `frame.insert` many times, which has poor performance.  Consider joining all columns at once using pd.concat(axis=1) instead. To get a de-fragmented frame, use `newframe = frame.copy()`\n",
            "  df.at[i, col] = df2.iloc[1, df2.columns.get_loc(col)]\n",
            "<ipython-input-62-fce11dd3a64a>:40: PerformanceWarning: DataFrame is highly fragmented.  This is usually the result of calling `frame.insert` many times, which has poor performance.  Consider joining all columns at once using pd.concat(axis=1) instead. To get a de-fragmented frame, use `newframe = frame.copy()`\n",
            "  df.at[i, col] = df2.iloc[1, df2.columns.get_loc(col)]\n",
            "<ipython-input-62-fce11dd3a64a>:40: PerformanceWarning: DataFrame is highly fragmented.  This is usually the result of calling `frame.insert` many times, which has poor performance.  Consider joining all columns at once using pd.concat(axis=1) instead. To get a de-fragmented frame, use `newframe = frame.copy()`\n",
            "  df.at[i, col] = df2.iloc[1, df2.columns.get_loc(col)]\n",
            "<ipython-input-62-fce11dd3a64a>:40: PerformanceWarning: DataFrame is highly fragmented.  This is usually the result of calling `frame.insert` many times, which has poor performance.  Consider joining all columns at once using pd.concat(axis=1) instead. To get a de-fragmented frame, use `newframe = frame.copy()`\n",
            "  df.at[i, col] = df2.iloc[1, df2.columns.get_loc(col)]\n",
            "<ipython-input-62-fce11dd3a64a>:40: PerformanceWarning: DataFrame is highly fragmented.  This is usually the result of calling `frame.insert` many times, which has poor performance.  Consider joining all columns at once using pd.concat(axis=1) instead. To get a de-fragmented frame, use `newframe = frame.copy()`\n",
            "  df.at[i, col] = df2.iloc[1, df2.columns.get_loc(col)]\n",
            "<ipython-input-62-fce11dd3a64a>:40: PerformanceWarning: DataFrame is highly fragmented.  This is usually the result of calling `frame.insert` many times, which has poor performance.  Consider joining all columns at once using pd.concat(axis=1) instead. To get a de-fragmented frame, use `newframe = frame.copy()`\n",
            "  df.at[i, col] = df2.iloc[1, df2.columns.get_loc(col)]\n",
            "<ipython-input-62-fce11dd3a64a>:40: PerformanceWarning: DataFrame is highly fragmented.  This is usually the result of calling `frame.insert` many times, which has poor performance.  Consider joining all columns at once using pd.concat(axis=1) instead. To get a de-fragmented frame, use `newframe = frame.copy()`\n",
            "  df.at[i, col] = df2.iloc[1, df2.columns.get_loc(col)]\n",
            "<ipython-input-62-fce11dd3a64a>:40: PerformanceWarning: DataFrame is highly fragmented.  This is usually the result of calling `frame.insert` many times, which has poor performance.  Consider joining all columns at once using pd.concat(axis=1) instead. To get a de-fragmented frame, use `newframe = frame.copy()`\n",
            "  df.at[i, col] = df2.iloc[1, df2.columns.get_loc(col)]\n",
            "<ipython-input-62-fce11dd3a64a>:40: PerformanceWarning: DataFrame is highly fragmented.  This is usually the result of calling `frame.insert` many times, which has poor performance.  Consider joining all columns at once using pd.concat(axis=1) instead. To get a de-fragmented frame, use `newframe = frame.copy()`\n",
            "  df.at[i, col] = df2.iloc[1, df2.columns.get_loc(col)]\n",
            "<ipython-input-62-fce11dd3a64a>:40: PerformanceWarning: DataFrame is highly fragmented.  This is usually the result of calling `frame.insert` many times, which has poor performance.  Consider joining all columns at once using pd.concat(axis=1) instead. To get a de-fragmented frame, use `newframe = frame.copy()`\n",
            "  df.at[i, col] = df2.iloc[1, df2.columns.get_loc(col)]\n",
            "<ipython-input-62-fce11dd3a64a>:40: PerformanceWarning: DataFrame is highly fragmented.  This is usually the result of calling `frame.insert` many times, which has poor performance.  Consider joining all columns at once using pd.concat(axis=1) instead. To get a de-fragmented frame, use `newframe = frame.copy()`\n",
            "  df.at[i, col] = df2.iloc[1, df2.columns.get_loc(col)]\n",
            "<ipython-input-62-fce11dd3a64a>:40: PerformanceWarning: DataFrame is highly fragmented.  This is usually the result of calling `frame.insert` many times, which has poor performance.  Consider joining all columns at once using pd.concat(axis=1) instead. To get a de-fragmented frame, use `newframe = frame.copy()`\n",
            "  df.at[i, col] = df2.iloc[1, df2.columns.get_loc(col)]\n",
            "<ipython-input-62-fce11dd3a64a>:40: PerformanceWarning: DataFrame is highly fragmented.  This is usually the result of calling `frame.insert` many times, which has poor performance.  Consider joining all columns at once using pd.concat(axis=1) instead. To get a de-fragmented frame, use `newframe = frame.copy()`\n",
            "  df.at[i, col] = df2.iloc[1, df2.columns.get_loc(col)]\n",
            "<ipython-input-62-fce11dd3a64a>:40: PerformanceWarning: DataFrame is highly fragmented.  This is usually the result of calling `frame.insert` many times, which has poor performance.  Consider joining all columns at once using pd.concat(axis=1) instead. To get a de-fragmented frame, use `newframe = frame.copy()`\n",
            "  df.at[i, col] = df2.iloc[1, df2.columns.get_loc(col)]\n",
            "<ipython-input-62-fce11dd3a64a>:40: PerformanceWarning: DataFrame is highly fragmented.  This is usually the result of calling `frame.insert` many times, which has poor performance.  Consider joining all columns at once using pd.concat(axis=1) instead. To get a de-fragmented frame, use `newframe = frame.copy()`\n",
            "  df.at[i, col] = df2.iloc[1, df2.columns.get_loc(col)]\n"
          ]
        },
        {
          "output_type": "stream",
          "name": "stdout",
          "text": [
            "700\n"
          ]
        },
        {
          "output_type": "stream",
          "name": "stderr",
          "text": [
            "<ipython-input-62-fce11dd3a64a>:40: PerformanceWarning: DataFrame is highly fragmented.  This is usually the result of calling `frame.insert` many times, which has poor performance.  Consider joining all columns at once using pd.concat(axis=1) instead. To get a de-fragmented frame, use `newframe = frame.copy()`\n",
            "  df.at[i, col] = df2.iloc[1, df2.columns.get_loc(col)]\n",
            "<ipython-input-62-fce11dd3a64a>:40: PerformanceWarning: DataFrame is highly fragmented.  This is usually the result of calling `frame.insert` many times, which has poor performance.  Consider joining all columns at once using pd.concat(axis=1) instead. To get a de-fragmented frame, use `newframe = frame.copy()`\n",
            "  df.at[i, col] = df2.iloc[1, df2.columns.get_loc(col)]\n",
            "<ipython-input-62-fce11dd3a64a>:40: PerformanceWarning: DataFrame is highly fragmented.  This is usually the result of calling `frame.insert` many times, which has poor performance.  Consider joining all columns at once using pd.concat(axis=1) instead. To get a de-fragmented frame, use `newframe = frame.copy()`\n",
            "  df.at[i, col] = df2.iloc[1, df2.columns.get_loc(col)]\n",
            "<ipython-input-62-fce11dd3a64a>:40: PerformanceWarning: DataFrame is highly fragmented.  This is usually the result of calling `frame.insert` many times, which has poor performance.  Consider joining all columns at once using pd.concat(axis=1) instead. To get a de-fragmented frame, use `newframe = frame.copy()`\n",
            "  df.at[i, col] = df2.iloc[1, df2.columns.get_loc(col)]\n",
            "<ipython-input-62-fce11dd3a64a>:40: PerformanceWarning: DataFrame is highly fragmented.  This is usually the result of calling `frame.insert` many times, which has poor performance.  Consider joining all columns at once using pd.concat(axis=1) instead. To get a de-fragmented frame, use `newframe = frame.copy()`\n",
            "  df.at[i, col] = df2.iloc[1, df2.columns.get_loc(col)]\n",
            "<ipython-input-62-fce11dd3a64a>:40: PerformanceWarning: DataFrame is highly fragmented.  This is usually the result of calling `frame.insert` many times, which has poor performance.  Consider joining all columns at once using pd.concat(axis=1) instead. To get a de-fragmented frame, use `newframe = frame.copy()`\n",
            "  df.at[i, col] = df2.iloc[1, df2.columns.get_loc(col)]\n",
            "<ipython-input-62-fce11dd3a64a>:40: PerformanceWarning: DataFrame is highly fragmented.  This is usually the result of calling `frame.insert` many times, which has poor performance.  Consider joining all columns at once using pd.concat(axis=1) instead. To get a de-fragmented frame, use `newframe = frame.copy()`\n",
            "  df.at[i, col] = df2.iloc[1, df2.columns.get_loc(col)]\n",
            "<ipython-input-62-fce11dd3a64a>:40: PerformanceWarning: DataFrame is highly fragmented.  This is usually the result of calling `frame.insert` many times, which has poor performance.  Consider joining all columns at once using pd.concat(axis=1) instead. To get a de-fragmented frame, use `newframe = frame.copy()`\n",
            "  df.at[i, col] = df2.iloc[1, df2.columns.get_loc(col)]\n",
            "<ipython-input-62-fce11dd3a64a>:40: PerformanceWarning: DataFrame is highly fragmented.  This is usually the result of calling `frame.insert` many times, which has poor performance.  Consider joining all columns at once using pd.concat(axis=1) instead. To get a de-fragmented frame, use `newframe = frame.copy()`\n",
            "  df.at[i, col] = df2.iloc[1, df2.columns.get_loc(col)]\n",
            "<ipython-input-62-fce11dd3a64a>:40: PerformanceWarning: DataFrame is highly fragmented.  This is usually the result of calling `frame.insert` many times, which has poor performance.  Consider joining all columns at once using pd.concat(axis=1) instead. To get a de-fragmented frame, use `newframe = frame.copy()`\n",
            "  df.at[i, col] = df2.iloc[1, df2.columns.get_loc(col)]\n",
            "<ipython-input-62-fce11dd3a64a>:40: PerformanceWarning: DataFrame is highly fragmented.  This is usually the result of calling `frame.insert` many times, which has poor performance.  Consider joining all columns at once using pd.concat(axis=1) instead. To get a de-fragmented frame, use `newframe = frame.copy()`\n",
            "  df.at[i, col] = df2.iloc[1, df2.columns.get_loc(col)]\n",
            "<ipython-input-62-fce11dd3a64a>:40: PerformanceWarning: DataFrame is highly fragmented.  This is usually the result of calling `frame.insert` many times, which has poor performance.  Consider joining all columns at once using pd.concat(axis=1) instead. To get a de-fragmented frame, use `newframe = frame.copy()`\n",
            "  df.at[i, col] = df2.iloc[1, df2.columns.get_loc(col)]\n",
            "<ipython-input-62-fce11dd3a64a>:40: PerformanceWarning: DataFrame is highly fragmented.  This is usually the result of calling `frame.insert` many times, which has poor performance.  Consider joining all columns at once using pd.concat(axis=1) instead. To get a de-fragmented frame, use `newframe = frame.copy()`\n",
            "  df.at[i, col] = df2.iloc[1, df2.columns.get_loc(col)]\n",
            "<ipython-input-62-fce11dd3a64a>:40: PerformanceWarning: DataFrame is highly fragmented.  This is usually the result of calling `frame.insert` many times, which has poor performance.  Consider joining all columns at once using pd.concat(axis=1) instead. To get a de-fragmented frame, use `newframe = frame.copy()`\n",
            "  df.at[i, col] = df2.iloc[1, df2.columns.get_loc(col)]\n",
            "<ipython-input-62-fce11dd3a64a>:40: PerformanceWarning: DataFrame is highly fragmented.  This is usually the result of calling `frame.insert` many times, which has poor performance.  Consider joining all columns at once using pd.concat(axis=1) instead. To get a de-fragmented frame, use `newframe = frame.copy()`\n",
            "  df.at[i, col] = df2.iloc[1, df2.columns.get_loc(col)]\n",
            "<ipython-input-62-fce11dd3a64a>:40: PerformanceWarning: DataFrame is highly fragmented.  This is usually the result of calling `frame.insert` many times, which has poor performance.  Consider joining all columns at once using pd.concat(axis=1) instead. To get a de-fragmented frame, use `newframe = frame.copy()`\n",
            "  df.at[i, col] = df2.iloc[1, df2.columns.get_loc(col)]\n",
            "<ipython-input-62-fce11dd3a64a>:40: PerformanceWarning: DataFrame is highly fragmented.  This is usually the result of calling `frame.insert` many times, which has poor performance.  Consider joining all columns at once using pd.concat(axis=1) instead. To get a de-fragmented frame, use `newframe = frame.copy()`\n",
            "  df.at[i, col] = df2.iloc[1, df2.columns.get_loc(col)]\n",
            "<ipython-input-62-fce11dd3a64a>:40: PerformanceWarning: DataFrame is highly fragmented.  This is usually the result of calling `frame.insert` many times, which has poor performance.  Consider joining all columns at once using pd.concat(axis=1) instead. To get a de-fragmented frame, use `newframe = frame.copy()`\n",
            "  df.at[i, col] = df2.iloc[1, df2.columns.get_loc(col)]\n",
            "<ipython-input-62-fce11dd3a64a>:40: PerformanceWarning: DataFrame is highly fragmented.  This is usually the result of calling `frame.insert` many times, which has poor performance.  Consider joining all columns at once using pd.concat(axis=1) instead. To get a de-fragmented frame, use `newframe = frame.copy()`\n",
            "  df.at[i, col] = df2.iloc[1, df2.columns.get_loc(col)]\n"
          ]
        },
        {
          "output_type": "stream",
          "name": "stdout",
          "text": [
            "750\n"
          ]
        },
        {
          "output_type": "stream",
          "name": "stderr",
          "text": [
            "<ipython-input-62-fce11dd3a64a>:40: PerformanceWarning: DataFrame is highly fragmented.  This is usually the result of calling `frame.insert` many times, which has poor performance.  Consider joining all columns at once using pd.concat(axis=1) instead. To get a de-fragmented frame, use `newframe = frame.copy()`\n",
            "  df.at[i, col] = df2.iloc[1, df2.columns.get_loc(col)]\n",
            "<ipython-input-62-fce11dd3a64a>:40: PerformanceWarning: DataFrame is highly fragmented.  This is usually the result of calling `frame.insert` many times, which has poor performance.  Consider joining all columns at once using pd.concat(axis=1) instead. To get a de-fragmented frame, use `newframe = frame.copy()`\n",
            "  df.at[i, col] = df2.iloc[1, df2.columns.get_loc(col)]\n",
            "<ipython-input-62-fce11dd3a64a>:40: PerformanceWarning: DataFrame is highly fragmented.  This is usually the result of calling `frame.insert` many times, which has poor performance.  Consider joining all columns at once using pd.concat(axis=1) instead. To get a de-fragmented frame, use `newframe = frame.copy()`\n",
            "  df.at[i, col] = df2.iloc[1, df2.columns.get_loc(col)]\n",
            "<ipython-input-62-fce11dd3a64a>:40: PerformanceWarning: DataFrame is highly fragmented.  This is usually the result of calling `frame.insert` many times, which has poor performance.  Consider joining all columns at once using pd.concat(axis=1) instead. To get a de-fragmented frame, use `newframe = frame.copy()`\n",
            "  df.at[i, col] = df2.iloc[1, df2.columns.get_loc(col)]\n",
            "<ipython-input-62-fce11dd3a64a>:40: PerformanceWarning: DataFrame is highly fragmented.  This is usually the result of calling `frame.insert` many times, which has poor performance.  Consider joining all columns at once using pd.concat(axis=1) instead. To get a de-fragmented frame, use `newframe = frame.copy()`\n",
            "  df.at[i, col] = df2.iloc[1, df2.columns.get_loc(col)]\n",
            "<ipython-input-62-fce11dd3a64a>:40: PerformanceWarning: DataFrame is highly fragmented.  This is usually the result of calling `frame.insert` many times, which has poor performance.  Consider joining all columns at once using pd.concat(axis=1) instead. To get a de-fragmented frame, use `newframe = frame.copy()`\n",
            "  df.at[i, col] = df2.iloc[1, df2.columns.get_loc(col)]\n",
            "<ipython-input-62-fce11dd3a64a>:40: PerformanceWarning: DataFrame is highly fragmented.  This is usually the result of calling `frame.insert` many times, which has poor performance.  Consider joining all columns at once using pd.concat(axis=1) instead. To get a de-fragmented frame, use `newframe = frame.copy()`\n",
            "  df.at[i, col] = df2.iloc[1, df2.columns.get_loc(col)]\n",
            "<ipython-input-62-fce11dd3a64a>:40: PerformanceWarning: DataFrame is highly fragmented.  This is usually the result of calling `frame.insert` many times, which has poor performance.  Consider joining all columns at once using pd.concat(axis=1) instead. To get a de-fragmented frame, use `newframe = frame.copy()`\n",
            "  df.at[i, col] = df2.iloc[1, df2.columns.get_loc(col)]\n",
            "<ipython-input-62-fce11dd3a64a>:40: PerformanceWarning: DataFrame is highly fragmented.  This is usually the result of calling `frame.insert` many times, which has poor performance.  Consider joining all columns at once using pd.concat(axis=1) instead. To get a de-fragmented frame, use `newframe = frame.copy()`\n",
            "  df.at[i, col] = df2.iloc[1, df2.columns.get_loc(col)]\n",
            "<ipython-input-62-fce11dd3a64a>:40: PerformanceWarning: DataFrame is highly fragmented.  This is usually the result of calling `frame.insert` many times, which has poor performance.  Consider joining all columns at once using pd.concat(axis=1) instead. To get a de-fragmented frame, use `newframe = frame.copy()`\n",
            "  df.at[i, col] = df2.iloc[1, df2.columns.get_loc(col)]\n",
            "<ipython-input-62-fce11dd3a64a>:40: PerformanceWarning: DataFrame is highly fragmented.  This is usually the result of calling `frame.insert` many times, which has poor performance.  Consider joining all columns at once using pd.concat(axis=1) instead. To get a de-fragmented frame, use `newframe = frame.copy()`\n",
            "  df.at[i, col] = df2.iloc[1, df2.columns.get_loc(col)]\n",
            "<ipython-input-62-fce11dd3a64a>:40: PerformanceWarning: DataFrame is highly fragmented.  This is usually the result of calling `frame.insert` many times, which has poor performance.  Consider joining all columns at once using pd.concat(axis=1) instead. To get a de-fragmented frame, use `newframe = frame.copy()`\n",
            "  df.at[i, col] = df2.iloc[1, df2.columns.get_loc(col)]\n",
            "<ipython-input-62-fce11dd3a64a>:40: PerformanceWarning: DataFrame is highly fragmented.  This is usually the result of calling `frame.insert` many times, which has poor performance.  Consider joining all columns at once using pd.concat(axis=1) instead. To get a de-fragmented frame, use `newframe = frame.copy()`\n",
            "  df.at[i, col] = df2.iloc[1, df2.columns.get_loc(col)]\n",
            "<ipython-input-62-fce11dd3a64a>:40: PerformanceWarning: DataFrame is highly fragmented.  This is usually the result of calling `frame.insert` many times, which has poor performance.  Consider joining all columns at once using pd.concat(axis=1) instead. To get a de-fragmented frame, use `newframe = frame.copy()`\n",
            "  df.at[i, col] = df2.iloc[1, df2.columns.get_loc(col)]\n",
            "<ipython-input-62-fce11dd3a64a>:40: PerformanceWarning: DataFrame is highly fragmented.  This is usually the result of calling `frame.insert` many times, which has poor performance.  Consider joining all columns at once using pd.concat(axis=1) instead. To get a de-fragmented frame, use `newframe = frame.copy()`\n",
            "  df.at[i, col] = df2.iloc[1, df2.columns.get_loc(col)]\n",
            "<ipython-input-62-fce11dd3a64a>:40: PerformanceWarning: DataFrame is highly fragmented.  This is usually the result of calling `frame.insert` many times, which has poor performance.  Consider joining all columns at once using pd.concat(axis=1) instead. To get a de-fragmented frame, use `newframe = frame.copy()`\n",
            "  df.at[i, col] = df2.iloc[1, df2.columns.get_loc(col)]\n",
            "<ipython-input-62-fce11dd3a64a>:40: PerformanceWarning: DataFrame is highly fragmented.  This is usually the result of calling `frame.insert` many times, which has poor performance.  Consider joining all columns at once using pd.concat(axis=1) instead. To get a de-fragmented frame, use `newframe = frame.copy()`\n",
            "  df.at[i, col] = df2.iloc[1, df2.columns.get_loc(col)]\n",
            "<ipython-input-62-fce11dd3a64a>:40: PerformanceWarning: DataFrame is highly fragmented.  This is usually the result of calling `frame.insert` many times, which has poor performance.  Consider joining all columns at once using pd.concat(axis=1) instead. To get a de-fragmented frame, use `newframe = frame.copy()`\n",
            "  df.at[i, col] = df2.iloc[1, df2.columns.get_loc(col)]\n",
            "<ipython-input-62-fce11dd3a64a>:40: PerformanceWarning: DataFrame is highly fragmented.  This is usually the result of calling `frame.insert` many times, which has poor performance.  Consider joining all columns at once using pd.concat(axis=1) instead. To get a de-fragmented frame, use `newframe = frame.copy()`\n",
            "  df.at[i, col] = df2.iloc[1, df2.columns.get_loc(col)]\n",
            "<ipython-input-62-fce11dd3a64a>:40: PerformanceWarning: DataFrame is highly fragmented.  This is usually the result of calling `frame.insert` many times, which has poor performance.  Consider joining all columns at once using pd.concat(axis=1) instead. To get a de-fragmented frame, use `newframe = frame.copy()`\n",
            "  df.at[i, col] = df2.iloc[1, df2.columns.get_loc(col)]\n",
            "<ipython-input-62-fce11dd3a64a>:40: PerformanceWarning: DataFrame is highly fragmented.  This is usually the result of calling `frame.insert` many times, which has poor performance.  Consider joining all columns at once using pd.concat(axis=1) instead. To get a de-fragmented frame, use `newframe = frame.copy()`\n",
            "  df.at[i, col] = df2.iloc[1, df2.columns.get_loc(col)]\n",
            "<ipython-input-62-fce11dd3a64a>:40: PerformanceWarning: DataFrame is highly fragmented.  This is usually the result of calling `frame.insert` many times, which has poor performance.  Consider joining all columns at once using pd.concat(axis=1) instead. To get a de-fragmented frame, use `newframe = frame.copy()`\n",
            "  df.at[i, col] = df2.iloc[1, df2.columns.get_loc(col)]\n"
          ]
        },
        {
          "output_type": "stream",
          "name": "stdout",
          "text": [
            "800\n"
          ]
        },
        {
          "output_type": "stream",
          "name": "stderr",
          "text": [
            "<ipython-input-62-fce11dd3a64a>:40: PerformanceWarning: DataFrame is highly fragmented.  This is usually the result of calling `frame.insert` many times, which has poor performance.  Consider joining all columns at once using pd.concat(axis=1) instead. To get a de-fragmented frame, use `newframe = frame.copy()`\n",
            "  df.at[i, col] = df2.iloc[1, df2.columns.get_loc(col)]\n",
            "<ipython-input-62-fce11dd3a64a>:40: PerformanceWarning: DataFrame is highly fragmented.  This is usually the result of calling `frame.insert` many times, which has poor performance.  Consider joining all columns at once using pd.concat(axis=1) instead. To get a de-fragmented frame, use `newframe = frame.copy()`\n",
            "  df.at[i, col] = df2.iloc[1, df2.columns.get_loc(col)]\n",
            "<ipython-input-62-fce11dd3a64a>:40: PerformanceWarning: DataFrame is highly fragmented.  This is usually the result of calling `frame.insert` many times, which has poor performance.  Consider joining all columns at once using pd.concat(axis=1) instead. To get a de-fragmented frame, use `newframe = frame.copy()`\n",
            "  df.at[i, col] = df2.iloc[1, df2.columns.get_loc(col)]\n",
            "<ipython-input-62-fce11dd3a64a>:40: PerformanceWarning: DataFrame is highly fragmented.  This is usually the result of calling `frame.insert` many times, which has poor performance.  Consider joining all columns at once using pd.concat(axis=1) instead. To get a de-fragmented frame, use `newframe = frame.copy()`\n",
            "  df.at[i, col] = df2.iloc[1, df2.columns.get_loc(col)]\n",
            "<ipython-input-62-fce11dd3a64a>:40: PerformanceWarning: DataFrame is highly fragmented.  This is usually the result of calling `frame.insert` many times, which has poor performance.  Consider joining all columns at once using pd.concat(axis=1) instead. To get a de-fragmented frame, use `newframe = frame.copy()`\n",
            "  df.at[i, col] = df2.iloc[1, df2.columns.get_loc(col)]\n",
            "<ipython-input-62-fce11dd3a64a>:40: PerformanceWarning: DataFrame is highly fragmented.  This is usually the result of calling `frame.insert` many times, which has poor performance.  Consider joining all columns at once using pd.concat(axis=1) instead. To get a de-fragmented frame, use `newframe = frame.copy()`\n",
            "  df.at[i, col] = df2.iloc[1, df2.columns.get_loc(col)]\n",
            "<ipython-input-62-fce11dd3a64a>:40: PerformanceWarning: DataFrame is highly fragmented.  This is usually the result of calling `frame.insert` many times, which has poor performance.  Consider joining all columns at once using pd.concat(axis=1) instead. To get a de-fragmented frame, use `newframe = frame.copy()`\n",
            "  df.at[i, col] = df2.iloc[1, df2.columns.get_loc(col)]\n",
            "<ipython-input-62-fce11dd3a64a>:40: PerformanceWarning: DataFrame is highly fragmented.  This is usually the result of calling `frame.insert` many times, which has poor performance.  Consider joining all columns at once using pd.concat(axis=1) instead. To get a de-fragmented frame, use `newframe = frame.copy()`\n",
            "  df.at[i, col] = df2.iloc[1, df2.columns.get_loc(col)]\n"
          ]
        },
        {
          "output_type": "stream",
          "name": "stdout",
          "text": [
            "850\n"
          ]
        },
        {
          "output_type": "stream",
          "name": "stderr",
          "text": [
            "<ipython-input-62-fce11dd3a64a>:40: PerformanceWarning: DataFrame is highly fragmented.  This is usually the result of calling `frame.insert` many times, which has poor performance.  Consider joining all columns at once using pd.concat(axis=1) instead. To get a de-fragmented frame, use `newframe = frame.copy()`\n",
            "  df.at[i, col] = df2.iloc[1, df2.columns.get_loc(col)]\n",
            "<ipython-input-62-fce11dd3a64a>:40: PerformanceWarning: DataFrame is highly fragmented.  This is usually the result of calling `frame.insert` many times, which has poor performance.  Consider joining all columns at once using pd.concat(axis=1) instead. To get a de-fragmented frame, use `newframe = frame.copy()`\n",
            "  df.at[i, col] = df2.iloc[1, df2.columns.get_loc(col)]\n",
            "<ipython-input-62-fce11dd3a64a>:40: PerformanceWarning: DataFrame is highly fragmented.  This is usually the result of calling `frame.insert` many times, which has poor performance.  Consider joining all columns at once using pd.concat(axis=1) instead. To get a de-fragmented frame, use `newframe = frame.copy()`\n",
            "  df.at[i, col] = df2.iloc[1, df2.columns.get_loc(col)]\n",
            "<ipython-input-62-fce11dd3a64a>:40: PerformanceWarning: DataFrame is highly fragmented.  This is usually the result of calling `frame.insert` many times, which has poor performance.  Consider joining all columns at once using pd.concat(axis=1) instead. To get a de-fragmented frame, use `newframe = frame.copy()`\n",
            "  df.at[i, col] = df2.iloc[1, df2.columns.get_loc(col)]\n",
            "<ipython-input-62-fce11dd3a64a>:40: PerformanceWarning: DataFrame is highly fragmented.  This is usually the result of calling `frame.insert` many times, which has poor performance.  Consider joining all columns at once using pd.concat(axis=1) instead. To get a de-fragmented frame, use `newframe = frame.copy()`\n",
            "  df.at[i, col] = df2.iloc[1, df2.columns.get_loc(col)]\n",
            "<ipython-input-62-fce11dd3a64a>:40: PerformanceWarning: DataFrame is highly fragmented.  This is usually the result of calling `frame.insert` many times, which has poor performance.  Consider joining all columns at once using pd.concat(axis=1) instead. To get a de-fragmented frame, use `newframe = frame.copy()`\n",
            "  df.at[i, col] = df2.iloc[1, df2.columns.get_loc(col)]\n",
            "<ipython-input-62-fce11dd3a64a>:40: PerformanceWarning: DataFrame is highly fragmented.  This is usually the result of calling `frame.insert` many times, which has poor performance.  Consider joining all columns at once using pd.concat(axis=1) instead. To get a de-fragmented frame, use `newframe = frame.copy()`\n",
            "  df.at[i, col] = df2.iloc[1, df2.columns.get_loc(col)]\n",
            "<ipython-input-62-fce11dd3a64a>:40: PerformanceWarning: DataFrame is highly fragmented.  This is usually the result of calling `frame.insert` many times, which has poor performance.  Consider joining all columns at once using pd.concat(axis=1) instead. To get a de-fragmented frame, use `newframe = frame.copy()`\n",
            "  df.at[i, col] = df2.iloc[1, df2.columns.get_loc(col)]\n",
            "<ipython-input-62-fce11dd3a64a>:40: PerformanceWarning: DataFrame is highly fragmented.  This is usually the result of calling `frame.insert` many times, which has poor performance.  Consider joining all columns at once using pd.concat(axis=1) instead. To get a de-fragmented frame, use `newframe = frame.copy()`\n",
            "  df.at[i, col] = df2.iloc[1, df2.columns.get_loc(col)]\n",
            "<ipython-input-62-fce11dd3a64a>:40: PerformanceWarning: DataFrame is highly fragmented.  This is usually the result of calling `frame.insert` many times, which has poor performance.  Consider joining all columns at once using pd.concat(axis=1) instead. To get a de-fragmented frame, use `newframe = frame.copy()`\n",
            "  df.at[i, col] = df2.iloc[1, df2.columns.get_loc(col)]\n",
            "<ipython-input-62-fce11dd3a64a>:40: PerformanceWarning: DataFrame is highly fragmented.  This is usually the result of calling `frame.insert` many times, which has poor performance.  Consider joining all columns at once using pd.concat(axis=1) instead. To get a de-fragmented frame, use `newframe = frame.copy()`\n",
            "  df.at[i, col] = df2.iloc[1, df2.columns.get_loc(col)]\n",
            "<ipython-input-62-fce11dd3a64a>:40: PerformanceWarning: DataFrame is highly fragmented.  This is usually the result of calling `frame.insert` many times, which has poor performance.  Consider joining all columns at once using pd.concat(axis=1) instead. To get a de-fragmented frame, use `newframe = frame.copy()`\n",
            "  df.at[i, col] = df2.iloc[1, df2.columns.get_loc(col)]\n",
            "<ipython-input-62-fce11dd3a64a>:40: PerformanceWarning: DataFrame is highly fragmented.  This is usually the result of calling `frame.insert` many times, which has poor performance.  Consider joining all columns at once using pd.concat(axis=1) instead. To get a de-fragmented frame, use `newframe = frame.copy()`\n",
            "  df.at[i, col] = df2.iloc[1, df2.columns.get_loc(col)]\n",
            "<ipython-input-62-fce11dd3a64a>:40: PerformanceWarning: DataFrame is highly fragmented.  This is usually the result of calling `frame.insert` many times, which has poor performance.  Consider joining all columns at once using pd.concat(axis=1) instead. To get a de-fragmented frame, use `newframe = frame.copy()`\n",
            "  df.at[i, col] = df2.iloc[1, df2.columns.get_loc(col)]\n",
            "<ipython-input-62-fce11dd3a64a>:40: PerformanceWarning: DataFrame is highly fragmented.  This is usually the result of calling `frame.insert` many times, which has poor performance.  Consider joining all columns at once using pd.concat(axis=1) instead. To get a de-fragmented frame, use `newframe = frame.copy()`\n",
            "  df.at[i, col] = df2.iloc[1, df2.columns.get_loc(col)]\n",
            "<ipython-input-62-fce11dd3a64a>:40: PerformanceWarning: DataFrame is highly fragmented.  This is usually the result of calling `frame.insert` many times, which has poor performance.  Consider joining all columns at once using pd.concat(axis=1) instead. To get a de-fragmented frame, use `newframe = frame.copy()`\n",
            "  df.at[i, col] = df2.iloc[1, df2.columns.get_loc(col)]\n",
            "<ipython-input-62-fce11dd3a64a>:40: PerformanceWarning: DataFrame is highly fragmented.  This is usually the result of calling `frame.insert` many times, which has poor performance.  Consider joining all columns at once using pd.concat(axis=1) instead. To get a de-fragmented frame, use `newframe = frame.copy()`\n",
            "  df.at[i, col] = df2.iloc[1, df2.columns.get_loc(col)]\n",
            "<ipython-input-62-fce11dd3a64a>:40: PerformanceWarning: DataFrame is highly fragmented.  This is usually the result of calling `frame.insert` many times, which has poor performance.  Consider joining all columns at once using pd.concat(axis=1) instead. To get a de-fragmented frame, use `newframe = frame.copy()`\n",
            "  df.at[i, col] = df2.iloc[1, df2.columns.get_loc(col)]\n",
            "<ipython-input-62-fce11dd3a64a>:40: PerformanceWarning: DataFrame is highly fragmented.  This is usually the result of calling `frame.insert` many times, which has poor performance.  Consider joining all columns at once using pd.concat(axis=1) instead. To get a de-fragmented frame, use `newframe = frame.copy()`\n",
            "  df.at[i, col] = df2.iloc[1, df2.columns.get_loc(col)]\n",
            "<ipython-input-62-fce11dd3a64a>:40: PerformanceWarning: DataFrame is highly fragmented.  This is usually the result of calling `frame.insert` many times, which has poor performance.  Consider joining all columns at once using pd.concat(axis=1) instead. To get a de-fragmented frame, use `newframe = frame.copy()`\n",
            "  df.at[i, col] = df2.iloc[1, df2.columns.get_loc(col)]\n",
            "<ipython-input-62-fce11dd3a64a>:40: PerformanceWarning: DataFrame is highly fragmented.  This is usually the result of calling `frame.insert` many times, which has poor performance.  Consider joining all columns at once using pd.concat(axis=1) instead. To get a de-fragmented frame, use `newframe = frame.copy()`\n",
            "  df.at[i, col] = df2.iloc[1, df2.columns.get_loc(col)]\n"
          ]
        },
        {
          "output_type": "stream",
          "name": "stdout",
          "text": [
            "900\n"
          ]
        },
        {
          "output_type": "stream",
          "name": "stderr",
          "text": [
            "<ipython-input-62-fce11dd3a64a>:40: PerformanceWarning: DataFrame is highly fragmented.  This is usually the result of calling `frame.insert` many times, which has poor performance.  Consider joining all columns at once using pd.concat(axis=1) instead. To get a de-fragmented frame, use `newframe = frame.copy()`\n",
            "  df.at[i, col] = df2.iloc[1, df2.columns.get_loc(col)]\n",
            "<ipython-input-62-fce11dd3a64a>:40: PerformanceWarning: DataFrame is highly fragmented.  This is usually the result of calling `frame.insert` many times, which has poor performance.  Consider joining all columns at once using pd.concat(axis=1) instead. To get a de-fragmented frame, use `newframe = frame.copy()`\n",
            "  df.at[i, col] = df2.iloc[1, df2.columns.get_loc(col)]\n",
            "<ipython-input-62-fce11dd3a64a>:40: PerformanceWarning: DataFrame is highly fragmented.  This is usually the result of calling `frame.insert` many times, which has poor performance.  Consider joining all columns at once using pd.concat(axis=1) instead. To get a de-fragmented frame, use `newframe = frame.copy()`\n",
            "  df.at[i, col] = df2.iloc[1, df2.columns.get_loc(col)]\n",
            "<ipython-input-62-fce11dd3a64a>:40: PerformanceWarning: DataFrame is highly fragmented.  This is usually the result of calling `frame.insert` many times, which has poor performance.  Consider joining all columns at once using pd.concat(axis=1) instead. To get a de-fragmented frame, use `newframe = frame.copy()`\n",
            "  df.at[i, col] = df2.iloc[1, df2.columns.get_loc(col)]\n",
            "<ipython-input-62-fce11dd3a64a>:40: PerformanceWarning: DataFrame is highly fragmented.  This is usually the result of calling `frame.insert` many times, which has poor performance.  Consider joining all columns at once using pd.concat(axis=1) instead. To get a de-fragmented frame, use `newframe = frame.copy()`\n",
            "  df.at[i, col] = df2.iloc[1, df2.columns.get_loc(col)]\n",
            "<ipython-input-62-fce11dd3a64a>:40: PerformanceWarning: DataFrame is highly fragmented.  This is usually the result of calling `frame.insert` many times, which has poor performance.  Consider joining all columns at once using pd.concat(axis=1) instead. To get a de-fragmented frame, use `newframe = frame.copy()`\n",
            "  df.at[i, col] = df2.iloc[1, df2.columns.get_loc(col)]\n",
            "<ipython-input-62-fce11dd3a64a>:40: PerformanceWarning: DataFrame is highly fragmented.  This is usually the result of calling `frame.insert` many times, which has poor performance.  Consider joining all columns at once using pd.concat(axis=1) instead. To get a de-fragmented frame, use `newframe = frame.copy()`\n",
            "  df.at[i, col] = df2.iloc[1, df2.columns.get_loc(col)]\n",
            "<ipython-input-62-fce11dd3a64a>:40: PerformanceWarning: DataFrame is highly fragmented.  This is usually the result of calling `frame.insert` many times, which has poor performance.  Consider joining all columns at once using pd.concat(axis=1) instead. To get a de-fragmented frame, use `newframe = frame.copy()`\n",
            "  df.at[i, col] = df2.iloc[1, df2.columns.get_loc(col)]\n",
            "<ipython-input-62-fce11dd3a64a>:40: PerformanceWarning: DataFrame is highly fragmented.  This is usually the result of calling `frame.insert` many times, which has poor performance.  Consider joining all columns at once using pd.concat(axis=1) instead. To get a de-fragmented frame, use `newframe = frame.copy()`\n",
            "  df.at[i, col] = df2.iloc[1, df2.columns.get_loc(col)]\n",
            "<ipython-input-62-fce11dd3a64a>:40: PerformanceWarning: DataFrame is highly fragmented.  This is usually the result of calling `frame.insert` many times, which has poor performance.  Consider joining all columns at once using pd.concat(axis=1) instead. To get a de-fragmented frame, use `newframe = frame.copy()`\n",
            "  df.at[i, col] = df2.iloc[1, df2.columns.get_loc(col)]\n",
            "<ipython-input-62-fce11dd3a64a>:40: PerformanceWarning: DataFrame is highly fragmented.  This is usually the result of calling `frame.insert` many times, which has poor performance.  Consider joining all columns at once using pd.concat(axis=1) instead. To get a de-fragmented frame, use `newframe = frame.copy()`\n",
            "  df.at[i, col] = df2.iloc[1, df2.columns.get_loc(col)]\n",
            "<ipython-input-62-fce11dd3a64a>:40: PerformanceWarning: DataFrame is highly fragmented.  This is usually the result of calling `frame.insert` many times, which has poor performance.  Consider joining all columns at once using pd.concat(axis=1) instead. To get a de-fragmented frame, use `newframe = frame.copy()`\n",
            "  df.at[i, col] = df2.iloc[1, df2.columns.get_loc(col)]\n",
            "<ipython-input-62-fce11dd3a64a>:40: PerformanceWarning: DataFrame is highly fragmented.  This is usually the result of calling `frame.insert` many times, which has poor performance.  Consider joining all columns at once using pd.concat(axis=1) instead. To get a de-fragmented frame, use `newframe = frame.copy()`\n",
            "  df.at[i, col] = df2.iloc[1, df2.columns.get_loc(col)]\n",
            "<ipython-input-62-fce11dd3a64a>:40: PerformanceWarning: DataFrame is highly fragmented.  This is usually the result of calling `frame.insert` many times, which has poor performance.  Consider joining all columns at once using pd.concat(axis=1) instead. To get a de-fragmented frame, use `newframe = frame.copy()`\n",
            "  df.at[i, col] = df2.iloc[1, df2.columns.get_loc(col)]\n",
            "<ipython-input-62-fce11dd3a64a>:40: PerformanceWarning: DataFrame is highly fragmented.  This is usually the result of calling `frame.insert` many times, which has poor performance.  Consider joining all columns at once using pd.concat(axis=1) instead. To get a de-fragmented frame, use `newframe = frame.copy()`\n",
            "  df.at[i, col] = df2.iloc[1, df2.columns.get_loc(col)]\n"
          ]
        },
        {
          "output_type": "stream",
          "name": "stdout",
          "text": [
            "950\n",
            "1000\n"
          ]
        },
        {
          "output_type": "stream",
          "name": "stderr",
          "text": [
            "<ipython-input-62-fce11dd3a64a>:40: PerformanceWarning: DataFrame is highly fragmented.  This is usually the result of calling `frame.insert` many times, which has poor performance.  Consider joining all columns at once using pd.concat(axis=1) instead. To get a de-fragmented frame, use `newframe = frame.copy()`\n",
            "  df.at[i, col] = df2.iloc[1, df2.columns.get_loc(col)]\n",
            "<ipython-input-62-fce11dd3a64a>:40: PerformanceWarning: DataFrame is highly fragmented.  This is usually the result of calling `frame.insert` many times, which has poor performance.  Consider joining all columns at once using pd.concat(axis=1) instead. To get a de-fragmented frame, use `newframe = frame.copy()`\n",
            "  df.at[i, col] = df2.iloc[1, df2.columns.get_loc(col)]\n",
            "<ipython-input-62-fce11dd3a64a>:40: PerformanceWarning: DataFrame is highly fragmented.  This is usually the result of calling `frame.insert` many times, which has poor performance.  Consider joining all columns at once using pd.concat(axis=1) instead. To get a de-fragmented frame, use `newframe = frame.copy()`\n",
            "  df.at[i, col] = df2.iloc[1, df2.columns.get_loc(col)]\n",
            "<ipython-input-62-fce11dd3a64a>:40: PerformanceWarning: DataFrame is highly fragmented.  This is usually the result of calling `frame.insert` many times, which has poor performance.  Consider joining all columns at once using pd.concat(axis=1) instead. To get a de-fragmented frame, use `newframe = frame.copy()`\n",
            "  df.at[i, col] = df2.iloc[1, df2.columns.get_loc(col)]\n",
            "<ipython-input-62-fce11dd3a64a>:40: PerformanceWarning: DataFrame is highly fragmented.  This is usually the result of calling `frame.insert` many times, which has poor performance.  Consider joining all columns at once using pd.concat(axis=1) instead. To get a de-fragmented frame, use `newframe = frame.copy()`\n",
            "  df.at[i, col] = df2.iloc[1, df2.columns.get_loc(col)]\n",
            "<ipython-input-62-fce11dd3a64a>:40: PerformanceWarning: DataFrame is highly fragmented.  This is usually the result of calling `frame.insert` many times, which has poor performance.  Consider joining all columns at once using pd.concat(axis=1) instead. To get a de-fragmented frame, use `newframe = frame.copy()`\n",
            "  df.at[i, col] = df2.iloc[1, df2.columns.get_loc(col)]\n",
            "<ipython-input-62-fce11dd3a64a>:40: PerformanceWarning: DataFrame is highly fragmented.  This is usually the result of calling `frame.insert` many times, which has poor performance.  Consider joining all columns at once using pd.concat(axis=1) instead. To get a de-fragmented frame, use `newframe = frame.copy()`\n",
            "  df.at[i, col] = df2.iloc[1, df2.columns.get_loc(col)]\n",
            "<ipython-input-62-fce11dd3a64a>:40: PerformanceWarning: DataFrame is highly fragmented.  This is usually the result of calling `frame.insert` many times, which has poor performance.  Consider joining all columns at once using pd.concat(axis=1) instead. To get a de-fragmented frame, use `newframe = frame.copy()`\n",
            "  df.at[i, col] = df2.iloc[1, df2.columns.get_loc(col)]\n",
            "<ipython-input-62-fce11dd3a64a>:40: PerformanceWarning: DataFrame is highly fragmented.  This is usually the result of calling `frame.insert` many times, which has poor performance.  Consider joining all columns at once using pd.concat(axis=1) instead. To get a de-fragmented frame, use `newframe = frame.copy()`\n",
            "  df.at[i, col] = df2.iloc[1, df2.columns.get_loc(col)]\n",
            "<ipython-input-62-fce11dd3a64a>:40: PerformanceWarning: DataFrame is highly fragmented.  This is usually the result of calling `frame.insert` many times, which has poor performance.  Consider joining all columns at once using pd.concat(axis=1) instead. To get a de-fragmented frame, use `newframe = frame.copy()`\n",
            "  df.at[i, col] = df2.iloc[1, df2.columns.get_loc(col)]\n",
            "<ipython-input-62-fce11dd3a64a>:40: PerformanceWarning: DataFrame is highly fragmented.  This is usually the result of calling `frame.insert` many times, which has poor performance.  Consider joining all columns at once using pd.concat(axis=1) instead. To get a de-fragmented frame, use `newframe = frame.copy()`\n",
            "  df.at[i, col] = df2.iloc[1, df2.columns.get_loc(col)]\n",
            "<ipython-input-62-fce11dd3a64a>:40: PerformanceWarning: DataFrame is highly fragmented.  This is usually the result of calling `frame.insert` many times, which has poor performance.  Consider joining all columns at once using pd.concat(axis=1) instead. To get a de-fragmented frame, use `newframe = frame.copy()`\n",
            "  df.at[i, col] = df2.iloc[1, df2.columns.get_loc(col)]\n",
            "<ipython-input-62-fce11dd3a64a>:40: PerformanceWarning: DataFrame is highly fragmented.  This is usually the result of calling `frame.insert` many times, which has poor performance.  Consider joining all columns at once using pd.concat(axis=1) instead. To get a de-fragmented frame, use `newframe = frame.copy()`\n",
            "  df.at[i, col] = df2.iloc[1, df2.columns.get_loc(col)]\n"
          ]
        },
        {
          "output_type": "stream",
          "name": "stdout",
          "text": [
            "1050\n"
          ]
        },
        {
          "output_type": "stream",
          "name": "stderr",
          "text": [
            "<ipython-input-62-fce11dd3a64a>:40: PerformanceWarning: DataFrame is highly fragmented.  This is usually the result of calling `frame.insert` many times, which has poor performance.  Consider joining all columns at once using pd.concat(axis=1) instead. To get a de-fragmented frame, use `newframe = frame.copy()`\n",
            "  df.at[i, col] = df2.iloc[1, df2.columns.get_loc(col)]\n",
            "<ipython-input-62-fce11dd3a64a>:40: PerformanceWarning: DataFrame is highly fragmented.  This is usually the result of calling `frame.insert` many times, which has poor performance.  Consider joining all columns at once using pd.concat(axis=1) instead. To get a de-fragmented frame, use `newframe = frame.copy()`\n",
            "  df.at[i, col] = df2.iloc[1, df2.columns.get_loc(col)]\n",
            "<ipython-input-62-fce11dd3a64a>:40: PerformanceWarning: DataFrame is highly fragmented.  This is usually the result of calling `frame.insert` many times, which has poor performance.  Consider joining all columns at once using pd.concat(axis=1) instead. To get a de-fragmented frame, use `newframe = frame.copy()`\n",
            "  df.at[i, col] = df2.iloc[1, df2.columns.get_loc(col)]\n",
            "<ipython-input-62-fce11dd3a64a>:40: PerformanceWarning: DataFrame is highly fragmented.  This is usually the result of calling `frame.insert` many times, which has poor performance.  Consider joining all columns at once using pd.concat(axis=1) instead. To get a de-fragmented frame, use `newframe = frame.copy()`\n",
            "  df.at[i, col] = df2.iloc[1, df2.columns.get_loc(col)]\n",
            "<ipython-input-62-fce11dd3a64a>:40: PerformanceWarning: DataFrame is highly fragmented.  This is usually the result of calling `frame.insert` many times, which has poor performance.  Consider joining all columns at once using pd.concat(axis=1) instead. To get a de-fragmented frame, use `newframe = frame.copy()`\n",
            "  df.at[i, col] = df2.iloc[1, df2.columns.get_loc(col)]\n",
            "<ipython-input-62-fce11dd3a64a>:40: PerformanceWarning: DataFrame is highly fragmented.  This is usually the result of calling `frame.insert` many times, which has poor performance.  Consider joining all columns at once using pd.concat(axis=1) instead. To get a de-fragmented frame, use `newframe = frame.copy()`\n",
            "  df.at[i, col] = df2.iloc[1, df2.columns.get_loc(col)]\n",
            "<ipython-input-62-fce11dd3a64a>:40: PerformanceWarning: DataFrame is highly fragmented.  This is usually the result of calling `frame.insert` many times, which has poor performance.  Consider joining all columns at once using pd.concat(axis=1) instead. To get a de-fragmented frame, use `newframe = frame.copy()`\n",
            "  df.at[i, col] = df2.iloc[1, df2.columns.get_loc(col)]\n",
            "<ipython-input-62-fce11dd3a64a>:40: PerformanceWarning: DataFrame is highly fragmented.  This is usually the result of calling `frame.insert` many times, which has poor performance.  Consider joining all columns at once using pd.concat(axis=1) instead. To get a de-fragmented frame, use `newframe = frame.copy()`\n",
            "  df.at[i, col] = df2.iloc[1, df2.columns.get_loc(col)]\n",
            "<ipython-input-62-fce11dd3a64a>:40: PerformanceWarning: DataFrame is highly fragmented.  This is usually the result of calling `frame.insert` many times, which has poor performance.  Consider joining all columns at once using pd.concat(axis=1) instead. To get a de-fragmented frame, use `newframe = frame.copy()`\n",
            "  df.at[i, col] = df2.iloc[1, df2.columns.get_loc(col)]\n",
            "<ipython-input-62-fce11dd3a64a>:40: PerformanceWarning: DataFrame is highly fragmented.  This is usually the result of calling `frame.insert` many times, which has poor performance.  Consider joining all columns at once using pd.concat(axis=1) instead. To get a de-fragmented frame, use `newframe = frame.copy()`\n",
            "  df.at[i, col] = df2.iloc[1, df2.columns.get_loc(col)]\n",
            "<ipython-input-62-fce11dd3a64a>:40: PerformanceWarning: DataFrame is highly fragmented.  This is usually the result of calling `frame.insert` many times, which has poor performance.  Consider joining all columns at once using pd.concat(axis=1) instead. To get a de-fragmented frame, use `newframe = frame.copy()`\n",
            "  df.at[i, col] = df2.iloc[1, df2.columns.get_loc(col)]\n",
            "<ipython-input-62-fce11dd3a64a>:40: PerformanceWarning: DataFrame is highly fragmented.  This is usually the result of calling `frame.insert` many times, which has poor performance.  Consider joining all columns at once using pd.concat(axis=1) instead. To get a de-fragmented frame, use `newframe = frame.copy()`\n",
            "  df.at[i, col] = df2.iloc[1, df2.columns.get_loc(col)]\n",
            "<ipython-input-62-fce11dd3a64a>:40: PerformanceWarning: DataFrame is highly fragmented.  This is usually the result of calling `frame.insert` many times, which has poor performance.  Consider joining all columns at once using pd.concat(axis=1) instead. To get a de-fragmented frame, use `newframe = frame.copy()`\n",
            "  df.at[i, col] = df2.iloc[1, df2.columns.get_loc(col)]\n",
            "<ipython-input-62-fce11dd3a64a>:40: PerformanceWarning: DataFrame is highly fragmented.  This is usually the result of calling `frame.insert` many times, which has poor performance.  Consider joining all columns at once using pd.concat(axis=1) instead. To get a de-fragmented frame, use `newframe = frame.copy()`\n",
            "  df.at[i, col] = df2.iloc[1, df2.columns.get_loc(col)]\n",
            "<ipython-input-62-fce11dd3a64a>:40: PerformanceWarning: DataFrame is highly fragmented.  This is usually the result of calling `frame.insert` many times, which has poor performance.  Consider joining all columns at once using pd.concat(axis=1) instead. To get a de-fragmented frame, use `newframe = frame.copy()`\n",
            "  df.at[i, col] = df2.iloc[1, df2.columns.get_loc(col)]\n",
            "<ipython-input-62-fce11dd3a64a>:40: PerformanceWarning: DataFrame is highly fragmented.  This is usually the result of calling `frame.insert` many times, which has poor performance.  Consider joining all columns at once using pd.concat(axis=1) instead. To get a de-fragmented frame, use `newframe = frame.copy()`\n",
            "  df.at[i, col] = df2.iloc[1, df2.columns.get_loc(col)]\n"
          ]
        },
        {
          "output_type": "stream",
          "name": "stdout",
          "text": [
            "1100\n"
          ]
        },
        {
          "output_type": "stream",
          "name": "stderr",
          "text": [
            "<ipython-input-62-fce11dd3a64a>:40: PerformanceWarning: DataFrame is highly fragmented.  This is usually the result of calling `frame.insert` many times, which has poor performance.  Consider joining all columns at once using pd.concat(axis=1) instead. To get a de-fragmented frame, use `newframe = frame.copy()`\n",
            "  df.at[i, col] = df2.iloc[1, df2.columns.get_loc(col)]\n",
            "<ipython-input-62-fce11dd3a64a>:40: PerformanceWarning: DataFrame is highly fragmented.  This is usually the result of calling `frame.insert` many times, which has poor performance.  Consider joining all columns at once using pd.concat(axis=1) instead. To get a de-fragmented frame, use `newframe = frame.copy()`\n",
            "  df.at[i, col] = df2.iloc[1, df2.columns.get_loc(col)]\n",
            "<ipython-input-62-fce11dd3a64a>:40: PerformanceWarning: DataFrame is highly fragmented.  This is usually the result of calling `frame.insert` many times, which has poor performance.  Consider joining all columns at once using pd.concat(axis=1) instead. To get a de-fragmented frame, use `newframe = frame.copy()`\n",
            "  df.at[i, col] = df2.iloc[1, df2.columns.get_loc(col)]\n",
            "<ipython-input-62-fce11dd3a64a>:40: PerformanceWarning: DataFrame is highly fragmented.  This is usually the result of calling `frame.insert` many times, which has poor performance.  Consider joining all columns at once using pd.concat(axis=1) instead. To get a de-fragmented frame, use `newframe = frame.copy()`\n",
            "  df.at[i, col] = df2.iloc[1, df2.columns.get_loc(col)]\n",
            "<ipython-input-62-fce11dd3a64a>:40: PerformanceWarning: DataFrame is highly fragmented.  This is usually the result of calling `frame.insert` many times, which has poor performance.  Consider joining all columns at once using pd.concat(axis=1) instead. To get a de-fragmented frame, use `newframe = frame.copy()`\n",
            "  df.at[i, col] = df2.iloc[1, df2.columns.get_loc(col)]\n",
            "<ipython-input-62-fce11dd3a64a>:40: PerformanceWarning: DataFrame is highly fragmented.  This is usually the result of calling `frame.insert` many times, which has poor performance.  Consider joining all columns at once using pd.concat(axis=1) instead. To get a de-fragmented frame, use `newframe = frame.copy()`\n",
            "  df.at[i, col] = df2.iloc[1, df2.columns.get_loc(col)]\n",
            "<ipython-input-62-fce11dd3a64a>:40: PerformanceWarning: DataFrame is highly fragmented.  This is usually the result of calling `frame.insert` many times, which has poor performance.  Consider joining all columns at once using pd.concat(axis=1) instead. To get a de-fragmented frame, use `newframe = frame.copy()`\n",
            "  df.at[i, col] = df2.iloc[1, df2.columns.get_loc(col)]\n",
            "<ipython-input-62-fce11dd3a64a>:40: PerformanceWarning: DataFrame is highly fragmented.  This is usually the result of calling `frame.insert` many times, which has poor performance.  Consider joining all columns at once using pd.concat(axis=1) instead. To get a de-fragmented frame, use `newframe = frame.copy()`\n",
            "  df.at[i, col] = df2.iloc[1, df2.columns.get_loc(col)]\n",
            "<ipython-input-62-fce11dd3a64a>:40: PerformanceWarning: DataFrame is highly fragmented.  This is usually the result of calling `frame.insert` many times, which has poor performance.  Consider joining all columns at once using pd.concat(axis=1) instead. To get a de-fragmented frame, use `newframe = frame.copy()`\n",
            "  df.at[i, col] = df2.iloc[1, df2.columns.get_loc(col)]\n",
            "<ipython-input-62-fce11dd3a64a>:40: PerformanceWarning: DataFrame is highly fragmented.  This is usually the result of calling `frame.insert` many times, which has poor performance.  Consider joining all columns at once using pd.concat(axis=1) instead. To get a de-fragmented frame, use `newframe = frame.copy()`\n",
            "  df.at[i, col] = df2.iloc[1, df2.columns.get_loc(col)]\n",
            "<ipython-input-62-fce11dd3a64a>:40: PerformanceWarning: DataFrame is highly fragmented.  This is usually the result of calling `frame.insert` many times, which has poor performance.  Consider joining all columns at once using pd.concat(axis=1) instead. To get a de-fragmented frame, use `newframe = frame.copy()`\n",
            "  df.at[i, col] = df2.iloc[1, df2.columns.get_loc(col)]\n",
            "<ipython-input-62-fce11dd3a64a>:40: PerformanceWarning: DataFrame is highly fragmented.  This is usually the result of calling `frame.insert` many times, which has poor performance.  Consider joining all columns at once using pd.concat(axis=1) instead. To get a de-fragmented frame, use `newframe = frame.copy()`\n",
            "  df.at[i, col] = df2.iloc[1, df2.columns.get_loc(col)]\n",
            "<ipython-input-62-fce11dd3a64a>:40: PerformanceWarning: DataFrame is highly fragmented.  This is usually the result of calling `frame.insert` many times, which has poor performance.  Consider joining all columns at once using pd.concat(axis=1) instead. To get a de-fragmented frame, use `newframe = frame.copy()`\n",
            "  df.at[i, col] = df2.iloc[1, df2.columns.get_loc(col)]\n",
            "<ipython-input-62-fce11dd3a64a>:40: PerformanceWarning: DataFrame is highly fragmented.  This is usually the result of calling `frame.insert` many times, which has poor performance.  Consider joining all columns at once using pd.concat(axis=1) instead. To get a de-fragmented frame, use `newframe = frame.copy()`\n",
            "  df.at[i, col] = df2.iloc[1, df2.columns.get_loc(col)]\n",
            "<ipython-input-62-fce11dd3a64a>:40: PerformanceWarning: DataFrame is highly fragmented.  This is usually the result of calling `frame.insert` many times, which has poor performance.  Consider joining all columns at once using pd.concat(axis=1) instead. To get a de-fragmented frame, use `newframe = frame.copy()`\n",
            "  df.at[i, col] = df2.iloc[1, df2.columns.get_loc(col)]\n",
            "<ipython-input-62-fce11dd3a64a>:40: PerformanceWarning: DataFrame is highly fragmented.  This is usually the result of calling `frame.insert` many times, which has poor performance.  Consider joining all columns at once using pd.concat(axis=1) instead. To get a de-fragmented frame, use `newframe = frame.copy()`\n",
            "  df.at[i, col] = df2.iloc[1, df2.columns.get_loc(col)]\n",
            "<ipython-input-62-fce11dd3a64a>:40: PerformanceWarning: DataFrame is highly fragmented.  This is usually the result of calling `frame.insert` many times, which has poor performance.  Consider joining all columns at once using pd.concat(axis=1) instead. To get a de-fragmented frame, use `newframe = frame.copy()`\n",
            "  df.at[i, col] = df2.iloc[1, df2.columns.get_loc(col)]\n",
            "<ipython-input-62-fce11dd3a64a>:40: PerformanceWarning: DataFrame is highly fragmented.  This is usually the result of calling `frame.insert` many times, which has poor performance.  Consider joining all columns at once using pd.concat(axis=1) instead. To get a de-fragmented frame, use `newframe = frame.copy()`\n",
            "  df.at[i, col] = df2.iloc[1, df2.columns.get_loc(col)]\n",
            "<ipython-input-62-fce11dd3a64a>:40: PerformanceWarning: DataFrame is highly fragmented.  This is usually the result of calling `frame.insert` many times, which has poor performance.  Consider joining all columns at once using pd.concat(axis=1) instead. To get a de-fragmented frame, use `newframe = frame.copy()`\n",
            "  df.at[i, col] = df2.iloc[1, df2.columns.get_loc(col)]\n",
            "<ipython-input-62-fce11dd3a64a>:40: PerformanceWarning: DataFrame is highly fragmented.  This is usually the result of calling `frame.insert` many times, which has poor performance.  Consider joining all columns at once using pd.concat(axis=1) instead. To get a de-fragmented frame, use `newframe = frame.copy()`\n",
            "  df.at[i, col] = df2.iloc[1, df2.columns.get_loc(col)]\n",
            "<ipython-input-62-fce11dd3a64a>:40: PerformanceWarning: DataFrame is highly fragmented.  This is usually the result of calling `frame.insert` many times, which has poor performance.  Consider joining all columns at once using pd.concat(axis=1) instead. To get a de-fragmented frame, use `newframe = frame.copy()`\n",
            "  df.at[i, col] = df2.iloc[1, df2.columns.get_loc(col)]\n",
            "<ipython-input-62-fce11dd3a64a>:40: PerformanceWarning: DataFrame is highly fragmented.  This is usually the result of calling `frame.insert` many times, which has poor performance.  Consider joining all columns at once using pd.concat(axis=1) instead. To get a de-fragmented frame, use `newframe = frame.copy()`\n",
            "  df.at[i, col] = df2.iloc[1, df2.columns.get_loc(col)]\n",
            "<ipython-input-62-fce11dd3a64a>:40: PerformanceWarning: DataFrame is highly fragmented.  This is usually the result of calling `frame.insert` many times, which has poor performance.  Consider joining all columns at once using pd.concat(axis=1) instead. To get a de-fragmented frame, use `newframe = frame.copy()`\n",
            "  df.at[i, col] = df2.iloc[1, df2.columns.get_loc(col)]\n",
            "<ipython-input-62-fce11dd3a64a>:40: PerformanceWarning: DataFrame is highly fragmented.  This is usually the result of calling `frame.insert` many times, which has poor performance.  Consider joining all columns at once using pd.concat(axis=1) instead. To get a de-fragmented frame, use `newframe = frame.copy()`\n",
            "  df.at[i, col] = df2.iloc[1, df2.columns.get_loc(col)]\n"
          ]
        },
        {
          "output_type": "stream",
          "name": "stdout",
          "text": [
            "1150\n"
          ]
        },
        {
          "output_type": "stream",
          "name": "stderr",
          "text": [
            "<ipython-input-62-fce11dd3a64a>:40: PerformanceWarning: DataFrame is highly fragmented.  This is usually the result of calling `frame.insert` many times, which has poor performance.  Consider joining all columns at once using pd.concat(axis=1) instead. To get a de-fragmented frame, use `newframe = frame.copy()`\n",
            "  df.at[i, col] = df2.iloc[1, df2.columns.get_loc(col)]\n",
            "<ipython-input-62-fce11dd3a64a>:40: PerformanceWarning: DataFrame is highly fragmented.  This is usually the result of calling `frame.insert` many times, which has poor performance.  Consider joining all columns at once using pd.concat(axis=1) instead. To get a de-fragmented frame, use `newframe = frame.copy()`\n",
            "  df.at[i, col] = df2.iloc[1, df2.columns.get_loc(col)]\n",
            "<ipython-input-62-fce11dd3a64a>:40: PerformanceWarning: DataFrame is highly fragmented.  This is usually the result of calling `frame.insert` many times, which has poor performance.  Consider joining all columns at once using pd.concat(axis=1) instead. To get a de-fragmented frame, use `newframe = frame.copy()`\n",
            "  df.at[i, col] = df2.iloc[1, df2.columns.get_loc(col)]\n",
            "<ipython-input-62-fce11dd3a64a>:40: PerformanceWarning: DataFrame is highly fragmented.  This is usually the result of calling `frame.insert` many times, which has poor performance.  Consider joining all columns at once using pd.concat(axis=1) instead. To get a de-fragmented frame, use `newframe = frame.copy()`\n",
            "  df.at[i, col] = df2.iloc[1, df2.columns.get_loc(col)]\n",
            "<ipython-input-62-fce11dd3a64a>:40: PerformanceWarning: DataFrame is highly fragmented.  This is usually the result of calling `frame.insert` many times, which has poor performance.  Consider joining all columns at once using pd.concat(axis=1) instead. To get a de-fragmented frame, use `newframe = frame.copy()`\n",
            "  df.at[i, col] = df2.iloc[1, df2.columns.get_loc(col)]\n",
            "<ipython-input-62-fce11dd3a64a>:40: PerformanceWarning: DataFrame is highly fragmented.  This is usually the result of calling `frame.insert` many times, which has poor performance.  Consider joining all columns at once using pd.concat(axis=1) instead. To get a de-fragmented frame, use `newframe = frame.copy()`\n",
            "  df.at[i, col] = df2.iloc[1, df2.columns.get_loc(col)]\n",
            "<ipython-input-62-fce11dd3a64a>:40: PerformanceWarning: DataFrame is highly fragmented.  This is usually the result of calling `frame.insert` many times, which has poor performance.  Consider joining all columns at once using pd.concat(axis=1) instead. To get a de-fragmented frame, use `newframe = frame.copy()`\n",
            "  df.at[i, col] = df2.iloc[1, df2.columns.get_loc(col)]\n",
            "<ipython-input-62-fce11dd3a64a>:40: PerformanceWarning: DataFrame is highly fragmented.  This is usually the result of calling `frame.insert` many times, which has poor performance.  Consider joining all columns at once using pd.concat(axis=1) instead. To get a de-fragmented frame, use `newframe = frame.copy()`\n",
            "  df.at[i, col] = df2.iloc[1, df2.columns.get_loc(col)]\n",
            "<ipython-input-62-fce11dd3a64a>:40: PerformanceWarning: DataFrame is highly fragmented.  This is usually the result of calling `frame.insert` many times, which has poor performance.  Consider joining all columns at once using pd.concat(axis=1) instead. To get a de-fragmented frame, use `newframe = frame.copy()`\n",
            "  df.at[i, col] = df2.iloc[1, df2.columns.get_loc(col)]\n",
            "<ipython-input-62-fce11dd3a64a>:40: PerformanceWarning: DataFrame is highly fragmented.  This is usually the result of calling `frame.insert` many times, which has poor performance.  Consider joining all columns at once using pd.concat(axis=1) instead. To get a de-fragmented frame, use `newframe = frame.copy()`\n",
            "  df.at[i, col] = df2.iloc[1, df2.columns.get_loc(col)]\n"
          ]
        },
        {
          "output_type": "stream",
          "name": "stdout",
          "text": [
            "1200\n"
          ]
        },
        {
          "output_type": "stream",
          "name": "stderr",
          "text": [
            "<ipython-input-62-fce11dd3a64a>:40: PerformanceWarning: DataFrame is highly fragmented.  This is usually the result of calling `frame.insert` many times, which has poor performance.  Consider joining all columns at once using pd.concat(axis=1) instead. To get a de-fragmented frame, use `newframe = frame.copy()`\n",
            "  df.at[i, col] = df2.iloc[1, df2.columns.get_loc(col)]\n",
            "<ipython-input-62-fce11dd3a64a>:40: PerformanceWarning: DataFrame is highly fragmented.  This is usually the result of calling `frame.insert` many times, which has poor performance.  Consider joining all columns at once using pd.concat(axis=1) instead. To get a de-fragmented frame, use `newframe = frame.copy()`\n",
            "  df.at[i, col] = df2.iloc[1, df2.columns.get_loc(col)]\n",
            "<ipython-input-62-fce11dd3a64a>:40: PerformanceWarning: DataFrame is highly fragmented.  This is usually the result of calling `frame.insert` many times, which has poor performance.  Consider joining all columns at once using pd.concat(axis=1) instead. To get a de-fragmented frame, use `newframe = frame.copy()`\n",
            "  df.at[i, col] = df2.iloc[1, df2.columns.get_loc(col)]\n"
          ]
        },
        {
          "output_type": "stream",
          "name": "stdout",
          "text": [
            "1250\n"
          ]
        },
        {
          "output_type": "stream",
          "name": "stderr",
          "text": [
            "<ipython-input-62-fce11dd3a64a>:40: PerformanceWarning: DataFrame is highly fragmented.  This is usually the result of calling `frame.insert` many times, which has poor performance.  Consider joining all columns at once using pd.concat(axis=1) instead. To get a de-fragmented frame, use `newframe = frame.copy()`\n",
            "  df.at[i, col] = df2.iloc[1, df2.columns.get_loc(col)]\n",
            "<ipython-input-62-fce11dd3a64a>:40: PerformanceWarning: DataFrame is highly fragmented.  This is usually the result of calling `frame.insert` many times, which has poor performance.  Consider joining all columns at once using pd.concat(axis=1) instead. To get a de-fragmented frame, use `newframe = frame.copy()`\n",
            "  df.at[i, col] = df2.iloc[1, df2.columns.get_loc(col)]\n",
            "<ipython-input-62-fce11dd3a64a>:40: PerformanceWarning: DataFrame is highly fragmented.  This is usually the result of calling `frame.insert` many times, which has poor performance.  Consider joining all columns at once using pd.concat(axis=1) instead. To get a de-fragmented frame, use `newframe = frame.copy()`\n",
            "  df.at[i, col] = df2.iloc[1, df2.columns.get_loc(col)]\n",
            "<ipython-input-62-fce11dd3a64a>:40: PerformanceWarning: DataFrame is highly fragmented.  This is usually the result of calling `frame.insert` many times, which has poor performance.  Consider joining all columns at once using pd.concat(axis=1) instead. To get a de-fragmented frame, use `newframe = frame.copy()`\n",
            "  df.at[i, col] = df2.iloc[1, df2.columns.get_loc(col)]\n",
            "<ipython-input-62-fce11dd3a64a>:40: PerformanceWarning: DataFrame is highly fragmented.  This is usually the result of calling `frame.insert` many times, which has poor performance.  Consider joining all columns at once using pd.concat(axis=1) instead. To get a de-fragmented frame, use `newframe = frame.copy()`\n",
            "  df.at[i, col] = df2.iloc[1, df2.columns.get_loc(col)]\n"
          ]
        },
        {
          "output_type": "stream",
          "name": "stdout",
          "text": [
            "1300\n"
          ]
        },
        {
          "output_type": "stream",
          "name": "stderr",
          "text": [
            "<ipython-input-62-fce11dd3a64a>:40: PerformanceWarning: DataFrame is highly fragmented.  This is usually the result of calling `frame.insert` many times, which has poor performance.  Consider joining all columns at once using pd.concat(axis=1) instead. To get a de-fragmented frame, use `newframe = frame.copy()`\n",
            "  df.at[i, col] = df2.iloc[1, df2.columns.get_loc(col)]\n",
            "<ipython-input-62-fce11dd3a64a>:40: PerformanceWarning: DataFrame is highly fragmented.  This is usually the result of calling `frame.insert` many times, which has poor performance.  Consider joining all columns at once using pd.concat(axis=1) instead. To get a de-fragmented frame, use `newframe = frame.copy()`\n",
            "  df.at[i, col] = df2.iloc[1, df2.columns.get_loc(col)]\n",
            "<ipython-input-62-fce11dd3a64a>:40: PerformanceWarning: DataFrame is highly fragmented.  This is usually the result of calling `frame.insert` many times, which has poor performance.  Consider joining all columns at once using pd.concat(axis=1) instead. To get a de-fragmented frame, use `newframe = frame.copy()`\n",
            "  df.at[i, col] = df2.iloc[1, df2.columns.get_loc(col)]\n"
          ]
        },
        {
          "output_type": "stream",
          "name": "stdout",
          "text": [
            "1350\n"
          ]
        },
        {
          "output_type": "stream",
          "name": "stderr",
          "text": [
            "<ipython-input-62-fce11dd3a64a>:40: PerformanceWarning: DataFrame is highly fragmented.  This is usually the result of calling `frame.insert` many times, which has poor performance.  Consider joining all columns at once using pd.concat(axis=1) instead. To get a de-fragmented frame, use `newframe = frame.copy()`\n",
            "  df.at[i, col] = df2.iloc[1, df2.columns.get_loc(col)]\n",
            "<ipython-input-62-fce11dd3a64a>:40: PerformanceWarning: DataFrame is highly fragmented.  This is usually the result of calling `frame.insert` many times, which has poor performance.  Consider joining all columns at once using pd.concat(axis=1) instead. To get a de-fragmented frame, use `newframe = frame.copy()`\n",
            "  df.at[i, col] = df2.iloc[1, df2.columns.get_loc(col)]\n",
            "<ipython-input-62-fce11dd3a64a>:40: PerformanceWarning: DataFrame is highly fragmented.  This is usually the result of calling `frame.insert` many times, which has poor performance.  Consider joining all columns at once using pd.concat(axis=1) instead. To get a de-fragmented frame, use `newframe = frame.copy()`\n",
            "  df.at[i, col] = df2.iloc[1, df2.columns.get_loc(col)]\n",
            "<ipython-input-62-fce11dd3a64a>:40: PerformanceWarning: DataFrame is highly fragmented.  This is usually the result of calling `frame.insert` many times, which has poor performance.  Consider joining all columns at once using pd.concat(axis=1) instead. To get a de-fragmented frame, use `newframe = frame.copy()`\n",
            "  df.at[i, col] = df2.iloc[1, df2.columns.get_loc(col)]\n",
            "<ipython-input-62-fce11dd3a64a>:40: PerformanceWarning: DataFrame is highly fragmented.  This is usually the result of calling `frame.insert` many times, which has poor performance.  Consider joining all columns at once using pd.concat(axis=1) instead. To get a de-fragmented frame, use `newframe = frame.copy()`\n",
            "  df.at[i, col] = df2.iloc[1, df2.columns.get_loc(col)]\n",
            "<ipython-input-62-fce11dd3a64a>:40: PerformanceWarning: DataFrame is highly fragmented.  This is usually the result of calling `frame.insert` many times, which has poor performance.  Consider joining all columns at once using pd.concat(axis=1) instead. To get a de-fragmented frame, use `newframe = frame.copy()`\n",
            "  df.at[i, col] = df2.iloc[1, df2.columns.get_loc(col)]\n",
            "<ipython-input-62-fce11dd3a64a>:40: PerformanceWarning: DataFrame is highly fragmented.  This is usually the result of calling `frame.insert` many times, which has poor performance.  Consider joining all columns at once using pd.concat(axis=1) instead. To get a de-fragmented frame, use `newframe = frame.copy()`\n",
            "  df.at[i, col] = df2.iloc[1, df2.columns.get_loc(col)]\n",
            "<ipython-input-62-fce11dd3a64a>:40: PerformanceWarning: DataFrame is highly fragmented.  This is usually the result of calling `frame.insert` many times, which has poor performance.  Consider joining all columns at once using pd.concat(axis=1) instead. To get a de-fragmented frame, use `newframe = frame.copy()`\n",
            "  df.at[i, col] = df2.iloc[1, df2.columns.get_loc(col)]\n"
          ]
        },
        {
          "output_type": "stream",
          "name": "stdout",
          "text": [
            "1400\n"
          ]
        },
        {
          "output_type": "stream",
          "name": "stderr",
          "text": [
            "<ipython-input-62-fce11dd3a64a>:40: PerformanceWarning: DataFrame is highly fragmented.  This is usually the result of calling `frame.insert` many times, which has poor performance.  Consider joining all columns at once using pd.concat(axis=1) instead. To get a de-fragmented frame, use `newframe = frame.copy()`\n",
            "  df.at[i, col] = df2.iloc[1, df2.columns.get_loc(col)]\n",
            "<ipython-input-62-fce11dd3a64a>:40: PerformanceWarning: DataFrame is highly fragmented.  This is usually the result of calling `frame.insert` many times, which has poor performance.  Consider joining all columns at once using pd.concat(axis=1) instead. To get a de-fragmented frame, use `newframe = frame.copy()`\n",
            "  df.at[i, col] = df2.iloc[1, df2.columns.get_loc(col)]\n",
            "<ipython-input-62-fce11dd3a64a>:40: PerformanceWarning: DataFrame is highly fragmented.  This is usually the result of calling `frame.insert` many times, which has poor performance.  Consider joining all columns at once using pd.concat(axis=1) instead. To get a de-fragmented frame, use `newframe = frame.copy()`\n",
            "  df.at[i, col] = df2.iloc[1, df2.columns.get_loc(col)]\n",
            "<ipython-input-62-fce11dd3a64a>:40: PerformanceWarning: DataFrame is highly fragmented.  This is usually the result of calling `frame.insert` many times, which has poor performance.  Consider joining all columns at once using pd.concat(axis=1) instead. To get a de-fragmented frame, use `newframe = frame.copy()`\n",
            "  df.at[i, col] = df2.iloc[1, df2.columns.get_loc(col)]\n",
            "<ipython-input-62-fce11dd3a64a>:40: PerformanceWarning: DataFrame is highly fragmented.  This is usually the result of calling `frame.insert` many times, which has poor performance.  Consider joining all columns at once using pd.concat(axis=1) instead. To get a de-fragmented frame, use `newframe = frame.copy()`\n",
            "  df.at[i, col] = df2.iloc[1, df2.columns.get_loc(col)]\n",
            "<ipython-input-62-fce11dd3a64a>:40: PerformanceWarning: DataFrame is highly fragmented.  This is usually the result of calling `frame.insert` many times, which has poor performance.  Consider joining all columns at once using pd.concat(axis=1) instead. To get a de-fragmented frame, use `newframe = frame.copy()`\n",
            "  df.at[i, col] = df2.iloc[1, df2.columns.get_loc(col)]\n",
            "<ipython-input-62-fce11dd3a64a>:40: PerformanceWarning: DataFrame is highly fragmented.  This is usually the result of calling `frame.insert` many times, which has poor performance.  Consider joining all columns at once using pd.concat(axis=1) instead. To get a de-fragmented frame, use `newframe = frame.copy()`\n",
            "  df.at[i, col] = df2.iloc[1, df2.columns.get_loc(col)]\n",
            "<ipython-input-62-fce11dd3a64a>:40: PerformanceWarning: DataFrame is highly fragmented.  This is usually the result of calling `frame.insert` many times, which has poor performance.  Consider joining all columns at once using pd.concat(axis=1) instead. To get a de-fragmented frame, use `newframe = frame.copy()`\n",
            "  df.at[i, col] = df2.iloc[1, df2.columns.get_loc(col)]\n",
            "<ipython-input-62-fce11dd3a64a>:40: PerformanceWarning: DataFrame is highly fragmented.  This is usually the result of calling `frame.insert` many times, which has poor performance.  Consider joining all columns at once using pd.concat(axis=1) instead. To get a de-fragmented frame, use `newframe = frame.copy()`\n",
            "  df.at[i, col] = df2.iloc[1, df2.columns.get_loc(col)]\n",
            "<ipython-input-62-fce11dd3a64a>:40: PerformanceWarning: DataFrame is highly fragmented.  This is usually the result of calling `frame.insert` many times, which has poor performance.  Consider joining all columns at once using pd.concat(axis=1) instead. To get a de-fragmented frame, use `newframe = frame.copy()`\n",
            "  df.at[i, col] = df2.iloc[1, df2.columns.get_loc(col)]\n"
          ]
        },
        {
          "output_type": "stream",
          "name": "stdout",
          "text": [
            "1450\n"
          ]
        },
        {
          "output_type": "stream",
          "name": "stderr",
          "text": [
            "<ipython-input-62-fce11dd3a64a>:40: PerformanceWarning: DataFrame is highly fragmented.  This is usually the result of calling `frame.insert` many times, which has poor performance.  Consider joining all columns at once using pd.concat(axis=1) instead. To get a de-fragmented frame, use `newframe = frame.copy()`\n",
            "  df.at[i, col] = df2.iloc[1, df2.columns.get_loc(col)]\n",
            "<ipython-input-62-fce11dd3a64a>:40: PerformanceWarning: DataFrame is highly fragmented.  This is usually the result of calling `frame.insert` many times, which has poor performance.  Consider joining all columns at once using pd.concat(axis=1) instead. To get a de-fragmented frame, use `newframe = frame.copy()`\n",
            "  df.at[i, col] = df2.iloc[1, df2.columns.get_loc(col)]\n",
            "<ipython-input-62-fce11dd3a64a>:40: PerformanceWarning: DataFrame is highly fragmented.  This is usually the result of calling `frame.insert` many times, which has poor performance.  Consider joining all columns at once using pd.concat(axis=1) instead. To get a de-fragmented frame, use `newframe = frame.copy()`\n",
            "  df.at[i, col] = df2.iloc[1, df2.columns.get_loc(col)]\n",
            "<ipython-input-62-fce11dd3a64a>:40: PerformanceWarning: DataFrame is highly fragmented.  This is usually the result of calling `frame.insert` many times, which has poor performance.  Consider joining all columns at once using pd.concat(axis=1) instead. To get a de-fragmented frame, use `newframe = frame.copy()`\n",
            "  df.at[i, col] = df2.iloc[1, df2.columns.get_loc(col)]\n",
            "<ipython-input-62-fce11dd3a64a>:40: PerformanceWarning: DataFrame is highly fragmented.  This is usually the result of calling `frame.insert` many times, which has poor performance.  Consider joining all columns at once using pd.concat(axis=1) instead. To get a de-fragmented frame, use `newframe = frame.copy()`\n",
            "  df.at[i, col] = df2.iloc[1, df2.columns.get_loc(col)]\n",
            "<ipython-input-62-fce11dd3a64a>:40: PerformanceWarning: DataFrame is highly fragmented.  This is usually the result of calling `frame.insert` many times, which has poor performance.  Consider joining all columns at once using pd.concat(axis=1) instead. To get a de-fragmented frame, use `newframe = frame.copy()`\n",
            "  df.at[i, col] = df2.iloc[1, df2.columns.get_loc(col)]\n",
            "<ipython-input-62-fce11dd3a64a>:40: PerformanceWarning: DataFrame is highly fragmented.  This is usually the result of calling `frame.insert` many times, which has poor performance.  Consider joining all columns at once using pd.concat(axis=1) instead. To get a de-fragmented frame, use `newframe = frame.copy()`\n",
            "  df.at[i, col] = df2.iloc[1, df2.columns.get_loc(col)]\n",
            "<ipython-input-62-fce11dd3a64a>:40: PerformanceWarning: DataFrame is highly fragmented.  This is usually the result of calling `frame.insert` many times, which has poor performance.  Consider joining all columns at once using pd.concat(axis=1) instead. To get a de-fragmented frame, use `newframe = frame.copy()`\n",
            "  df.at[i, col] = df2.iloc[1, df2.columns.get_loc(col)]\n",
            "<ipython-input-62-fce11dd3a64a>:40: PerformanceWarning: DataFrame is highly fragmented.  This is usually the result of calling `frame.insert` many times, which has poor performance.  Consider joining all columns at once using pd.concat(axis=1) instead. To get a de-fragmented frame, use `newframe = frame.copy()`\n",
            "  df.at[i, col] = df2.iloc[1, df2.columns.get_loc(col)]\n",
            "<ipython-input-62-fce11dd3a64a>:40: PerformanceWarning: DataFrame is highly fragmented.  This is usually the result of calling `frame.insert` many times, which has poor performance.  Consider joining all columns at once using pd.concat(axis=1) instead. To get a de-fragmented frame, use `newframe = frame.copy()`\n",
            "  df.at[i, col] = df2.iloc[1, df2.columns.get_loc(col)]\n",
            "<ipython-input-62-fce11dd3a64a>:40: PerformanceWarning: DataFrame is highly fragmented.  This is usually the result of calling `frame.insert` many times, which has poor performance.  Consider joining all columns at once using pd.concat(axis=1) instead. To get a de-fragmented frame, use `newframe = frame.copy()`\n",
            "  df.at[i, col] = df2.iloc[1, df2.columns.get_loc(col)]\n",
            "<ipython-input-62-fce11dd3a64a>:40: PerformanceWarning: DataFrame is highly fragmented.  This is usually the result of calling `frame.insert` many times, which has poor performance.  Consider joining all columns at once using pd.concat(axis=1) instead. To get a de-fragmented frame, use `newframe = frame.copy()`\n",
            "  df.at[i, col] = df2.iloc[1, df2.columns.get_loc(col)]\n",
            "<ipython-input-62-fce11dd3a64a>:40: PerformanceWarning: DataFrame is highly fragmented.  This is usually the result of calling `frame.insert` many times, which has poor performance.  Consider joining all columns at once using pd.concat(axis=1) instead. To get a de-fragmented frame, use `newframe = frame.copy()`\n",
            "  df.at[i, col] = df2.iloc[1, df2.columns.get_loc(col)]\n",
            "<ipython-input-62-fce11dd3a64a>:40: PerformanceWarning: DataFrame is highly fragmented.  This is usually the result of calling `frame.insert` many times, which has poor performance.  Consider joining all columns at once using pd.concat(axis=1) instead. To get a de-fragmented frame, use `newframe = frame.copy()`\n",
            "  df.at[i, col] = df2.iloc[1, df2.columns.get_loc(col)]\n",
            "<ipython-input-62-fce11dd3a64a>:40: PerformanceWarning: DataFrame is highly fragmented.  This is usually the result of calling `frame.insert` many times, which has poor performance.  Consider joining all columns at once using pd.concat(axis=1) instead. To get a de-fragmented frame, use `newframe = frame.copy()`\n",
            "  df.at[i, col] = df2.iloc[1, df2.columns.get_loc(col)]\n",
            "<ipython-input-62-fce11dd3a64a>:40: PerformanceWarning: DataFrame is highly fragmented.  This is usually the result of calling `frame.insert` many times, which has poor performance.  Consider joining all columns at once using pd.concat(axis=1) instead. To get a de-fragmented frame, use `newframe = frame.copy()`\n",
            "  df.at[i, col] = df2.iloc[1, df2.columns.get_loc(col)]\n",
            "<ipython-input-62-fce11dd3a64a>:40: PerformanceWarning: DataFrame is highly fragmented.  This is usually the result of calling `frame.insert` many times, which has poor performance.  Consider joining all columns at once using pd.concat(axis=1) instead. To get a de-fragmented frame, use `newframe = frame.copy()`\n",
            "  df.at[i, col] = df2.iloc[1, df2.columns.get_loc(col)]\n",
            "<ipython-input-62-fce11dd3a64a>:40: PerformanceWarning: DataFrame is highly fragmented.  This is usually the result of calling `frame.insert` many times, which has poor performance.  Consider joining all columns at once using pd.concat(axis=1) instead. To get a de-fragmented frame, use `newframe = frame.copy()`\n",
            "  df.at[i, col] = df2.iloc[1, df2.columns.get_loc(col)]\n",
            "<ipython-input-62-fce11dd3a64a>:40: PerformanceWarning: DataFrame is highly fragmented.  This is usually the result of calling `frame.insert` many times, which has poor performance.  Consider joining all columns at once using pd.concat(axis=1) instead. To get a de-fragmented frame, use `newframe = frame.copy()`\n",
            "  df.at[i, col] = df2.iloc[1, df2.columns.get_loc(col)]\n",
            "<ipython-input-62-fce11dd3a64a>:40: PerformanceWarning: DataFrame is highly fragmented.  This is usually the result of calling `frame.insert` many times, which has poor performance.  Consider joining all columns at once using pd.concat(axis=1) instead. To get a de-fragmented frame, use `newframe = frame.copy()`\n",
            "  df.at[i, col] = df2.iloc[1, df2.columns.get_loc(col)]\n",
            "<ipython-input-62-fce11dd3a64a>:40: PerformanceWarning: DataFrame is highly fragmented.  This is usually the result of calling `frame.insert` many times, which has poor performance.  Consider joining all columns at once using pd.concat(axis=1) instead. To get a de-fragmented frame, use `newframe = frame.copy()`\n",
            "  df.at[i, col] = df2.iloc[1, df2.columns.get_loc(col)]\n",
            "<ipython-input-62-fce11dd3a64a>:40: PerformanceWarning: DataFrame is highly fragmented.  This is usually the result of calling `frame.insert` many times, which has poor performance.  Consider joining all columns at once using pd.concat(axis=1) instead. To get a de-fragmented frame, use `newframe = frame.copy()`\n",
            "  df.at[i, col] = df2.iloc[1, df2.columns.get_loc(col)]\n",
            "<ipython-input-62-fce11dd3a64a>:40: PerformanceWarning: DataFrame is highly fragmented.  This is usually the result of calling `frame.insert` many times, which has poor performance.  Consider joining all columns at once using pd.concat(axis=1) instead. To get a de-fragmented frame, use `newframe = frame.copy()`\n",
            "  df.at[i, col] = df2.iloc[1, df2.columns.get_loc(col)]\n"
          ]
        },
        {
          "output_type": "stream",
          "name": "stdout",
          "text": [
            "1500\n"
          ]
        },
        {
          "output_type": "stream",
          "name": "stderr",
          "text": [
            "<ipython-input-62-fce11dd3a64a>:40: PerformanceWarning: DataFrame is highly fragmented.  This is usually the result of calling `frame.insert` many times, which has poor performance.  Consider joining all columns at once using pd.concat(axis=1) instead. To get a de-fragmented frame, use `newframe = frame.copy()`\n",
            "  df.at[i, col] = df2.iloc[1, df2.columns.get_loc(col)]\n",
            "<ipython-input-62-fce11dd3a64a>:40: PerformanceWarning: DataFrame is highly fragmented.  This is usually the result of calling `frame.insert` many times, which has poor performance.  Consider joining all columns at once using pd.concat(axis=1) instead. To get a de-fragmented frame, use `newframe = frame.copy()`\n",
            "  df.at[i, col] = df2.iloc[1, df2.columns.get_loc(col)]\n",
            "<ipython-input-62-fce11dd3a64a>:40: PerformanceWarning: DataFrame is highly fragmented.  This is usually the result of calling `frame.insert` many times, which has poor performance.  Consider joining all columns at once using pd.concat(axis=1) instead. To get a de-fragmented frame, use `newframe = frame.copy()`\n",
            "  df.at[i, col] = df2.iloc[1, df2.columns.get_loc(col)]\n",
            "<ipython-input-62-fce11dd3a64a>:40: PerformanceWarning: DataFrame is highly fragmented.  This is usually the result of calling `frame.insert` many times, which has poor performance.  Consider joining all columns at once using pd.concat(axis=1) instead. To get a de-fragmented frame, use `newframe = frame.copy()`\n",
            "  df.at[i, col] = df2.iloc[1, df2.columns.get_loc(col)]\n",
            "<ipython-input-62-fce11dd3a64a>:40: PerformanceWarning: DataFrame is highly fragmented.  This is usually the result of calling `frame.insert` many times, which has poor performance.  Consider joining all columns at once using pd.concat(axis=1) instead. To get a de-fragmented frame, use `newframe = frame.copy()`\n",
            "  df.at[i, col] = df2.iloc[1, df2.columns.get_loc(col)]\n",
            "<ipython-input-62-fce11dd3a64a>:40: PerformanceWarning: DataFrame is highly fragmented.  This is usually the result of calling `frame.insert` many times, which has poor performance.  Consider joining all columns at once using pd.concat(axis=1) instead. To get a de-fragmented frame, use `newframe = frame.copy()`\n",
            "  df.at[i, col] = df2.iloc[1, df2.columns.get_loc(col)]\n",
            "<ipython-input-62-fce11dd3a64a>:40: PerformanceWarning: DataFrame is highly fragmented.  This is usually the result of calling `frame.insert` many times, which has poor performance.  Consider joining all columns at once using pd.concat(axis=1) instead. To get a de-fragmented frame, use `newframe = frame.copy()`\n",
            "  df.at[i, col] = df2.iloc[1, df2.columns.get_loc(col)]\n",
            "<ipython-input-62-fce11dd3a64a>:40: PerformanceWarning: DataFrame is highly fragmented.  This is usually the result of calling `frame.insert` many times, which has poor performance.  Consider joining all columns at once using pd.concat(axis=1) instead. To get a de-fragmented frame, use `newframe = frame.copy()`\n",
            "  df.at[i, col] = df2.iloc[1, df2.columns.get_loc(col)]\n",
            "<ipython-input-62-fce11dd3a64a>:40: PerformanceWarning: DataFrame is highly fragmented.  This is usually the result of calling `frame.insert` many times, which has poor performance.  Consider joining all columns at once using pd.concat(axis=1) instead. To get a de-fragmented frame, use `newframe = frame.copy()`\n",
            "  df.at[i, col] = df2.iloc[1, df2.columns.get_loc(col)]\n",
            "<ipython-input-62-fce11dd3a64a>:40: PerformanceWarning: DataFrame is highly fragmented.  This is usually the result of calling `frame.insert` many times, which has poor performance.  Consider joining all columns at once using pd.concat(axis=1) instead. To get a de-fragmented frame, use `newframe = frame.copy()`\n",
            "  df.at[i, col] = df2.iloc[1, df2.columns.get_loc(col)]\n",
            "<ipython-input-62-fce11dd3a64a>:40: PerformanceWarning: DataFrame is highly fragmented.  This is usually the result of calling `frame.insert` many times, which has poor performance.  Consider joining all columns at once using pd.concat(axis=1) instead. To get a de-fragmented frame, use `newframe = frame.copy()`\n",
            "  df.at[i, col] = df2.iloc[1, df2.columns.get_loc(col)]\n",
            "<ipython-input-62-fce11dd3a64a>:40: PerformanceWarning: DataFrame is highly fragmented.  This is usually the result of calling `frame.insert` many times, which has poor performance.  Consider joining all columns at once using pd.concat(axis=1) instead. To get a de-fragmented frame, use `newframe = frame.copy()`\n",
            "  df.at[i, col] = df2.iloc[1, df2.columns.get_loc(col)]\n",
            "<ipython-input-62-fce11dd3a64a>:40: PerformanceWarning: DataFrame is highly fragmented.  This is usually the result of calling `frame.insert` many times, which has poor performance.  Consider joining all columns at once using pd.concat(axis=1) instead. To get a de-fragmented frame, use `newframe = frame.copy()`\n",
            "  df.at[i, col] = df2.iloc[1, df2.columns.get_loc(col)]\n",
            "<ipython-input-62-fce11dd3a64a>:40: PerformanceWarning: DataFrame is highly fragmented.  This is usually the result of calling `frame.insert` many times, which has poor performance.  Consider joining all columns at once using pd.concat(axis=1) instead. To get a de-fragmented frame, use `newframe = frame.copy()`\n",
            "  df.at[i, col] = df2.iloc[1, df2.columns.get_loc(col)]\n",
            "<ipython-input-62-fce11dd3a64a>:40: PerformanceWarning: DataFrame is highly fragmented.  This is usually the result of calling `frame.insert` many times, which has poor performance.  Consider joining all columns at once using pd.concat(axis=1) instead. To get a de-fragmented frame, use `newframe = frame.copy()`\n",
            "  df.at[i, col] = df2.iloc[1, df2.columns.get_loc(col)]\n",
            "<ipython-input-62-fce11dd3a64a>:40: PerformanceWarning: DataFrame is highly fragmented.  This is usually the result of calling `frame.insert` many times, which has poor performance.  Consider joining all columns at once using pd.concat(axis=1) instead. To get a de-fragmented frame, use `newframe = frame.copy()`\n",
            "  df.at[i, col] = df2.iloc[1, df2.columns.get_loc(col)]\n",
            "<ipython-input-62-fce11dd3a64a>:40: PerformanceWarning: DataFrame is highly fragmented.  This is usually the result of calling `frame.insert` many times, which has poor performance.  Consider joining all columns at once using pd.concat(axis=1) instead. To get a de-fragmented frame, use `newframe = frame.copy()`\n",
            "  df.at[i, col] = df2.iloc[1, df2.columns.get_loc(col)]\n",
            "<ipython-input-62-fce11dd3a64a>:40: PerformanceWarning: DataFrame is highly fragmented.  This is usually the result of calling `frame.insert` many times, which has poor performance.  Consider joining all columns at once using pd.concat(axis=1) instead. To get a de-fragmented frame, use `newframe = frame.copy()`\n",
            "  df.at[i, col] = df2.iloc[1, df2.columns.get_loc(col)]\n",
            "<ipython-input-62-fce11dd3a64a>:40: PerformanceWarning: DataFrame is highly fragmented.  This is usually the result of calling `frame.insert` many times, which has poor performance.  Consider joining all columns at once using pd.concat(axis=1) instead. To get a de-fragmented frame, use `newframe = frame.copy()`\n",
            "  df.at[i, col] = df2.iloc[1, df2.columns.get_loc(col)]\n",
            "<ipython-input-62-fce11dd3a64a>:40: PerformanceWarning: DataFrame is highly fragmented.  This is usually the result of calling `frame.insert` many times, which has poor performance.  Consider joining all columns at once using pd.concat(axis=1) instead. To get a de-fragmented frame, use `newframe = frame.copy()`\n",
            "  df.at[i, col] = df2.iloc[1, df2.columns.get_loc(col)]\n",
            "<ipython-input-62-fce11dd3a64a>:40: PerformanceWarning: DataFrame is highly fragmented.  This is usually the result of calling `frame.insert` many times, which has poor performance.  Consider joining all columns at once using pd.concat(axis=1) instead. To get a de-fragmented frame, use `newframe = frame.copy()`\n",
            "  df.at[i, col] = df2.iloc[1, df2.columns.get_loc(col)]\n",
            "<ipython-input-62-fce11dd3a64a>:40: PerformanceWarning: DataFrame is highly fragmented.  This is usually the result of calling `frame.insert` many times, which has poor performance.  Consider joining all columns at once using pd.concat(axis=1) instead. To get a de-fragmented frame, use `newframe = frame.copy()`\n",
            "  df.at[i, col] = df2.iloc[1, df2.columns.get_loc(col)]\n",
            "<ipython-input-62-fce11dd3a64a>:40: PerformanceWarning: DataFrame is highly fragmented.  This is usually the result of calling `frame.insert` many times, which has poor performance.  Consider joining all columns at once using pd.concat(axis=1) instead. To get a de-fragmented frame, use `newframe = frame.copy()`\n",
            "  df.at[i, col] = df2.iloc[1, df2.columns.get_loc(col)]\n",
            "<ipython-input-62-fce11dd3a64a>:40: PerformanceWarning: DataFrame is highly fragmented.  This is usually the result of calling `frame.insert` many times, which has poor performance.  Consider joining all columns at once using pd.concat(axis=1) instead. To get a de-fragmented frame, use `newframe = frame.copy()`\n",
            "  df.at[i, col] = df2.iloc[1, df2.columns.get_loc(col)]\n",
            "<ipython-input-62-fce11dd3a64a>:40: PerformanceWarning: DataFrame is highly fragmented.  This is usually the result of calling `frame.insert` many times, which has poor performance.  Consider joining all columns at once using pd.concat(axis=1) instead. To get a de-fragmented frame, use `newframe = frame.copy()`\n",
            "  df.at[i, col] = df2.iloc[1, df2.columns.get_loc(col)]\n",
            "<ipython-input-62-fce11dd3a64a>:40: PerformanceWarning: DataFrame is highly fragmented.  This is usually the result of calling `frame.insert` many times, which has poor performance.  Consider joining all columns at once using pd.concat(axis=1) instead. To get a de-fragmented frame, use `newframe = frame.copy()`\n",
            "  df.at[i, col] = df2.iloc[1, df2.columns.get_loc(col)]\n",
            "<ipython-input-62-fce11dd3a64a>:40: PerformanceWarning: DataFrame is highly fragmented.  This is usually the result of calling `frame.insert` many times, which has poor performance.  Consider joining all columns at once using pd.concat(axis=1) instead. To get a de-fragmented frame, use `newframe = frame.copy()`\n",
            "  df.at[i, col] = df2.iloc[1, df2.columns.get_loc(col)]\n",
            "<ipython-input-62-fce11dd3a64a>:40: PerformanceWarning: DataFrame is highly fragmented.  This is usually the result of calling `frame.insert` many times, which has poor performance.  Consider joining all columns at once using pd.concat(axis=1) instead. To get a de-fragmented frame, use `newframe = frame.copy()`\n",
            "  df.at[i, col] = df2.iloc[1, df2.columns.get_loc(col)]\n",
            "<ipython-input-62-fce11dd3a64a>:40: PerformanceWarning: DataFrame is highly fragmented.  This is usually the result of calling `frame.insert` many times, which has poor performance.  Consider joining all columns at once using pd.concat(axis=1) instead. To get a de-fragmented frame, use `newframe = frame.copy()`\n",
            "  df.at[i, col] = df2.iloc[1, df2.columns.get_loc(col)]\n",
            "<ipython-input-62-fce11dd3a64a>:40: PerformanceWarning: DataFrame is highly fragmented.  This is usually the result of calling `frame.insert` many times, which has poor performance.  Consider joining all columns at once using pd.concat(axis=1) instead. To get a de-fragmented frame, use `newframe = frame.copy()`\n",
            "  df.at[i, col] = df2.iloc[1, df2.columns.get_loc(col)]\n",
            "<ipython-input-62-fce11dd3a64a>:40: PerformanceWarning: DataFrame is highly fragmented.  This is usually the result of calling `frame.insert` many times, which has poor performance.  Consider joining all columns at once using pd.concat(axis=1) instead. To get a de-fragmented frame, use `newframe = frame.copy()`\n",
            "  df.at[i, col] = df2.iloc[1, df2.columns.get_loc(col)]\n",
            "<ipython-input-62-fce11dd3a64a>:40: PerformanceWarning: DataFrame is highly fragmented.  This is usually the result of calling `frame.insert` many times, which has poor performance.  Consider joining all columns at once using pd.concat(axis=1) instead. To get a de-fragmented frame, use `newframe = frame.copy()`\n",
            "  df.at[i, col] = df2.iloc[1, df2.columns.get_loc(col)]\n",
            "<ipython-input-62-fce11dd3a64a>:40: PerformanceWarning: DataFrame is highly fragmented.  This is usually the result of calling `frame.insert` many times, which has poor performance.  Consider joining all columns at once using pd.concat(axis=1) instead. To get a de-fragmented frame, use `newframe = frame.copy()`\n",
            "  df.at[i, col] = df2.iloc[1, df2.columns.get_loc(col)]\n",
            "<ipython-input-62-fce11dd3a64a>:40: PerformanceWarning: DataFrame is highly fragmented.  This is usually the result of calling `frame.insert` many times, which has poor performance.  Consider joining all columns at once using pd.concat(axis=1) instead. To get a de-fragmented frame, use `newframe = frame.copy()`\n",
            "  df.at[i, col] = df2.iloc[1, df2.columns.get_loc(col)]\n",
            "<ipython-input-62-fce11dd3a64a>:40: PerformanceWarning: DataFrame is highly fragmented.  This is usually the result of calling `frame.insert` many times, which has poor performance.  Consider joining all columns at once using pd.concat(axis=1) instead. To get a de-fragmented frame, use `newframe = frame.copy()`\n",
            "  df.at[i, col] = df2.iloc[1, df2.columns.get_loc(col)]\n"
          ]
        },
        {
          "output_type": "stream",
          "name": "stdout",
          "text": [
            "1550\n"
          ]
        },
        {
          "output_type": "stream",
          "name": "stderr",
          "text": [
            "<ipython-input-62-fce11dd3a64a>:40: PerformanceWarning: DataFrame is highly fragmented.  This is usually the result of calling `frame.insert` many times, which has poor performance.  Consider joining all columns at once using pd.concat(axis=1) instead. To get a de-fragmented frame, use `newframe = frame.copy()`\n",
            "  df.at[i, col] = df2.iloc[1, df2.columns.get_loc(col)]\n",
            "<ipython-input-62-fce11dd3a64a>:40: PerformanceWarning: DataFrame is highly fragmented.  This is usually the result of calling `frame.insert` many times, which has poor performance.  Consider joining all columns at once using pd.concat(axis=1) instead. To get a de-fragmented frame, use `newframe = frame.copy()`\n",
            "  df.at[i, col] = df2.iloc[1, df2.columns.get_loc(col)]\n",
            "<ipython-input-62-fce11dd3a64a>:40: PerformanceWarning: DataFrame is highly fragmented.  This is usually the result of calling `frame.insert` many times, which has poor performance.  Consider joining all columns at once using pd.concat(axis=1) instead. To get a de-fragmented frame, use `newframe = frame.copy()`\n",
            "  df.at[i, col] = df2.iloc[1, df2.columns.get_loc(col)]\n",
            "<ipython-input-62-fce11dd3a64a>:40: PerformanceWarning: DataFrame is highly fragmented.  This is usually the result of calling `frame.insert` many times, which has poor performance.  Consider joining all columns at once using pd.concat(axis=1) instead. To get a de-fragmented frame, use `newframe = frame.copy()`\n",
            "  df.at[i, col] = df2.iloc[1, df2.columns.get_loc(col)]\n",
            "<ipython-input-62-fce11dd3a64a>:40: PerformanceWarning: DataFrame is highly fragmented.  This is usually the result of calling `frame.insert` many times, which has poor performance.  Consider joining all columns at once using pd.concat(axis=1) instead. To get a de-fragmented frame, use `newframe = frame.copy()`\n",
            "  df.at[i, col] = df2.iloc[1, df2.columns.get_loc(col)]\n",
            "<ipython-input-62-fce11dd3a64a>:40: PerformanceWarning: DataFrame is highly fragmented.  This is usually the result of calling `frame.insert` many times, which has poor performance.  Consider joining all columns at once using pd.concat(axis=1) instead. To get a de-fragmented frame, use `newframe = frame.copy()`\n",
            "  df.at[i, col] = df2.iloc[1, df2.columns.get_loc(col)]\n",
            "<ipython-input-62-fce11dd3a64a>:40: PerformanceWarning: DataFrame is highly fragmented.  This is usually the result of calling `frame.insert` many times, which has poor performance.  Consider joining all columns at once using pd.concat(axis=1) instead. To get a de-fragmented frame, use `newframe = frame.copy()`\n",
            "  df.at[i, col] = df2.iloc[1, df2.columns.get_loc(col)]\n",
            "<ipython-input-62-fce11dd3a64a>:40: PerformanceWarning: DataFrame is highly fragmented.  This is usually the result of calling `frame.insert` many times, which has poor performance.  Consider joining all columns at once using pd.concat(axis=1) instead. To get a de-fragmented frame, use `newframe = frame.copy()`\n",
            "  df.at[i, col] = df2.iloc[1, df2.columns.get_loc(col)]\n",
            "<ipython-input-62-fce11dd3a64a>:40: PerformanceWarning: DataFrame is highly fragmented.  This is usually the result of calling `frame.insert` many times, which has poor performance.  Consider joining all columns at once using pd.concat(axis=1) instead. To get a de-fragmented frame, use `newframe = frame.copy()`\n",
            "  df.at[i, col] = df2.iloc[1, df2.columns.get_loc(col)]\n",
            "<ipython-input-62-fce11dd3a64a>:40: PerformanceWarning: DataFrame is highly fragmented.  This is usually the result of calling `frame.insert` many times, which has poor performance.  Consider joining all columns at once using pd.concat(axis=1) instead. To get a de-fragmented frame, use `newframe = frame.copy()`\n",
            "  df.at[i, col] = df2.iloc[1, df2.columns.get_loc(col)]\n",
            "<ipython-input-62-fce11dd3a64a>:40: PerformanceWarning: DataFrame is highly fragmented.  This is usually the result of calling `frame.insert` many times, which has poor performance.  Consider joining all columns at once using pd.concat(axis=1) instead. To get a de-fragmented frame, use `newframe = frame.copy()`\n",
            "  df.at[i, col] = df2.iloc[1, df2.columns.get_loc(col)]\n",
            "<ipython-input-62-fce11dd3a64a>:40: PerformanceWarning: DataFrame is highly fragmented.  This is usually the result of calling `frame.insert` many times, which has poor performance.  Consider joining all columns at once using pd.concat(axis=1) instead. To get a de-fragmented frame, use `newframe = frame.copy()`\n",
            "  df.at[i, col] = df2.iloc[1, df2.columns.get_loc(col)]\n",
            "<ipython-input-62-fce11dd3a64a>:40: PerformanceWarning: DataFrame is highly fragmented.  This is usually the result of calling `frame.insert` many times, which has poor performance.  Consider joining all columns at once using pd.concat(axis=1) instead. To get a de-fragmented frame, use `newframe = frame.copy()`\n",
            "  df.at[i, col] = df2.iloc[1, df2.columns.get_loc(col)]\n",
            "<ipython-input-62-fce11dd3a64a>:40: PerformanceWarning: DataFrame is highly fragmented.  This is usually the result of calling `frame.insert` many times, which has poor performance.  Consider joining all columns at once using pd.concat(axis=1) instead. To get a de-fragmented frame, use `newframe = frame.copy()`\n",
            "  df.at[i, col] = df2.iloc[1, df2.columns.get_loc(col)]\n",
            "<ipython-input-62-fce11dd3a64a>:40: PerformanceWarning: DataFrame is highly fragmented.  This is usually the result of calling `frame.insert` many times, which has poor performance.  Consider joining all columns at once using pd.concat(axis=1) instead. To get a de-fragmented frame, use `newframe = frame.copy()`\n",
            "  df.at[i, col] = df2.iloc[1, df2.columns.get_loc(col)]\n",
            "<ipython-input-62-fce11dd3a64a>:40: PerformanceWarning: DataFrame is highly fragmented.  This is usually the result of calling `frame.insert` many times, which has poor performance.  Consider joining all columns at once using pd.concat(axis=1) instead. To get a de-fragmented frame, use `newframe = frame.copy()`\n",
            "  df.at[i, col] = df2.iloc[1, df2.columns.get_loc(col)]\n",
            "<ipython-input-62-fce11dd3a64a>:40: PerformanceWarning: DataFrame is highly fragmented.  This is usually the result of calling `frame.insert` many times, which has poor performance.  Consider joining all columns at once using pd.concat(axis=1) instead. To get a de-fragmented frame, use `newframe = frame.copy()`\n",
            "  df.at[i, col] = df2.iloc[1, df2.columns.get_loc(col)]\n",
            "<ipython-input-62-fce11dd3a64a>:40: PerformanceWarning: DataFrame is highly fragmented.  This is usually the result of calling `frame.insert` many times, which has poor performance.  Consider joining all columns at once using pd.concat(axis=1) instead. To get a de-fragmented frame, use `newframe = frame.copy()`\n",
            "  df.at[i, col] = df2.iloc[1, df2.columns.get_loc(col)]\n",
            "<ipython-input-62-fce11dd3a64a>:40: PerformanceWarning: DataFrame is highly fragmented.  This is usually the result of calling `frame.insert` many times, which has poor performance.  Consider joining all columns at once using pd.concat(axis=1) instead. To get a de-fragmented frame, use `newframe = frame.copy()`\n",
            "  df.at[i, col] = df2.iloc[1, df2.columns.get_loc(col)]\n",
            "<ipython-input-62-fce11dd3a64a>:40: PerformanceWarning: DataFrame is highly fragmented.  This is usually the result of calling `frame.insert` many times, which has poor performance.  Consider joining all columns at once using pd.concat(axis=1) instead. To get a de-fragmented frame, use `newframe = frame.copy()`\n",
            "  df.at[i, col] = df2.iloc[1, df2.columns.get_loc(col)]\n"
          ]
        },
        {
          "output_type": "stream",
          "name": "stdout",
          "text": [
            "1600\n"
          ]
        },
        {
          "output_type": "stream",
          "name": "stderr",
          "text": [
            "<ipython-input-62-fce11dd3a64a>:40: PerformanceWarning: DataFrame is highly fragmented.  This is usually the result of calling `frame.insert` many times, which has poor performance.  Consider joining all columns at once using pd.concat(axis=1) instead. To get a de-fragmented frame, use `newframe = frame.copy()`\n",
            "  df.at[i, col] = df2.iloc[1, df2.columns.get_loc(col)]\n",
            "<ipython-input-62-fce11dd3a64a>:40: PerformanceWarning: DataFrame is highly fragmented.  This is usually the result of calling `frame.insert` many times, which has poor performance.  Consider joining all columns at once using pd.concat(axis=1) instead. To get a de-fragmented frame, use `newframe = frame.copy()`\n",
            "  df.at[i, col] = df2.iloc[1, df2.columns.get_loc(col)]\n",
            "<ipython-input-62-fce11dd3a64a>:40: PerformanceWarning: DataFrame is highly fragmented.  This is usually the result of calling `frame.insert` many times, which has poor performance.  Consider joining all columns at once using pd.concat(axis=1) instead. To get a de-fragmented frame, use `newframe = frame.copy()`\n",
            "  df.at[i, col] = df2.iloc[1, df2.columns.get_loc(col)]\n",
            "<ipython-input-62-fce11dd3a64a>:40: PerformanceWarning: DataFrame is highly fragmented.  This is usually the result of calling `frame.insert` many times, which has poor performance.  Consider joining all columns at once using pd.concat(axis=1) instead. To get a de-fragmented frame, use `newframe = frame.copy()`\n",
            "  df.at[i, col] = df2.iloc[1, df2.columns.get_loc(col)]\n",
            "<ipython-input-62-fce11dd3a64a>:40: PerformanceWarning: DataFrame is highly fragmented.  This is usually the result of calling `frame.insert` many times, which has poor performance.  Consider joining all columns at once using pd.concat(axis=1) instead. To get a de-fragmented frame, use `newframe = frame.copy()`\n",
            "  df.at[i, col] = df2.iloc[1, df2.columns.get_loc(col)]\n",
            "<ipython-input-62-fce11dd3a64a>:40: PerformanceWarning: DataFrame is highly fragmented.  This is usually the result of calling `frame.insert` many times, which has poor performance.  Consider joining all columns at once using pd.concat(axis=1) instead. To get a de-fragmented frame, use `newframe = frame.copy()`\n",
            "  df.at[i, col] = df2.iloc[1, df2.columns.get_loc(col)]\n",
            "<ipython-input-62-fce11dd3a64a>:40: PerformanceWarning: DataFrame is highly fragmented.  This is usually the result of calling `frame.insert` many times, which has poor performance.  Consider joining all columns at once using pd.concat(axis=1) instead. To get a de-fragmented frame, use `newframe = frame.copy()`\n",
            "  df.at[i, col] = df2.iloc[1, df2.columns.get_loc(col)]\n",
            "<ipython-input-62-fce11dd3a64a>:40: PerformanceWarning: DataFrame is highly fragmented.  This is usually the result of calling `frame.insert` many times, which has poor performance.  Consider joining all columns at once using pd.concat(axis=1) instead. To get a de-fragmented frame, use `newframe = frame.copy()`\n",
            "  df.at[i, col] = df2.iloc[1, df2.columns.get_loc(col)]\n",
            "<ipython-input-62-fce11dd3a64a>:40: PerformanceWarning: DataFrame is highly fragmented.  This is usually the result of calling `frame.insert` many times, which has poor performance.  Consider joining all columns at once using pd.concat(axis=1) instead. To get a de-fragmented frame, use `newframe = frame.copy()`\n",
            "  df.at[i, col] = df2.iloc[1, df2.columns.get_loc(col)]\n",
            "<ipython-input-62-fce11dd3a64a>:40: PerformanceWarning: DataFrame is highly fragmented.  This is usually the result of calling `frame.insert` many times, which has poor performance.  Consider joining all columns at once using pd.concat(axis=1) instead. To get a de-fragmented frame, use `newframe = frame.copy()`\n",
            "  df.at[i, col] = df2.iloc[1, df2.columns.get_loc(col)]\n",
            "<ipython-input-62-fce11dd3a64a>:40: PerformanceWarning: DataFrame is highly fragmented.  This is usually the result of calling `frame.insert` many times, which has poor performance.  Consider joining all columns at once using pd.concat(axis=1) instead. To get a de-fragmented frame, use `newframe = frame.copy()`\n",
            "  df.at[i, col] = df2.iloc[1, df2.columns.get_loc(col)]\n",
            "<ipython-input-62-fce11dd3a64a>:40: PerformanceWarning: DataFrame is highly fragmented.  This is usually the result of calling `frame.insert` many times, which has poor performance.  Consider joining all columns at once using pd.concat(axis=1) instead. To get a de-fragmented frame, use `newframe = frame.copy()`\n",
            "  df.at[i, col] = df2.iloc[1, df2.columns.get_loc(col)]\n",
            "<ipython-input-62-fce11dd3a64a>:40: PerformanceWarning: DataFrame is highly fragmented.  This is usually the result of calling `frame.insert` many times, which has poor performance.  Consider joining all columns at once using pd.concat(axis=1) instead. To get a de-fragmented frame, use `newframe = frame.copy()`\n",
            "  df.at[i, col] = df2.iloc[1, df2.columns.get_loc(col)]\n",
            "<ipython-input-62-fce11dd3a64a>:40: PerformanceWarning: DataFrame is highly fragmented.  This is usually the result of calling `frame.insert` many times, which has poor performance.  Consider joining all columns at once using pd.concat(axis=1) instead. To get a de-fragmented frame, use `newframe = frame.copy()`\n",
            "  df.at[i, col] = df2.iloc[1, df2.columns.get_loc(col)]\n",
            "<ipython-input-62-fce11dd3a64a>:40: PerformanceWarning: DataFrame is highly fragmented.  This is usually the result of calling `frame.insert` many times, which has poor performance.  Consider joining all columns at once using pd.concat(axis=1) instead. To get a de-fragmented frame, use `newframe = frame.copy()`\n",
            "  df.at[i, col] = df2.iloc[1, df2.columns.get_loc(col)]\n",
            "<ipython-input-62-fce11dd3a64a>:40: PerformanceWarning: DataFrame is highly fragmented.  This is usually the result of calling `frame.insert` many times, which has poor performance.  Consider joining all columns at once using pd.concat(axis=1) instead. To get a de-fragmented frame, use `newframe = frame.copy()`\n",
            "  df.at[i, col] = df2.iloc[1, df2.columns.get_loc(col)]\n",
            "<ipython-input-62-fce11dd3a64a>:40: PerformanceWarning: DataFrame is highly fragmented.  This is usually the result of calling `frame.insert` many times, which has poor performance.  Consider joining all columns at once using pd.concat(axis=1) instead. To get a de-fragmented frame, use `newframe = frame.copy()`\n",
            "  df.at[i, col] = df2.iloc[1, df2.columns.get_loc(col)]\n",
            "<ipython-input-62-fce11dd3a64a>:40: PerformanceWarning: DataFrame is highly fragmented.  This is usually the result of calling `frame.insert` many times, which has poor performance.  Consider joining all columns at once using pd.concat(axis=1) instead. To get a de-fragmented frame, use `newframe = frame.copy()`\n",
            "  df.at[i, col] = df2.iloc[1, df2.columns.get_loc(col)]\n"
          ]
        },
        {
          "output_type": "stream",
          "name": "stdout",
          "text": [
            "1650\n"
          ]
        },
        {
          "output_type": "stream",
          "name": "stderr",
          "text": [
            "<ipython-input-62-fce11dd3a64a>:40: PerformanceWarning: DataFrame is highly fragmented.  This is usually the result of calling `frame.insert` many times, which has poor performance.  Consider joining all columns at once using pd.concat(axis=1) instead. To get a de-fragmented frame, use `newframe = frame.copy()`\n",
            "  df.at[i, col] = df2.iloc[1, df2.columns.get_loc(col)]\n",
            "<ipython-input-62-fce11dd3a64a>:40: PerformanceWarning: DataFrame is highly fragmented.  This is usually the result of calling `frame.insert` many times, which has poor performance.  Consider joining all columns at once using pd.concat(axis=1) instead. To get a de-fragmented frame, use `newframe = frame.copy()`\n",
            "  df.at[i, col] = df2.iloc[1, df2.columns.get_loc(col)]\n",
            "<ipython-input-62-fce11dd3a64a>:40: PerformanceWarning: DataFrame is highly fragmented.  This is usually the result of calling `frame.insert` many times, which has poor performance.  Consider joining all columns at once using pd.concat(axis=1) instead. To get a de-fragmented frame, use `newframe = frame.copy()`\n",
            "  df.at[i, col] = df2.iloc[1, df2.columns.get_loc(col)]\n",
            "<ipython-input-62-fce11dd3a64a>:40: PerformanceWarning: DataFrame is highly fragmented.  This is usually the result of calling `frame.insert` many times, which has poor performance.  Consider joining all columns at once using pd.concat(axis=1) instead. To get a de-fragmented frame, use `newframe = frame.copy()`\n",
            "  df.at[i, col] = df2.iloc[1, df2.columns.get_loc(col)]\n",
            "<ipython-input-62-fce11dd3a64a>:40: PerformanceWarning: DataFrame is highly fragmented.  This is usually the result of calling `frame.insert` many times, which has poor performance.  Consider joining all columns at once using pd.concat(axis=1) instead. To get a de-fragmented frame, use `newframe = frame.copy()`\n",
            "  df.at[i, col] = df2.iloc[1, df2.columns.get_loc(col)]\n",
            "<ipython-input-62-fce11dd3a64a>:40: PerformanceWarning: DataFrame is highly fragmented.  This is usually the result of calling `frame.insert` many times, which has poor performance.  Consider joining all columns at once using pd.concat(axis=1) instead. To get a de-fragmented frame, use `newframe = frame.copy()`\n",
            "  df.at[i, col] = df2.iloc[1, df2.columns.get_loc(col)]\n",
            "<ipython-input-62-fce11dd3a64a>:40: PerformanceWarning: DataFrame is highly fragmented.  This is usually the result of calling `frame.insert` many times, which has poor performance.  Consider joining all columns at once using pd.concat(axis=1) instead. To get a de-fragmented frame, use `newframe = frame.copy()`\n",
            "  df.at[i, col] = df2.iloc[1, df2.columns.get_loc(col)]\n",
            "<ipython-input-62-fce11dd3a64a>:40: PerformanceWarning: DataFrame is highly fragmented.  This is usually the result of calling `frame.insert` many times, which has poor performance.  Consider joining all columns at once using pd.concat(axis=1) instead. To get a de-fragmented frame, use `newframe = frame.copy()`\n",
            "  df.at[i, col] = df2.iloc[1, df2.columns.get_loc(col)]\n",
            "<ipython-input-62-fce11dd3a64a>:40: PerformanceWarning: DataFrame is highly fragmented.  This is usually the result of calling `frame.insert` many times, which has poor performance.  Consider joining all columns at once using pd.concat(axis=1) instead. To get a de-fragmented frame, use `newframe = frame.copy()`\n",
            "  df.at[i, col] = df2.iloc[1, df2.columns.get_loc(col)]\n",
            "<ipython-input-62-fce11dd3a64a>:40: PerformanceWarning: DataFrame is highly fragmented.  This is usually the result of calling `frame.insert` many times, which has poor performance.  Consider joining all columns at once using pd.concat(axis=1) instead. To get a de-fragmented frame, use `newframe = frame.copy()`\n",
            "  df.at[i, col] = df2.iloc[1, df2.columns.get_loc(col)]\n",
            "<ipython-input-62-fce11dd3a64a>:40: PerformanceWarning: DataFrame is highly fragmented.  This is usually the result of calling `frame.insert` many times, which has poor performance.  Consider joining all columns at once using pd.concat(axis=1) instead. To get a de-fragmented frame, use `newframe = frame.copy()`\n",
            "  df.at[i, col] = df2.iloc[1, df2.columns.get_loc(col)]\n",
            "<ipython-input-62-fce11dd3a64a>:40: PerformanceWarning: DataFrame is highly fragmented.  This is usually the result of calling `frame.insert` many times, which has poor performance.  Consider joining all columns at once using pd.concat(axis=1) instead. To get a de-fragmented frame, use `newframe = frame.copy()`\n",
            "  df.at[i, col] = df2.iloc[1, df2.columns.get_loc(col)]\n",
            "<ipython-input-62-fce11dd3a64a>:40: PerformanceWarning: DataFrame is highly fragmented.  This is usually the result of calling `frame.insert` many times, which has poor performance.  Consider joining all columns at once using pd.concat(axis=1) instead. To get a de-fragmented frame, use `newframe = frame.copy()`\n",
            "  df.at[i, col] = df2.iloc[1, df2.columns.get_loc(col)]\n",
            "<ipython-input-62-fce11dd3a64a>:40: PerformanceWarning: DataFrame is highly fragmented.  This is usually the result of calling `frame.insert` many times, which has poor performance.  Consider joining all columns at once using pd.concat(axis=1) instead. To get a de-fragmented frame, use `newframe = frame.copy()`\n",
            "  df.at[i, col] = df2.iloc[1, df2.columns.get_loc(col)]\n",
            "<ipython-input-62-fce11dd3a64a>:40: PerformanceWarning: DataFrame is highly fragmented.  This is usually the result of calling `frame.insert` many times, which has poor performance.  Consider joining all columns at once using pd.concat(axis=1) instead. To get a de-fragmented frame, use `newframe = frame.copy()`\n",
            "  df.at[i, col] = df2.iloc[1, df2.columns.get_loc(col)]\n",
            "<ipython-input-62-fce11dd3a64a>:40: PerformanceWarning: DataFrame is highly fragmented.  This is usually the result of calling `frame.insert` many times, which has poor performance.  Consider joining all columns at once using pd.concat(axis=1) instead. To get a de-fragmented frame, use `newframe = frame.copy()`\n",
            "  df.at[i, col] = df2.iloc[1, df2.columns.get_loc(col)]\n",
            "<ipython-input-62-fce11dd3a64a>:40: PerformanceWarning: DataFrame is highly fragmented.  This is usually the result of calling `frame.insert` many times, which has poor performance.  Consider joining all columns at once using pd.concat(axis=1) instead. To get a de-fragmented frame, use `newframe = frame.copy()`\n",
            "  df.at[i, col] = df2.iloc[1, df2.columns.get_loc(col)]\n",
            "<ipython-input-62-fce11dd3a64a>:40: PerformanceWarning: DataFrame is highly fragmented.  This is usually the result of calling `frame.insert` many times, which has poor performance.  Consider joining all columns at once using pd.concat(axis=1) instead. To get a de-fragmented frame, use `newframe = frame.copy()`\n",
            "  df.at[i, col] = df2.iloc[1, df2.columns.get_loc(col)]\n"
          ]
        },
        {
          "output_type": "stream",
          "name": "stdout",
          "text": [
            "1700\n"
          ]
        },
        {
          "output_type": "stream",
          "name": "stderr",
          "text": [
            "<ipython-input-62-fce11dd3a64a>:40: PerformanceWarning: DataFrame is highly fragmented.  This is usually the result of calling `frame.insert` many times, which has poor performance.  Consider joining all columns at once using pd.concat(axis=1) instead. To get a de-fragmented frame, use `newframe = frame.copy()`\n",
            "  df.at[i, col] = df2.iloc[1, df2.columns.get_loc(col)]\n",
            "<ipython-input-62-fce11dd3a64a>:40: PerformanceWarning: DataFrame is highly fragmented.  This is usually the result of calling `frame.insert` many times, which has poor performance.  Consider joining all columns at once using pd.concat(axis=1) instead. To get a de-fragmented frame, use `newframe = frame.copy()`\n",
            "  df.at[i, col] = df2.iloc[1, df2.columns.get_loc(col)]\n",
            "<ipython-input-62-fce11dd3a64a>:40: PerformanceWarning: DataFrame is highly fragmented.  This is usually the result of calling `frame.insert` many times, which has poor performance.  Consider joining all columns at once using pd.concat(axis=1) instead. To get a de-fragmented frame, use `newframe = frame.copy()`\n",
            "  df.at[i, col] = df2.iloc[1, df2.columns.get_loc(col)]\n",
            "<ipython-input-62-fce11dd3a64a>:40: PerformanceWarning: DataFrame is highly fragmented.  This is usually the result of calling `frame.insert` many times, which has poor performance.  Consider joining all columns at once using pd.concat(axis=1) instead. To get a de-fragmented frame, use `newframe = frame.copy()`\n",
            "  df.at[i, col] = df2.iloc[1, df2.columns.get_loc(col)]\n",
            "<ipython-input-62-fce11dd3a64a>:40: PerformanceWarning: DataFrame is highly fragmented.  This is usually the result of calling `frame.insert` many times, which has poor performance.  Consider joining all columns at once using pd.concat(axis=1) instead. To get a de-fragmented frame, use `newframe = frame.copy()`\n",
            "  df.at[i, col] = df2.iloc[1, df2.columns.get_loc(col)]\n",
            "<ipython-input-62-fce11dd3a64a>:40: PerformanceWarning: DataFrame is highly fragmented.  This is usually the result of calling `frame.insert` many times, which has poor performance.  Consider joining all columns at once using pd.concat(axis=1) instead. To get a de-fragmented frame, use `newframe = frame.copy()`\n",
            "  df.at[i, col] = df2.iloc[1, df2.columns.get_loc(col)]\n",
            "<ipython-input-62-fce11dd3a64a>:40: PerformanceWarning: DataFrame is highly fragmented.  This is usually the result of calling `frame.insert` many times, which has poor performance.  Consider joining all columns at once using pd.concat(axis=1) instead. To get a de-fragmented frame, use `newframe = frame.copy()`\n",
            "  df.at[i, col] = df2.iloc[1, df2.columns.get_loc(col)]\n"
          ]
        },
        {
          "output_type": "stream",
          "name": "stdout",
          "text": [
            "1750\n"
          ]
        },
        {
          "output_type": "stream",
          "name": "stderr",
          "text": [
            "<ipython-input-62-fce11dd3a64a>:40: PerformanceWarning: DataFrame is highly fragmented.  This is usually the result of calling `frame.insert` many times, which has poor performance.  Consider joining all columns at once using pd.concat(axis=1) instead. To get a de-fragmented frame, use `newframe = frame.copy()`\n",
            "  df.at[i, col] = df2.iloc[1, df2.columns.get_loc(col)]\n",
            "<ipython-input-62-fce11dd3a64a>:40: PerformanceWarning: DataFrame is highly fragmented.  This is usually the result of calling `frame.insert` many times, which has poor performance.  Consider joining all columns at once using pd.concat(axis=1) instead. To get a de-fragmented frame, use `newframe = frame.copy()`\n",
            "  df.at[i, col] = df2.iloc[1, df2.columns.get_loc(col)]\n",
            "<ipython-input-62-fce11dd3a64a>:40: PerformanceWarning: DataFrame is highly fragmented.  This is usually the result of calling `frame.insert` many times, which has poor performance.  Consider joining all columns at once using pd.concat(axis=1) instead. To get a de-fragmented frame, use `newframe = frame.copy()`\n",
            "  df.at[i, col] = df2.iloc[1, df2.columns.get_loc(col)]\n",
            "<ipython-input-62-fce11dd3a64a>:40: PerformanceWarning: DataFrame is highly fragmented.  This is usually the result of calling `frame.insert` many times, which has poor performance.  Consider joining all columns at once using pd.concat(axis=1) instead. To get a de-fragmented frame, use `newframe = frame.copy()`\n",
            "  df.at[i, col] = df2.iloc[1, df2.columns.get_loc(col)]\n",
            "<ipython-input-62-fce11dd3a64a>:40: PerformanceWarning: DataFrame is highly fragmented.  This is usually the result of calling `frame.insert` many times, which has poor performance.  Consider joining all columns at once using pd.concat(axis=1) instead. To get a de-fragmented frame, use `newframe = frame.copy()`\n",
            "  df.at[i, col] = df2.iloc[1, df2.columns.get_loc(col)]\n",
            "<ipython-input-62-fce11dd3a64a>:40: PerformanceWarning: DataFrame is highly fragmented.  This is usually the result of calling `frame.insert` many times, which has poor performance.  Consider joining all columns at once using pd.concat(axis=1) instead. To get a de-fragmented frame, use `newframe = frame.copy()`\n",
            "  df.at[i, col] = df2.iloc[1, df2.columns.get_loc(col)]\n",
            "<ipython-input-62-fce11dd3a64a>:40: PerformanceWarning: DataFrame is highly fragmented.  This is usually the result of calling `frame.insert` many times, which has poor performance.  Consider joining all columns at once using pd.concat(axis=1) instead. To get a de-fragmented frame, use `newframe = frame.copy()`\n",
            "  df.at[i, col] = df2.iloc[1, df2.columns.get_loc(col)]\n",
            "<ipython-input-62-fce11dd3a64a>:40: PerformanceWarning: DataFrame is highly fragmented.  This is usually the result of calling `frame.insert` many times, which has poor performance.  Consider joining all columns at once using pd.concat(axis=1) instead. To get a de-fragmented frame, use `newframe = frame.copy()`\n",
            "  df.at[i, col] = df2.iloc[1, df2.columns.get_loc(col)]\n",
            "<ipython-input-62-fce11dd3a64a>:40: PerformanceWarning: DataFrame is highly fragmented.  This is usually the result of calling `frame.insert` many times, which has poor performance.  Consider joining all columns at once using pd.concat(axis=1) instead. To get a de-fragmented frame, use `newframe = frame.copy()`\n",
            "  df.at[i, col] = df2.iloc[1, df2.columns.get_loc(col)]\n",
            "<ipython-input-62-fce11dd3a64a>:40: PerformanceWarning: DataFrame is highly fragmented.  This is usually the result of calling `frame.insert` many times, which has poor performance.  Consider joining all columns at once using pd.concat(axis=1) instead. To get a de-fragmented frame, use `newframe = frame.copy()`\n",
            "  df.at[i, col] = df2.iloc[1, df2.columns.get_loc(col)]\n",
            "<ipython-input-62-fce11dd3a64a>:40: PerformanceWarning: DataFrame is highly fragmented.  This is usually the result of calling `frame.insert` many times, which has poor performance.  Consider joining all columns at once using pd.concat(axis=1) instead. To get a de-fragmented frame, use `newframe = frame.copy()`\n",
            "  df.at[i, col] = df2.iloc[1, df2.columns.get_loc(col)]\n",
            "<ipython-input-62-fce11dd3a64a>:40: PerformanceWarning: DataFrame is highly fragmented.  This is usually the result of calling `frame.insert` many times, which has poor performance.  Consider joining all columns at once using pd.concat(axis=1) instead. To get a de-fragmented frame, use `newframe = frame.copy()`\n",
            "  df.at[i, col] = df2.iloc[1, df2.columns.get_loc(col)]\n"
          ]
        },
        {
          "output_type": "stream",
          "name": "stdout",
          "text": [
            "1800\n"
          ]
        },
        {
          "output_type": "stream",
          "name": "stderr",
          "text": [
            "<ipython-input-62-fce11dd3a64a>:40: PerformanceWarning: DataFrame is highly fragmented.  This is usually the result of calling `frame.insert` many times, which has poor performance.  Consider joining all columns at once using pd.concat(axis=1) instead. To get a de-fragmented frame, use `newframe = frame.copy()`\n",
            "  df.at[i, col] = df2.iloc[1, df2.columns.get_loc(col)]\n",
            "<ipython-input-62-fce11dd3a64a>:40: PerformanceWarning: DataFrame is highly fragmented.  This is usually the result of calling `frame.insert` many times, which has poor performance.  Consider joining all columns at once using pd.concat(axis=1) instead. To get a de-fragmented frame, use `newframe = frame.copy()`\n",
            "  df.at[i, col] = df2.iloc[1, df2.columns.get_loc(col)]\n",
            "<ipython-input-62-fce11dd3a64a>:40: PerformanceWarning: DataFrame is highly fragmented.  This is usually the result of calling `frame.insert` many times, which has poor performance.  Consider joining all columns at once using pd.concat(axis=1) instead. To get a de-fragmented frame, use `newframe = frame.copy()`\n",
            "  df.at[i, col] = df2.iloc[1, df2.columns.get_loc(col)]\n"
          ]
        },
        {
          "output_type": "stream",
          "name": "stdout",
          "text": [
            "1850\n"
          ]
        },
        {
          "output_type": "stream",
          "name": "stderr",
          "text": [
            "<ipython-input-62-fce11dd3a64a>:40: PerformanceWarning: DataFrame is highly fragmented.  This is usually the result of calling `frame.insert` many times, which has poor performance.  Consider joining all columns at once using pd.concat(axis=1) instead. To get a de-fragmented frame, use `newframe = frame.copy()`\n",
            "  df.at[i, col] = df2.iloc[1, df2.columns.get_loc(col)]\n",
            "<ipython-input-62-fce11dd3a64a>:40: PerformanceWarning: DataFrame is highly fragmented.  This is usually the result of calling `frame.insert` many times, which has poor performance.  Consider joining all columns at once using pd.concat(axis=1) instead. To get a de-fragmented frame, use `newframe = frame.copy()`\n",
            "  df.at[i, col] = df2.iloc[1, df2.columns.get_loc(col)]\n",
            "<ipython-input-62-fce11dd3a64a>:40: PerformanceWarning: DataFrame is highly fragmented.  This is usually the result of calling `frame.insert` many times, which has poor performance.  Consider joining all columns at once using pd.concat(axis=1) instead. To get a de-fragmented frame, use `newframe = frame.copy()`\n",
            "  df.at[i, col] = df2.iloc[1, df2.columns.get_loc(col)]\n",
            "<ipython-input-62-fce11dd3a64a>:40: PerformanceWarning: DataFrame is highly fragmented.  This is usually the result of calling `frame.insert` many times, which has poor performance.  Consider joining all columns at once using pd.concat(axis=1) instead. To get a de-fragmented frame, use `newframe = frame.copy()`\n",
            "  df.at[i, col] = df2.iloc[1, df2.columns.get_loc(col)]\n",
            "<ipython-input-62-fce11dd3a64a>:40: PerformanceWarning: DataFrame is highly fragmented.  This is usually the result of calling `frame.insert` many times, which has poor performance.  Consider joining all columns at once using pd.concat(axis=1) instead. To get a de-fragmented frame, use `newframe = frame.copy()`\n",
            "  df.at[i, col] = df2.iloc[1, df2.columns.get_loc(col)]\n",
            "<ipython-input-62-fce11dd3a64a>:40: PerformanceWarning: DataFrame is highly fragmented.  This is usually the result of calling `frame.insert` many times, which has poor performance.  Consider joining all columns at once using pd.concat(axis=1) instead. To get a de-fragmented frame, use `newframe = frame.copy()`\n",
            "  df.at[i, col] = df2.iloc[1, df2.columns.get_loc(col)]\n",
            "<ipython-input-62-fce11dd3a64a>:40: PerformanceWarning: DataFrame is highly fragmented.  This is usually the result of calling `frame.insert` many times, which has poor performance.  Consider joining all columns at once using pd.concat(axis=1) instead. To get a de-fragmented frame, use `newframe = frame.copy()`\n",
            "  df.at[i, col] = df2.iloc[1, df2.columns.get_loc(col)]\n",
            "<ipython-input-62-fce11dd3a64a>:40: PerformanceWarning: DataFrame is highly fragmented.  This is usually the result of calling `frame.insert` many times, which has poor performance.  Consider joining all columns at once using pd.concat(axis=1) instead. To get a de-fragmented frame, use `newframe = frame.copy()`\n",
            "  df.at[i, col] = df2.iloc[1, df2.columns.get_loc(col)]\n",
            "<ipython-input-62-fce11dd3a64a>:40: PerformanceWarning: DataFrame is highly fragmented.  This is usually the result of calling `frame.insert` many times, which has poor performance.  Consider joining all columns at once using pd.concat(axis=1) instead. To get a de-fragmented frame, use `newframe = frame.copy()`\n",
            "  df.at[i, col] = df2.iloc[1, df2.columns.get_loc(col)]\n",
            "<ipython-input-62-fce11dd3a64a>:40: PerformanceWarning: DataFrame is highly fragmented.  This is usually the result of calling `frame.insert` many times, which has poor performance.  Consider joining all columns at once using pd.concat(axis=1) instead. To get a de-fragmented frame, use `newframe = frame.copy()`\n",
            "  df.at[i, col] = df2.iloc[1, df2.columns.get_loc(col)]\n",
            "<ipython-input-62-fce11dd3a64a>:40: PerformanceWarning: DataFrame is highly fragmented.  This is usually the result of calling `frame.insert` many times, which has poor performance.  Consider joining all columns at once using pd.concat(axis=1) instead. To get a de-fragmented frame, use `newframe = frame.copy()`\n",
            "  df.at[i, col] = df2.iloc[1, df2.columns.get_loc(col)]\n",
            "<ipython-input-62-fce11dd3a64a>:40: PerformanceWarning: DataFrame is highly fragmented.  This is usually the result of calling `frame.insert` many times, which has poor performance.  Consider joining all columns at once using pd.concat(axis=1) instead. To get a de-fragmented frame, use `newframe = frame.copy()`\n",
            "  df.at[i, col] = df2.iloc[1, df2.columns.get_loc(col)]\n",
            "<ipython-input-62-fce11dd3a64a>:40: PerformanceWarning: DataFrame is highly fragmented.  This is usually the result of calling `frame.insert` many times, which has poor performance.  Consider joining all columns at once using pd.concat(axis=1) instead. To get a de-fragmented frame, use `newframe = frame.copy()`\n",
            "  df.at[i, col] = df2.iloc[1, df2.columns.get_loc(col)]\n",
            "<ipython-input-62-fce11dd3a64a>:40: PerformanceWarning: DataFrame is highly fragmented.  This is usually the result of calling `frame.insert` many times, which has poor performance.  Consider joining all columns at once using pd.concat(axis=1) instead. To get a de-fragmented frame, use `newframe = frame.copy()`\n",
            "  df.at[i, col] = df2.iloc[1, df2.columns.get_loc(col)]\n",
            "<ipython-input-62-fce11dd3a64a>:40: PerformanceWarning: DataFrame is highly fragmented.  This is usually the result of calling `frame.insert` many times, which has poor performance.  Consider joining all columns at once using pd.concat(axis=1) instead. To get a de-fragmented frame, use `newframe = frame.copy()`\n",
            "  df.at[i, col] = df2.iloc[1, df2.columns.get_loc(col)]\n"
          ]
        },
        {
          "output_type": "stream",
          "name": "stdout",
          "text": [
            "1900\n"
          ]
        },
        {
          "output_type": "stream",
          "name": "stderr",
          "text": [
            "<ipython-input-62-fce11dd3a64a>:40: PerformanceWarning: DataFrame is highly fragmented.  This is usually the result of calling `frame.insert` many times, which has poor performance.  Consider joining all columns at once using pd.concat(axis=1) instead. To get a de-fragmented frame, use `newframe = frame.copy()`\n",
            "  df.at[i, col] = df2.iloc[1, df2.columns.get_loc(col)]\n",
            "<ipython-input-62-fce11dd3a64a>:40: PerformanceWarning: DataFrame is highly fragmented.  This is usually the result of calling `frame.insert` many times, which has poor performance.  Consider joining all columns at once using pd.concat(axis=1) instead. To get a de-fragmented frame, use `newframe = frame.copy()`\n",
            "  df.at[i, col] = df2.iloc[1, df2.columns.get_loc(col)]\n",
            "<ipython-input-62-fce11dd3a64a>:40: PerformanceWarning: DataFrame is highly fragmented.  This is usually the result of calling `frame.insert` many times, which has poor performance.  Consider joining all columns at once using pd.concat(axis=1) instead. To get a de-fragmented frame, use `newframe = frame.copy()`\n",
            "  df.at[i, col] = df2.iloc[1, df2.columns.get_loc(col)]\n",
            "<ipython-input-62-fce11dd3a64a>:40: PerformanceWarning: DataFrame is highly fragmented.  This is usually the result of calling `frame.insert` many times, which has poor performance.  Consider joining all columns at once using pd.concat(axis=1) instead. To get a de-fragmented frame, use `newframe = frame.copy()`\n",
            "  df.at[i, col] = df2.iloc[1, df2.columns.get_loc(col)]\n",
            "<ipython-input-62-fce11dd3a64a>:40: PerformanceWarning: DataFrame is highly fragmented.  This is usually the result of calling `frame.insert` many times, which has poor performance.  Consider joining all columns at once using pd.concat(axis=1) instead. To get a de-fragmented frame, use `newframe = frame.copy()`\n",
            "  df.at[i, col] = df2.iloc[1, df2.columns.get_loc(col)]\n",
            "<ipython-input-62-fce11dd3a64a>:40: PerformanceWarning: DataFrame is highly fragmented.  This is usually the result of calling `frame.insert` many times, which has poor performance.  Consider joining all columns at once using pd.concat(axis=1) instead. To get a de-fragmented frame, use `newframe = frame.copy()`\n",
            "  df.at[i, col] = df2.iloc[1, df2.columns.get_loc(col)]\n",
            "<ipython-input-62-fce11dd3a64a>:40: PerformanceWarning: DataFrame is highly fragmented.  This is usually the result of calling `frame.insert` many times, which has poor performance.  Consider joining all columns at once using pd.concat(axis=1) instead. To get a de-fragmented frame, use `newframe = frame.copy()`\n",
            "  df.at[i, col] = df2.iloc[1, df2.columns.get_loc(col)]\n",
            "<ipython-input-62-fce11dd3a64a>:40: PerformanceWarning: DataFrame is highly fragmented.  This is usually the result of calling `frame.insert` many times, which has poor performance.  Consider joining all columns at once using pd.concat(axis=1) instead. To get a de-fragmented frame, use `newframe = frame.copy()`\n",
            "  df.at[i, col] = df2.iloc[1, df2.columns.get_loc(col)]\n",
            "<ipython-input-62-fce11dd3a64a>:40: PerformanceWarning: DataFrame is highly fragmented.  This is usually the result of calling `frame.insert` many times, which has poor performance.  Consider joining all columns at once using pd.concat(axis=1) instead. To get a de-fragmented frame, use `newframe = frame.copy()`\n",
            "  df.at[i, col] = df2.iloc[1, df2.columns.get_loc(col)]\n",
            "<ipython-input-62-fce11dd3a64a>:40: PerformanceWarning: DataFrame is highly fragmented.  This is usually the result of calling `frame.insert` many times, which has poor performance.  Consider joining all columns at once using pd.concat(axis=1) instead. To get a de-fragmented frame, use `newframe = frame.copy()`\n",
            "  df.at[i, col] = df2.iloc[1, df2.columns.get_loc(col)]\n"
          ]
        },
        {
          "output_type": "stream",
          "name": "stdout",
          "text": [
            "1950\n"
          ]
        },
        {
          "output_type": "stream",
          "name": "stderr",
          "text": [
            "<ipython-input-62-fce11dd3a64a>:40: PerformanceWarning: DataFrame is highly fragmented.  This is usually the result of calling `frame.insert` many times, which has poor performance.  Consider joining all columns at once using pd.concat(axis=1) instead. To get a de-fragmented frame, use `newframe = frame.copy()`\n",
            "  df.at[i, col] = df2.iloc[1, df2.columns.get_loc(col)]\n",
            "<ipython-input-62-fce11dd3a64a>:40: PerformanceWarning: DataFrame is highly fragmented.  This is usually the result of calling `frame.insert` many times, which has poor performance.  Consider joining all columns at once using pd.concat(axis=1) instead. To get a de-fragmented frame, use `newframe = frame.copy()`\n",
            "  df.at[i, col] = df2.iloc[1, df2.columns.get_loc(col)]\n",
            "<ipython-input-62-fce11dd3a64a>:40: PerformanceWarning: DataFrame is highly fragmented.  This is usually the result of calling `frame.insert` many times, which has poor performance.  Consider joining all columns at once using pd.concat(axis=1) instead. To get a de-fragmented frame, use `newframe = frame.copy()`\n",
            "  df.at[i, col] = df2.iloc[1, df2.columns.get_loc(col)]\n",
            "<ipython-input-62-fce11dd3a64a>:40: PerformanceWarning: DataFrame is highly fragmented.  This is usually the result of calling `frame.insert` many times, which has poor performance.  Consider joining all columns at once using pd.concat(axis=1) instead. To get a de-fragmented frame, use `newframe = frame.copy()`\n",
            "  df.at[i, col] = df2.iloc[1, df2.columns.get_loc(col)]\n",
            "<ipython-input-62-fce11dd3a64a>:40: PerformanceWarning: DataFrame is highly fragmented.  This is usually the result of calling `frame.insert` many times, which has poor performance.  Consider joining all columns at once using pd.concat(axis=1) instead. To get a de-fragmented frame, use `newframe = frame.copy()`\n",
            "  df.at[i, col] = df2.iloc[1, df2.columns.get_loc(col)]\n"
          ]
        },
        {
          "output_type": "stream",
          "name": "stdout",
          "text": [
            "2000\n"
          ]
        },
        {
          "output_type": "stream",
          "name": "stderr",
          "text": [
            "<ipython-input-62-fce11dd3a64a>:40: PerformanceWarning: DataFrame is highly fragmented.  This is usually the result of calling `frame.insert` many times, which has poor performance.  Consider joining all columns at once using pd.concat(axis=1) instead. To get a de-fragmented frame, use `newframe = frame.copy()`\n",
            "  df.at[i, col] = df2.iloc[1, df2.columns.get_loc(col)]\n",
            "<ipython-input-62-fce11dd3a64a>:40: PerformanceWarning: DataFrame is highly fragmented.  This is usually the result of calling `frame.insert` many times, which has poor performance.  Consider joining all columns at once using pd.concat(axis=1) instead. To get a de-fragmented frame, use `newframe = frame.copy()`\n",
            "  df.at[i, col] = df2.iloc[1, df2.columns.get_loc(col)]\n",
            "<ipython-input-62-fce11dd3a64a>:40: PerformanceWarning: DataFrame is highly fragmented.  This is usually the result of calling `frame.insert` many times, which has poor performance.  Consider joining all columns at once using pd.concat(axis=1) instead. To get a de-fragmented frame, use `newframe = frame.copy()`\n",
            "  df.at[i, col] = df2.iloc[1, df2.columns.get_loc(col)]\n",
            "<ipython-input-62-fce11dd3a64a>:40: PerformanceWarning: DataFrame is highly fragmented.  This is usually the result of calling `frame.insert` many times, which has poor performance.  Consider joining all columns at once using pd.concat(axis=1) instead. To get a de-fragmented frame, use `newframe = frame.copy()`\n",
            "  df.at[i, col] = df2.iloc[1, df2.columns.get_loc(col)]\n"
          ]
        },
        {
          "output_type": "stream",
          "name": "stdout",
          "text": [
            "2050\n"
          ]
        },
        {
          "output_type": "stream",
          "name": "stderr",
          "text": [
            "<ipython-input-62-fce11dd3a64a>:40: PerformanceWarning: DataFrame is highly fragmented.  This is usually the result of calling `frame.insert` many times, which has poor performance.  Consider joining all columns at once using pd.concat(axis=1) instead. To get a de-fragmented frame, use `newframe = frame.copy()`\n",
            "  df.at[i, col] = df2.iloc[1, df2.columns.get_loc(col)]\n",
            "<ipython-input-62-fce11dd3a64a>:40: PerformanceWarning: DataFrame is highly fragmented.  This is usually the result of calling `frame.insert` many times, which has poor performance.  Consider joining all columns at once using pd.concat(axis=1) instead. To get a de-fragmented frame, use `newframe = frame.copy()`\n",
            "  df.at[i, col] = df2.iloc[1, df2.columns.get_loc(col)]\n",
            "<ipython-input-62-fce11dd3a64a>:40: PerformanceWarning: DataFrame is highly fragmented.  This is usually the result of calling `frame.insert` many times, which has poor performance.  Consider joining all columns at once using pd.concat(axis=1) instead. To get a de-fragmented frame, use `newframe = frame.copy()`\n",
            "  df.at[i, col] = df2.iloc[1, df2.columns.get_loc(col)]\n",
            "<ipython-input-62-fce11dd3a64a>:40: PerformanceWarning: DataFrame is highly fragmented.  This is usually the result of calling `frame.insert` many times, which has poor performance.  Consider joining all columns at once using pd.concat(axis=1) instead. To get a de-fragmented frame, use `newframe = frame.copy()`\n",
            "  df.at[i, col] = df2.iloc[1, df2.columns.get_loc(col)]\n",
            "<ipython-input-62-fce11dd3a64a>:40: PerformanceWarning: DataFrame is highly fragmented.  This is usually the result of calling `frame.insert` many times, which has poor performance.  Consider joining all columns at once using pd.concat(axis=1) instead. To get a de-fragmented frame, use `newframe = frame.copy()`\n",
            "  df.at[i, col] = df2.iloc[1, df2.columns.get_loc(col)]\n",
            "<ipython-input-62-fce11dd3a64a>:40: PerformanceWarning: DataFrame is highly fragmented.  This is usually the result of calling `frame.insert` many times, which has poor performance.  Consider joining all columns at once using pd.concat(axis=1) instead. To get a de-fragmented frame, use `newframe = frame.copy()`\n",
            "  df.at[i, col] = df2.iloc[1, df2.columns.get_loc(col)]\n",
            "<ipython-input-62-fce11dd3a64a>:40: PerformanceWarning: DataFrame is highly fragmented.  This is usually the result of calling `frame.insert` many times, which has poor performance.  Consider joining all columns at once using pd.concat(axis=1) instead. To get a de-fragmented frame, use `newframe = frame.copy()`\n",
            "  df.at[i, col] = df2.iloc[1, df2.columns.get_loc(col)]\n"
          ]
        },
        {
          "output_type": "stream",
          "name": "stdout",
          "text": [
            "2100\n"
          ]
        },
        {
          "output_type": "stream",
          "name": "stderr",
          "text": [
            "<ipython-input-62-fce11dd3a64a>:40: PerformanceWarning: DataFrame is highly fragmented.  This is usually the result of calling `frame.insert` many times, which has poor performance.  Consider joining all columns at once using pd.concat(axis=1) instead. To get a de-fragmented frame, use `newframe = frame.copy()`\n",
            "  df.at[i, col] = df2.iloc[1, df2.columns.get_loc(col)]\n",
            "<ipython-input-62-fce11dd3a64a>:40: PerformanceWarning: DataFrame is highly fragmented.  This is usually the result of calling `frame.insert` many times, which has poor performance.  Consider joining all columns at once using pd.concat(axis=1) instead. To get a de-fragmented frame, use `newframe = frame.copy()`\n",
            "  df.at[i, col] = df2.iloc[1, df2.columns.get_loc(col)]\n",
            "<ipython-input-62-fce11dd3a64a>:40: PerformanceWarning: DataFrame is highly fragmented.  This is usually the result of calling `frame.insert` many times, which has poor performance.  Consider joining all columns at once using pd.concat(axis=1) instead. To get a de-fragmented frame, use `newframe = frame.copy()`\n",
            "  df.at[i, col] = df2.iloc[1, df2.columns.get_loc(col)]\n"
          ]
        },
        {
          "output_type": "stream",
          "name": "stdout",
          "text": [
            "2150\n"
          ]
        },
        {
          "output_type": "stream",
          "name": "stderr",
          "text": [
            "<ipython-input-62-fce11dd3a64a>:40: PerformanceWarning: DataFrame is highly fragmented.  This is usually the result of calling `frame.insert` many times, which has poor performance.  Consider joining all columns at once using pd.concat(axis=1) instead. To get a de-fragmented frame, use `newframe = frame.copy()`\n",
            "  df.at[i, col] = df2.iloc[1, df2.columns.get_loc(col)]\n",
            "<ipython-input-62-fce11dd3a64a>:40: PerformanceWarning: DataFrame is highly fragmented.  This is usually the result of calling `frame.insert` many times, which has poor performance.  Consider joining all columns at once using pd.concat(axis=1) instead. To get a de-fragmented frame, use `newframe = frame.copy()`\n",
            "  df.at[i, col] = df2.iloc[1, df2.columns.get_loc(col)]\n",
            "<ipython-input-62-fce11dd3a64a>:40: PerformanceWarning: DataFrame is highly fragmented.  This is usually the result of calling `frame.insert` many times, which has poor performance.  Consider joining all columns at once using pd.concat(axis=1) instead. To get a de-fragmented frame, use `newframe = frame.copy()`\n",
            "  df.at[i, col] = df2.iloc[1, df2.columns.get_loc(col)]\n",
            "<ipython-input-62-fce11dd3a64a>:40: PerformanceWarning: DataFrame is highly fragmented.  This is usually the result of calling `frame.insert` many times, which has poor performance.  Consider joining all columns at once using pd.concat(axis=1) instead. To get a de-fragmented frame, use `newframe = frame.copy()`\n",
            "  df.at[i, col] = df2.iloc[1, df2.columns.get_loc(col)]\n",
            "<ipython-input-62-fce11dd3a64a>:40: PerformanceWarning: DataFrame is highly fragmented.  This is usually the result of calling `frame.insert` many times, which has poor performance.  Consider joining all columns at once using pd.concat(axis=1) instead. To get a de-fragmented frame, use `newframe = frame.copy()`\n",
            "  df.at[i, col] = df2.iloc[1, df2.columns.get_loc(col)]\n",
            "<ipython-input-62-fce11dd3a64a>:40: PerformanceWarning: DataFrame is highly fragmented.  This is usually the result of calling `frame.insert` many times, which has poor performance.  Consider joining all columns at once using pd.concat(axis=1) instead. To get a de-fragmented frame, use `newframe = frame.copy()`\n",
            "  df.at[i, col] = df2.iloc[1, df2.columns.get_loc(col)]\n",
            "<ipython-input-62-fce11dd3a64a>:40: PerformanceWarning: DataFrame is highly fragmented.  This is usually the result of calling `frame.insert` many times, which has poor performance.  Consider joining all columns at once using pd.concat(axis=1) instead. To get a de-fragmented frame, use `newframe = frame.copy()`\n",
            "  df.at[i, col] = df2.iloc[1, df2.columns.get_loc(col)]\n",
            "<ipython-input-62-fce11dd3a64a>:40: PerformanceWarning: DataFrame is highly fragmented.  This is usually the result of calling `frame.insert` many times, which has poor performance.  Consider joining all columns at once using pd.concat(axis=1) instead. To get a de-fragmented frame, use `newframe = frame.copy()`\n",
            "  df.at[i, col] = df2.iloc[1, df2.columns.get_loc(col)]\n",
            "<ipython-input-62-fce11dd3a64a>:40: PerformanceWarning: DataFrame is highly fragmented.  This is usually the result of calling `frame.insert` many times, which has poor performance.  Consider joining all columns at once using pd.concat(axis=1) instead. To get a de-fragmented frame, use `newframe = frame.copy()`\n",
            "  df.at[i, col] = df2.iloc[1, df2.columns.get_loc(col)]\n",
            "<ipython-input-62-fce11dd3a64a>:40: PerformanceWarning: DataFrame is highly fragmented.  This is usually the result of calling `frame.insert` many times, which has poor performance.  Consider joining all columns at once using pd.concat(axis=1) instead. To get a de-fragmented frame, use `newframe = frame.copy()`\n",
            "  df.at[i, col] = df2.iloc[1, df2.columns.get_loc(col)]\n",
            "<ipython-input-62-fce11dd3a64a>:40: PerformanceWarning: DataFrame is highly fragmented.  This is usually the result of calling `frame.insert` many times, which has poor performance.  Consider joining all columns at once using pd.concat(axis=1) instead. To get a de-fragmented frame, use `newframe = frame.copy()`\n",
            "  df.at[i, col] = df2.iloc[1, df2.columns.get_loc(col)]\n",
            "<ipython-input-62-fce11dd3a64a>:40: PerformanceWarning: DataFrame is highly fragmented.  This is usually the result of calling `frame.insert` many times, which has poor performance.  Consider joining all columns at once using pd.concat(axis=1) instead. To get a de-fragmented frame, use `newframe = frame.copy()`\n",
            "  df.at[i, col] = df2.iloc[1, df2.columns.get_loc(col)]\n",
            "<ipython-input-62-fce11dd3a64a>:40: PerformanceWarning: DataFrame is highly fragmented.  This is usually the result of calling `frame.insert` many times, which has poor performance.  Consider joining all columns at once using pd.concat(axis=1) instead. To get a de-fragmented frame, use `newframe = frame.copy()`\n",
            "  df.at[i, col] = df2.iloc[1, df2.columns.get_loc(col)]\n",
            "<ipython-input-62-fce11dd3a64a>:40: PerformanceWarning: DataFrame is highly fragmented.  This is usually the result of calling `frame.insert` many times, which has poor performance.  Consider joining all columns at once using pd.concat(axis=1) instead. To get a de-fragmented frame, use `newframe = frame.copy()`\n",
            "  df.at[i, col] = df2.iloc[1, df2.columns.get_loc(col)]\n"
          ]
        },
        {
          "output_type": "stream",
          "name": "stdout",
          "text": [
            "2200\n"
          ]
        },
        {
          "output_type": "stream",
          "name": "stderr",
          "text": [
            "<ipython-input-62-fce11dd3a64a>:40: PerformanceWarning: DataFrame is highly fragmented.  This is usually the result of calling `frame.insert` many times, which has poor performance.  Consider joining all columns at once using pd.concat(axis=1) instead. To get a de-fragmented frame, use `newframe = frame.copy()`\n",
            "  df.at[i, col] = df2.iloc[1, df2.columns.get_loc(col)]\n",
            "<ipython-input-62-fce11dd3a64a>:40: PerformanceWarning: DataFrame is highly fragmented.  This is usually the result of calling `frame.insert` many times, which has poor performance.  Consider joining all columns at once using pd.concat(axis=1) instead. To get a de-fragmented frame, use `newframe = frame.copy()`\n",
            "  df.at[i, col] = df2.iloc[1, df2.columns.get_loc(col)]\n",
            "<ipython-input-62-fce11dd3a64a>:40: PerformanceWarning: DataFrame is highly fragmented.  This is usually the result of calling `frame.insert` many times, which has poor performance.  Consider joining all columns at once using pd.concat(axis=1) instead. To get a de-fragmented frame, use `newframe = frame.copy()`\n",
            "  df.at[i, col] = df2.iloc[1, df2.columns.get_loc(col)]\n",
            "<ipython-input-62-fce11dd3a64a>:40: PerformanceWarning: DataFrame is highly fragmented.  This is usually the result of calling `frame.insert` many times, which has poor performance.  Consider joining all columns at once using pd.concat(axis=1) instead. To get a de-fragmented frame, use `newframe = frame.copy()`\n",
            "  df.at[i, col] = df2.iloc[1, df2.columns.get_loc(col)]\n",
            "<ipython-input-62-fce11dd3a64a>:40: PerformanceWarning: DataFrame is highly fragmented.  This is usually the result of calling `frame.insert` many times, which has poor performance.  Consider joining all columns at once using pd.concat(axis=1) instead. To get a de-fragmented frame, use `newframe = frame.copy()`\n",
            "  df.at[i, col] = df2.iloc[1, df2.columns.get_loc(col)]\n",
            "<ipython-input-62-fce11dd3a64a>:40: PerformanceWarning: DataFrame is highly fragmented.  This is usually the result of calling `frame.insert` many times, which has poor performance.  Consider joining all columns at once using pd.concat(axis=1) instead. To get a de-fragmented frame, use `newframe = frame.copy()`\n",
            "  df.at[i, col] = df2.iloc[1, df2.columns.get_loc(col)]\n",
            "<ipython-input-62-fce11dd3a64a>:40: PerformanceWarning: DataFrame is highly fragmented.  This is usually the result of calling `frame.insert` many times, which has poor performance.  Consider joining all columns at once using pd.concat(axis=1) instead. To get a de-fragmented frame, use `newframe = frame.copy()`\n",
            "  df.at[i, col] = df2.iloc[1, df2.columns.get_loc(col)]\n",
            "<ipython-input-62-fce11dd3a64a>:40: PerformanceWarning: DataFrame is highly fragmented.  This is usually the result of calling `frame.insert` many times, which has poor performance.  Consider joining all columns at once using pd.concat(axis=1) instead. To get a de-fragmented frame, use `newframe = frame.copy()`\n",
            "  df.at[i, col] = df2.iloc[1, df2.columns.get_loc(col)]\n",
            "<ipython-input-62-fce11dd3a64a>:40: PerformanceWarning: DataFrame is highly fragmented.  This is usually the result of calling `frame.insert` many times, which has poor performance.  Consider joining all columns at once using pd.concat(axis=1) instead. To get a de-fragmented frame, use `newframe = frame.copy()`\n",
            "  df.at[i, col] = df2.iloc[1, df2.columns.get_loc(col)]\n",
            "<ipython-input-62-fce11dd3a64a>:40: PerformanceWarning: DataFrame is highly fragmented.  This is usually the result of calling `frame.insert` many times, which has poor performance.  Consider joining all columns at once using pd.concat(axis=1) instead. To get a de-fragmented frame, use `newframe = frame.copy()`\n",
            "  df.at[i, col] = df2.iloc[1, df2.columns.get_loc(col)]\n",
            "<ipython-input-62-fce11dd3a64a>:40: PerformanceWarning: DataFrame is highly fragmented.  This is usually the result of calling `frame.insert` many times, which has poor performance.  Consider joining all columns at once using pd.concat(axis=1) instead. To get a de-fragmented frame, use `newframe = frame.copy()`\n",
            "  df.at[i, col] = df2.iloc[1, df2.columns.get_loc(col)]\n",
            "<ipython-input-62-fce11dd3a64a>:40: PerformanceWarning: DataFrame is highly fragmented.  This is usually the result of calling `frame.insert` many times, which has poor performance.  Consider joining all columns at once using pd.concat(axis=1) instead. To get a de-fragmented frame, use `newframe = frame.copy()`\n",
            "  df.at[i, col] = df2.iloc[1, df2.columns.get_loc(col)]\n"
          ]
        },
        {
          "output_type": "stream",
          "name": "stdout",
          "text": [
            "2250\n"
          ]
        },
        {
          "output_type": "stream",
          "name": "stderr",
          "text": [
            "<ipython-input-62-fce11dd3a64a>:40: PerformanceWarning: DataFrame is highly fragmented.  This is usually the result of calling `frame.insert` many times, which has poor performance.  Consider joining all columns at once using pd.concat(axis=1) instead. To get a de-fragmented frame, use `newframe = frame.copy()`\n",
            "  df.at[i, col] = df2.iloc[1, df2.columns.get_loc(col)]\n",
            "<ipython-input-62-fce11dd3a64a>:40: PerformanceWarning: DataFrame is highly fragmented.  This is usually the result of calling `frame.insert` many times, which has poor performance.  Consider joining all columns at once using pd.concat(axis=1) instead. To get a de-fragmented frame, use `newframe = frame.copy()`\n",
            "  df.at[i, col] = df2.iloc[1, df2.columns.get_loc(col)]\n",
            "<ipython-input-62-fce11dd3a64a>:40: PerformanceWarning: DataFrame is highly fragmented.  This is usually the result of calling `frame.insert` many times, which has poor performance.  Consider joining all columns at once using pd.concat(axis=1) instead. To get a de-fragmented frame, use `newframe = frame.copy()`\n",
            "  df.at[i, col] = df2.iloc[1, df2.columns.get_loc(col)]\n",
            "<ipython-input-62-fce11dd3a64a>:40: PerformanceWarning: DataFrame is highly fragmented.  This is usually the result of calling `frame.insert` many times, which has poor performance.  Consider joining all columns at once using pd.concat(axis=1) instead. To get a de-fragmented frame, use `newframe = frame.copy()`\n",
            "  df.at[i, col] = df2.iloc[1, df2.columns.get_loc(col)]\n",
            "<ipython-input-62-fce11dd3a64a>:40: PerformanceWarning: DataFrame is highly fragmented.  This is usually the result of calling `frame.insert` many times, which has poor performance.  Consider joining all columns at once using pd.concat(axis=1) instead. To get a de-fragmented frame, use `newframe = frame.copy()`\n",
            "  df.at[i, col] = df2.iloc[1, df2.columns.get_loc(col)]\n",
            "<ipython-input-62-fce11dd3a64a>:40: PerformanceWarning: DataFrame is highly fragmented.  This is usually the result of calling `frame.insert` many times, which has poor performance.  Consider joining all columns at once using pd.concat(axis=1) instead. To get a de-fragmented frame, use `newframe = frame.copy()`\n",
            "  df.at[i, col] = df2.iloc[1, df2.columns.get_loc(col)]\n",
            "<ipython-input-62-fce11dd3a64a>:40: PerformanceWarning: DataFrame is highly fragmented.  This is usually the result of calling `frame.insert` many times, which has poor performance.  Consider joining all columns at once using pd.concat(axis=1) instead. To get a de-fragmented frame, use `newframe = frame.copy()`\n",
            "  df.at[i, col] = df2.iloc[1, df2.columns.get_loc(col)]\n",
            "<ipython-input-62-fce11dd3a64a>:40: PerformanceWarning: DataFrame is highly fragmented.  This is usually the result of calling `frame.insert` many times, which has poor performance.  Consider joining all columns at once using pd.concat(axis=1) instead. To get a de-fragmented frame, use `newframe = frame.copy()`\n",
            "  df.at[i, col] = df2.iloc[1, df2.columns.get_loc(col)]\n",
            "<ipython-input-62-fce11dd3a64a>:40: PerformanceWarning: DataFrame is highly fragmented.  This is usually the result of calling `frame.insert` many times, which has poor performance.  Consider joining all columns at once using pd.concat(axis=1) instead. To get a de-fragmented frame, use `newframe = frame.copy()`\n",
            "  df.at[i, col] = df2.iloc[1, df2.columns.get_loc(col)]\n",
            "<ipython-input-62-fce11dd3a64a>:40: PerformanceWarning: DataFrame is highly fragmented.  This is usually the result of calling `frame.insert` many times, which has poor performance.  Consider joining all columns at once using pd.concat(axis=1) instead. To get a de-fragmented frame, use `newframe = frame.copy()`\n",
            "  df.at[i, col] = df2.iloc[1, df2.columns.get_loc(col)]\n"
          ]
        },
        {
          "output_type": "stream",
          "name": "stdout",
          "text": [
            "2300\n"
          ]
        },
        {
          "output_type": "stream",
          "name": "stderr",
          "text": [
            "<ipython-input-62-fce11dd3a64a>:40: PerformanceWarning: DataFrame is highly fragmented.  This is usually the result of calling `frame.insert` many times, which has poor performance.  Consider joining all columns at once using pd.concat(axis=1) instead. To get a de-fragmented frame, use `newframe = frame.copy()`\n",
            "  df.at[i, col] = df2.iloc[1, df2.columns.get_loc(col)]\n",
            "<ipython-input-62-fce11dd3a64a>:40: PerformanceWarning: DataFrame is highly fragmented.  This is usually the result of calling `frame.insert` many times, which has poor performance.  Consider joining all columns at once using pd.concat(axis=1) instead. To get a de-fragmented frame, use `newframe = frame.copy()`\n",
            "  df.at[i, col] = df2.iloc[1, df2.columns.get_loc(col)]\n",
            "<ipython-input-62-fce11dd3a64a>:40: PerformanceWarning: DataFrame is highly fragmented.  This is usually the result of calling `frame.insert` many times, which has poor performance.  Consider joining all columns at once using pd.concat(axis=1) instead. To get a de-fragmented frame, use `newframe = frame.copy()`\n",
            "  df.at[i, col] = df2.iloc[1, df2.columns.get_loc(col)]\n",
            "<ipython-input-62-fce11dd3a64a>:40: PerformanceWarning: DataFrame is highly fragmented.  This is usually the result of calling `frame.insert` many times, which has poor performance.  Consider joining all columns at once using pd.concat(axis=1) instead. To get a de-fragmented frame, use `newframe = frame.copy()`\n",
            "  df.at[i, col] = df2.iloc[1, df2.columns.get_loc(col)]\n",
            "<ipython-input-62-fce11dd3a64a>:40: PerformanceWarning: DataFrame is highly fragmented.  This is usually the result of calling `frame.insert` many times, which has poor performance.  Consider joining all columns at once using pd.concat(axis=1) instead. To get a de-fragmented frame, use `newframe = frame.copy()`\n",
            "  df.at[i, col] = df2.iloc[1, df2.columns.get_loc(col)]\n",
            "<ipython-input-62-fce11dd3a64a>:40: PerformanceWarning: DataFrame is highly fragmented.  This is usually the result of calling `frame.insert` many times, which has poor performance.  Consider joining all columns at once using pd.concat(axis=1) instead. To get a de-fragmented frame, use `newframe = frame.copy()`\n",
            "  df.at[i, col] = df2.iloc[1, df2.columns.get_loc(col)]\n"
          ]
        },
        {
          "output_type": "stream",
          "name": "stdout",
          "text": [
            "2350\n"
          ]
        },
        {
          "output_type": "stream",
          "name": "stderr",
          "text": [
            "<ipython-input-62-fce11dd3a64a>:40: PerformanceWarning: DataFrame is highly fragmented.  This is usually the result of calling `frame.insert` many times, which has poor performance.  Consider joining all columns at once using pd.concat(axis=1) instead. To get a de-fragmented frame, use `newframe = frame.copy()`\n",
            "  df.at[i, col] = df2.iloc[1, df2.columns.get_loc(col)]\n",
            "<ipython-input-62-fce11dd3a64a>:40: PerformanceWarning: DataFrame is highly fragmented.  This is usually the result of calling `frame.insert` many times, which has poor performance.  Consider joining all columns at once using pd.concat(axis=1) instead. To get a de-fragmented frame, use `newframe = frame.copy()`\n",
            "  df.at[i, col] = df2.iloc[1, df2.columns.get_loc(col)]\n",
            "<ipython-input-62-fce11dd3a64a>:40: PerformanceWarning: DataFrame is highly fragmented.  This is usually the result of calling `frame.insert` many times, which has poor performance.  Consider joining all columns at once using pd.concat(axis=1) instead. To get a de-fragmented frame, use `newframe = frame.copy()`\n",
            "  df.at[i, col] = df2.iloc[1, df2.columns.get_loc(col)]\n",
            "<ipython-input-62-fce11dd3a64a>:40: PerformanceWarning: DataFrame is highly fragmented.  This is usually the result of calling `frame.insert` many times, which has poor performance.  Consider joining all columns at once using pd.concat(axis=1) instead. To get a de-fragmented frame, use `newframe = frame.copy()`\n",
            "  df.at[i, col] = df2.iloc[1, df2.columns.get_loc(col)]\n",
            "<ipython-input-62-fce11dd3a64a>:40: PerformanceWarning: DataFrame is highly fragmented.  This is usually the result of calling `frame.insert` many times, which has poor performance.  Consider joining all columns at once using pd.concat(axis=1) instead. To get a de-fragmented frame, use `newframe = frame.copy()`\n",
            "  df.at[i, col] = df2.iloc[1, df2.columns.get_loc(col)]\n",
            "<ipython-input-62-fce11dd3a64a>:40: PerformanceWarning: DataFrame is highly fragmented.  This is usually the result of calling `frame.insert` many times, which has poor performance.  Consider joining all columns at once using pd.concat(axis=1) instead. To get a de-fragmented frame, use `newframe = frame.copy()`\n",
            "  df.at[i, col] = df2.iloc[1, df2.columns.get_loc(col)]\n",
            "<ipython-input-62-fce11dd3a64a>:40: PerformanceWarning: DataFrame is highly fragmented.  This is usually the result of calling `frame.insert` many times, which has poor performance.  Consider joining all columns at once using pd.concat(axis=1) instead. To get a de-fragmented frame, use `newframe = frame.copy()`\n",
            "  df.at[i, col] = df2.iloc[1, df2.columns.get_loc(col)]\n",
            "<ipython-input-62-fce11dd3a64a>:40: PerformanceWarning: DataFrame is highly fragmented.  This is usually the result of calling `frame.insert` many times, which has poor performance.  Consider joining all columns at once using pd.concat(axis=1) instead. To get a de-fragmented frame, use `newframe = frame.copy()`\n",
            "  df.at[i, col] = df2.iloc[1, df2.columns.get_loc(col)]\n",
            "<ipython-input-62-fce11dd3a64a>:40: PerformanceWarning: DataFrame is highly fragmented.  This is usually the result of calling `frame.insert` many times, which has poor performance.  Consider joining all columns at once using pd.concat(axis=1) instead. To get a de-fragmented frame, use `newframe = frame.copy()`\n",
            "  df.at[i, col] = df2.iloc[1, df2.columns.get_loc(col)]\n",
            "<ipython-input-62-fce11dd3a64a>:40: PerformanceWarning: DataFrame is highly fragmented.  This is usually the result of calling `frame.insert` many times, which has poor performance.  Consider joining all columns at once using pd.concat(axis=1) instead. To get a de-fragmented frame, use `newframe = frame.copy()`\n",
            "  df.at[i, col] = df2.iloc[1, df2.columns.get_loc(col)]\n",
            "<ipython-input-62-fce11dd3a64a>:40: PerformanceWarning: DataFrame is highly fragmented.  This is usually the result of calling `frame.insert` many times, which has poor performance.  Consider joining all columns at once using pd.concat(axis=1) instead. To get a de-fragmented frame, use `newframe = frame.copy()`\n",
            "  df.at[i, col] = df2.iloc[1, df2.columns.get_loc(col)]\n",
            "<ipython-input-62-fce11dd3a64a>:40: PerformanceWarning: DataFrame is highly fragmented.  This is usually the result of calling `frame.insert` many times, which has poor performance.  Consider joining all columns at once using pd.concat(axis=1) instead. To get a de-fragmented frame, use `newframe = frame.copy()`\n",
            "  df.at[i, col] = df2.iloc[1, df2.columns.get_loc(col)]\n"
          ]
        },
        {
          "output_type": "stream",
          "name": "stdout",
          "text": [
            "2400\n"
          ]
        },
        {
          "output_type": "stream",
          "name": "stderr",
          "text": [
            "<ipython-input-62-fce11dd3a64a>:40: PerformanceWarning: DataFrame is highly fragmented.  This is usually the result of calling `frame.insert` many times, which has poor performance.  Consider joining all columns at once using pd.concat(axis=1) instead. To get a de-fragmented frame, use `newframe = frame.copy()`\n",
            "  df.at[i, col] = df2.iloc[1, df2.columns.get_loc(col)]\n",
            "<ipython-input-62-fce11dd3a64a>:40: PerformanceWarning: DataFrame is highly fragmented.  This is usually the result of calling `frame.insert` many times, which has poor performance.  Consider joining all columns at once using pd.concat(axis=1) instead. To get a de-fragmented frame, use `newframe = frame.copy()`\n",
            "  df.at[i, col] = df2.iloc[1, df2.columns.get_loc(col)]\n",
            "<ipython-input-62-fce11dd3a64a>:40: PerformanceWarning: DataFrame is highly fragmented.  This is usually the result of calling `frame.insert` many times, which has poor performance.  Consider joining all columns at once using pd.concat(axis=1) instead. To get a de-fragmented frame, use `newframe = frame.copy()`\n",
            "  df.at[i, col] = df2.iloc[1, df2.columns.get_loc(col)]\n",
            "<ipython-input-62-fce11dd3a64a>:40: PerformanceWarning: DataFrame is highly fragmented.  This is usually the result of calling `frame.insert` many times, which has poor performance.  Consider joining all columns at once using pd.concat(axis=1) instead. To get a de-fragmented frame, use `newframe = frame.copy()`\n",
            "  df.at[i, col] = df2.iloc[1, df2.columns.get_loc(col)]\n",
            "<ipython-input-62-fce11dd3a64a>:40: PerformanceWarning: DataFrame is highly fragmented.  This is usually the result of calling `frame.insert` many times, which has poor performance.  Consider joining all columns at once using pd.concat(axis=1) instead. To get a de-fragmented frame, use `newframe = frame.copy()`\n",
            "  df.at[i, col] = df2.iloc[1, df2.columns.get_loc(col)]\n",
            "<ipython-input-62-fce11dd3a64a>:40: PerformanceWarning: DataFrame is highly fragmented.  This is usually the result of calling `frame.insert` many times, which has poor performance.  Consider joining all columns at once using pd.concat(axis=1) instead. To get a de-fragmented frame, use `newframe = frame.copy()`\n",
            "  df.at[i, col] = df2.iloc[1, df2.columns.get_loc(col)]\n",
            "<ipython-input-62-fce11dd3a64a>:40: PerformanceWarning: DataFrame is highly fragmented.  This is usually the result of calling `frame.insert` many times, which has poor performance.  Consider joining all columns at once using pd.concat(axis=1) instead. To get a de-fragmented frame, use `newframe = frame.copy()`\n",
            "  df.at[i, col] = df2.iloc[1, df2.columns.get_loc(col)]\n",
            "<ipython-input-62-fce11dd3a64a>:40: PerformanceWarning: DataFrame is highly fragmented.  This is usually the result of calling `frame.insert` many times, which has poor performance.  Consider joining all columns at once using pd.concat(axis=1) instead. To get a de-fragmented frame, use `newframe = frame.copy()`\n",
            "  df.at[i, col] = df2.iloc[1, df2.columns.get_loc(col)]\n",
            "<ipython-input-62-fce11dd3a64a>:40: PerformanceWarning: DataFrame is highly fragmented.  This is usually the result of calling `frame.insert` many times, which has poor performance.  Consider joining all columns at once using pd.concat(axis=1) instead. To get a de-fragmented frame, use `newframe = frame.copy()`\n",
            "  df.at[i, col] = df2.iloc[1, df2.columns.get_loc(col)]\n",
            "<ipython-input-62-fce11dd3a64a>:40: PerformanceWarning: DataFrame is highly fragmented.  This is usually the result of calling `frame.insert` many times, which has poor performance.  Consider joining all columns at once using pd.concat(axis=1) instead. To get a de-fragmented frame, use `newframe = frame.copy()`\n",
            "  df.at[i, col] = df2.iloc[1, df2.columns.get_loc(col)]\n",
            "<ipython-input-62-fce11dd3a64a>:40: PerformanceWarning: DataFrame is highly fragmented.  This is usually the result of calling `frame.insert` many times, which has poor performance.  Consider joining all columns at once using pd.concat(axis=1) instead. To get a de-fragmented frame, use `newframe = frame.copy()`\n",
            "  df.at[i, col] = df2.iloc[1, df2.columns.get_loc(col)]\n",
            "<ipython-input-62-fce11dd3a64a>:40: PerformanceWarning: DataFrame is highly fragmented.  This is usually the result of calling `frame.insert` many times, which has poor performance.  Consider joining all columns at once using pd.concat(axis=1) instead. To get a de-fragmented frame, use `newframe = frame.copy()`\n",
            "  df.at[i, col] = df2.iloc[1, df2.columns.get_loc(col)]\n",
            "<ipython-input-62-fce11dd3a64a>:40: PerformanceWarning: DataFrame is highly fragmented.  This is usually the result of calling `frame.insert` many times, which has poor performance.  Consider joining all columns at once using pd.concat(axis=1) instead. To get a de-fragmented frame, use `newframe = frame.copy()`\n",
            "  df.at[i, col] = df2.iloc[1, df2.columns.get_loc(col)]\n"
          ]
        },
        {
          "output_type": "stream",
          "name": "stdout",
          "text": [
            "2450\n"
          ]
        },
        {
          "output_type": "stream",
          "name": "stderr",
          "text": [
            "<ipython-input-62-fce11dd3a64a>:40: PerformanceWarning: DataFrame is highly fragmented.  This is usually the result of calling `frame.insert` many times, which has poor performance.  Consider joining all columns at once using pd.concat(axis=1) instead. To get a de-fragmented frame, use `newframe = frame.copy()`\n",
            "  df.at[i, col] = df2.iloc[1, df2.columns.get_loc(col)]\n",
            "<ipython-input-62-fce11dd3a64a>:40: PerformanceWarning: DataFrame is highly fragmented.  This is usually the result of calling `frame.insert` many times, which has poor performance.  Consider joining all columns at once using pd.concat(axis=1) instead. To get a de-fragmented frame, use `newframe = frame.copy()`\n",
            "  df.at[i, col] = df2.iloc[1, df2.columns.get_loc(col)]\n",
            "<ipython-input-62-fce11dd3a64a>:40: PerformanceWarning: DataFrame is highly fragmented.  This is usually the result of calling `frame.insert` many times, which has poor performance.  Consider joining all columns at once using pd.concat(axis=1) instead. To get a de-fragmented frame, use `newframe = frame.copy()`\n",
            "  df.at[i, col] = df2.iloc[1, df2.columns.get_loc(col)]\n",
            "<ipython-input-62-fce11dd3a64a>:40: PerformanceWarning: DataFrame is highly fragmented.  This is usually the result of calling `frame.insert` many times, which has poor performance.  Consider joining all columns at once using pd.concat(axis=1) instead. To get a de-fragmented frame, use `newframe = frame.copy()`\n",
            "  df.at[i, col] = df2.iloc[1, df2.columns.get_loc(col)]\n",
            "<ipython-input-62-fce11dd3a64a>:40: PerformanceWarning: DataFrame is highly fragmented.  This is usually the result of calling `frame.insert` many times, which has poor performance.  Consider joining all columns at once using pd.concat(axis=1) instead. To get a de-fragmented frame, use `newframe = frame.copy()`\n",
            "  df.at[i, col] = df2.iloc[1, df2.columns.get_loc(col)]\n"
          ]
        },
        {
          "output_type": "stream",
          "name": "stdout",
          "text": [
            "2500\n"
          ]
        },
        {
          "output_type": "stream",
          "name": "stderr",
          "text": [
            "<ipython-input-62-fce11dd3a64a>:40: PerformanceWarning: DataFrame is highly fragmented.  This is usually the result of calling `frame.insert` many times, which has poor performance.  Consider joining all columns at once using pd.concat(axis=1) instead. To get a de-fragmented frame, use `newframe = frame.copy()`\n",
            "  df.at[i, col] = df2.iloc[1, df2.columns.get_loc(col)]\n",
            "<ipython-input-62-fce11dd3a64a>:40: PerformanceWarning: DataFrame is highly fragmented.  This is usually the result of calling `frame.insert` many times, which has poor performance.  Consider joining all columns at once using pd.concat(axis=1) instead. To get a de-fragmented frame, use `newframe = frame.copy()`\n",
            "  df.at[i, col] = df2.iloc[1, df2.columns.get_loc(col)]\n",
            "<ipython-input-62-fce11dd3a64a>:40: PerformanceWarning: DataFrame is highly fragmented.  This is usually the result of calling `frame.insert` many times, which has poor performance.  Consider joining all columns at once using pd.concat(axis=1) instead. To get a de-fragmented frame, use `newframe = frame.copy()`\n",
            "  df.at[i, col] = df2.iloc[1, df2.columns.get_loc(col)]\n",
            "<ipython-input-62-fce11dd3a64a>:40: PerformanceWarning: DataFrame is highly fragmented.  This is usually the result of calling `frame.insert` many times, which has poor performance.  Consider joining all columns at once using pd.concat(axis=1) instead. To get a de-fragmented frame, use `newframe = frame.copy()`\n",
            "  df.at[i, col] = df2.iloc[1, df2.columns.get_loc(col)]\n",
            "<ipython-input-62-fce11dd3a64a>:40: PerformanceWarning: DataFrame is highly fragmented.  This is usually the result of calling `frame.insert` many times, which has poor performance.  Consider joining all columns at once using pd.concat(axis=1) instead. To get a de-fragmented frame, use `newframe = frame.copy()`\n",
            "  df.at[i, col] = df2.iloc[1, df2.columns.get_loc(col)]\n",
            "<ipython-input-62-fce11dd3a64a>:40: PerformanceWarning: DataFrame is highly fragmented.  This is usually the result of calling `frame.insert` many times, which has poor performance.  Consider joining all columns at once using pd.concat(axis=1) instead. To get a de-fragmented frame, use `newframe = frame.copy()`\n",
            "  df.at[i, col] = df2.iloc[1, df2.columns.get_loc(col)]\n",
            "<ipython-input-62-fce11dd3a64a>:40: PerformanceWarning: DataFrame is highly fragmented.  This is usually the result of calling `frame.insert` many times, which has poor performance.  Consider joining all columns at once using pd.concat(axis=1) instead. To get a de-fragmented frame, use `newframe = frame.copy()`\n",
            "  df.at[i, col] = df2.iloc[1, df2.columns.get_loc(col)]\n",
            "<ipython-input-62-fce11dd3a64a>:40: PerformanceWarning: DataFrame is highly fragmented.  This is usually the result of calling `frame.insert` many times, which has poor performance.  Consider joining all columns at once using pd.concat(axis=1) instead. To get a de-fragmented frame, use `newframe = frame.copy()`\n",
            "  df.at[i, col] = df2.iloc[1, df2.columns.get_loc(col)]\n",
            "<ipython-input-62-fce11dd3a64a>:40: PerformanceWarning: DataFrame is highly fragmented.  This is usually the result of calling `frame.insert` many times, which has poor performance.  Consider joining all columns at once using pd.concat(axis=1) instead. To get a de-fragmented frame, use `newframe = frame.copy()`\n",
            "  df.at[i, col] = df2.iloc[1, df2.columns.get_loc(col)]\n",
            "<ipython-input-62-fce11dd3a64a>:40: PerformanceWarning: DataFrame is highly fragmented.  This is usually the result of calling `frame.insert` many times, which has poor performance.  Consider joining all columns at once using pd.concat(axis=1) instead. To get a de-fragmented frame, use `newframe = frame.copy()`\n",
            "  df.at[i, col] = df2.iloc[1, df2.columns.get_loc(col)]\n",
            "<ipython-input-62-fce11dd3a64a>:40: PerformanceWarning: DataFrame is highly fragmented.  This is usually the result of calling `frame.insert` many times, which has poor performance.  Consider joining all columns at once using pd.concat(axis=1) instead. To get a de-fragmented frame, use `newframe = frame.copy()`\n",
            "  df.at[i, col] = df2.iloc[1, df2.columns.get_loc(col)]\n"
          ]
        },
        {
          "output_type": "stream",
          "name": "stdout",
          "text": [
            "Data has been saved to CSV file.\n"
          ]
        }
      ]
    },
    {
      "cell_type": "code",
      "source": [
        "\n"
      ],
      "metadata": {
        "colab": {
          "base_uri": "https://localhost:8080/"
        },
        "id": "bbB0p1dyjiDV",
        "outputId": "34da16f4-7ffb-4fea-d826-f18b64671367"
      },
      "execution_count": 59,
      "outputs": [
        {
          "output_type": "stream",
          "name": "stdout",
          "text": [
            "Data has been saved to CSV file.\n"
          ]
        }
      ]
    },
    {
      "cell_type": "code",
      "source": [],
      "metadata": {
        "id": "eZwPHMOrBBQX"
      },
      "execution_count": null,
      "outputs": []
    }
  ]
}