{
  "nbformat": 4,
  "nbformat_minor": 0,
  "metadata": {
    "colab": {
      "provenance": [],
      "authorship_tag": "ABX9TyPa5V6JHRZrByaPZyCf8Xwc",
      "include_colab_link": true
    },
    "kernelspec": {
      "name": "python3",
      "display_name": "Python 3"
    },
    "language_info": {
      "name": "python"
    }
  },
  "cells": [
    {
      "cell_type": "markdown",
      "metadata": {
        "id": "view-in-github",
        "colab_type": "text"
      },
      "source": [
        "<a href=\"https://colab.research.google.com/github/Satyampatil513/DTE_Maharashtra_CutOff/blob/main/Untitled5.ipynb\" target=\"_parent\"><img src=\"https://colab.research.google.com/assets/colab-badge.svg\" alt=\"Open In Colab\"/></a>"
      ]
    },
    {
      "cell_type": "code",
      "execution_count": 1,
      "metadata": {
        "id": "YqHc49VnE1Xe"
      },
      "outputs": [],
      "source": [
        "pattern = r\"(\\d+ - [^\\n]+)\\n(\\d+ - [^\\n]+)\""
      ]
    },
    {
      "cell_type": "code",
      "source": [
        "!pip install tabula-py"
      ],
      "metadata": {
        "colab": {
          "base_uri": "https://localhost:8080/"
        },
        "id": "pg4ljWAfFI3C",
        "outputId": "03e573f6-af9c-4d2c-974d-e88c33df159d"
      },
      "execution_count": 2,
      "outputs": [
        {
          "output_type": "stream",
          "name": "stdout",
          "text": [
            "Collecting tabula-py\n",
            "  Downloading tabula_py-2.7.0-py3-none-any.whl (12.0 MB)\n",
            "\u001b[2K     \u001b[90m━━━━━━━━━━━━━━━━━━━━━━━━━━━━━━━━━━━━━━━━\u001b[0m \u001b[32m12.0/12.0 MB\u001b[0m \u001b[31m21.7 MB/s\u001b[0m eta \u001b[36m0:00:00\u001b[0m\n",
            "\u001b[?25hRequirement already satisfied: pandas>=0.25.3 in /usr/local/lib/python3.10/dist-packages (from tabula-py) (1.5.3)\n",
            "Requirement already satisfied: numpy in /usr/local/lib/python3.10/dist-packages (from tabula-py) (1.22.4)\n",
            "Requirement already satisfied: distro in /usr/lib/python3/dist-packages (from tabula-py) (1.7.0)\n",
            "Requirement already satisfied: python-dateutil>=2.8.1 in /usr/local/lib/python3.10/dist-packages (from pandas>=0.25.3->tabula-py) (2.8.2)\n",
            "Requirement already satisfied: pytz>=2020.1 in /usr/local/lib/python3.10/dist-packages (from pandas>=0.25.3->tabula-py) (2022.7.1)\n",
            "Requirement already satisfied: six>=1.5 in /usr/local/lib/python3.10/dist-packages (from python-dateutil>=2.8.1->pandas>=0.25.3->tabula-py) (1.16.0)\n",
            "Installing collected packages: tabula-py\n",
            "Successfully installed tabula-py-2.7.0\n"
          ]
        }
      ]
    },
    {
      "cell_type": "code",
      "source": [
        "!pip install PyPDF2\n"
      ],
      "metadata": {
        "colab": {
          "base_uri": "https://localhost:8080/"
        },
        "id": "GRR7TS96FhD3",
        "outputId": "32d83aa7-9d31-45d6-f5cd-246db6a7fed2"
      },
      "execution_count": 3,
      "outputs": [
        {
          "output_type": "stream",
          "name": "stdout",
          "text": [
            "Collecting PyPDF2\n",
            "  Downloading pypdf2-3.0.1-py3-none-any.whl (232 kB)\n",
            "\u001b[?25l     \u001b[90m━━━━━━━━━━━━━━━━━━━━━━━━━━━━━━━━━━━━━━━━\u001b[0m \u001b[32m0.0/232.6 kB\u001b[0m \u001b[31m?\u001b[0m eta \u001b[36m-:--:--\u001b[0m\r\u001b[2K     \u001b[91m━━━━━━━━━━\u001b[0m\u001b[91m╸\u001b[0m\u001b[90m━━━━━━━━━━━━━━━━━━━━━━━━━━━━━\u001b[0m \u001b[32m61.4/232.6 kB\u001b[0m \u001b[31m1.8 MB/s\u001b[0m eta \u001b[36m0:00:01\u001b[0m\r\u001b[2K     \u001b[90m━━━━━━━━━━━━━━━━━━━━━━━━━━━━━━━━━━━━━━━\u001b[0m \u001b[32m232.6/232.6 kB\u001b[0m \u001b[31m3.7 MB/s\u001b[0m eta \u001b[36m0:00:00\u001b[0m\n",
            "\u001b[?25hInstalling collected packages: PyPDF2\n",
            "Successfully installed PyPDF2-3.0.1\n"
          ]
        }
      ]
    },
    {
      "cell_type": "code",
      "source": [
        "import tabula\n",
        "import PyPDF2"
      ],
      "metadata": {
        "id": "XQB2C5NmFq_i"
      },
      "execution_count": 5,
      "outputs": []
    },
    {
      "cell_type": "code",
      "source": [
        "pdf_file = \"/content/2022POSTSSC_CAP1_Cutoff.pdf\""
      ],
      "metadata": {
        "id": "aPzjVg8BFtGJ"
      },
      "execution_count": 6,
      "outputs": []
    },
    {
      "cell_type": "code",
      "source": [
        "import pandas as pd"
      ],
      "metadata": {
        "id": "yH-n6OedFz0O"
      },
      "execution_count": 7,
      "outputs": []
    },
    {
      "cell_type": "code",
      "source": [
        "import PyPDF2\n",
        "import pandas as pd\n",
        "import re\n",
        "import tabula\n",
        "\n",
        "pdf_reader = PyPDF2.PdfReader(pdf_file)\n",
        "df = pd.DataFrame(columns=[\"College\", \"Branch\"])\n",
        "\n",
        "for i in range(1):\n",
        "    page = pdf_reader.pages[50]\n",
        "    text = page.extract_text()\n",
        "    matches = re.findall(pattern, text)\n",
        "\n",
        "    if matches:\n",
        "        college_name, branch_name = matches[0]\n",
        "    else:\n",
        "        college_name, branch_name = \"\", \"\"\n",
        "\n",
        "    df.at[i, 'College'] = college_name\n",
        "    df.at[i, 'Branch'] = branch_name\n",
        "\n",
        "    # Read the data using tabula for the current page (one dataframe per page)\n",
        "    df2_list = tabula.read_pdf(pdf_file, pages=51, multiple_tables=True)\n",
        "    if(i%50==0):\n",
        "      print(i)\n",
        "\n",
        "    for j, df2 in enumerate(df2_list):\n",
        "        df2.columns = df2.iloc[0]\n",
        "        # If df2 has at least 3 rows, drop the 3rd row\n",
        "        if df2.shape[0] >= 3:\n",
        "            df2 = df2.drop(2)\n",
        "\n",
        "        # Reset the index\n",
        "        df2 = df2.reset_index(drop=True)\n",
        "\n",
        "        # Fill the corresponding columns in the main DataFrame (df)\n",
        "        if df2.shape[0] >= 2:  # Check if df2 has at least 2 rows\n",
        "            for col in df2.columns:\n",
        "                if pd.notna(col):  # Check if the column name is not NaN\n",
        "                    df.at[i, col] = df2.iloc[1, df2.columns.get_loc(col)]\n",
        "\n",
        "# Save the DataFrame to the CSV file\n",
        "csv_file_path = \"sheet.csv\"\n",
        "df.to_csv(csv_file_path, index=False)\n",
        "print(\"Data has been saved to CSV file.\")\n"
      ],
      "metadata": {
        "colab": {
          "base_uri": "https://localhost:8080/"
        },
        "id": "O0ZMuB2JF1eC",
        "outputId": "5ca86636-3055-40c8-b467-9455fa6579ce"
      },
      "execution_count": 10,
      "outputs": [
        {
          "output_type": "stream",
          "name": "stdout",
          "text": [
            "0\n",
            "Data has been saved to CSV file.\n"
          ]
        }
      ]
    },
    {
      "cell_type": "code",
      "source": [],
      "metadata": {
        "id": "72gTL1GyF-b8"
      },
      "execution_count": null,
      "outputs": []
    }
  ]
}